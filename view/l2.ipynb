{
 "cells": [
  {
   "cell_type": "code",
   "execution_count": 1,
   "metadata": {},
   "outputs": [],
   "source": [
    "import math\n",
    "import numpy as np"
   ]
  },
  {
   "cell_type": "code",
   "execution_count": 2,
   "metadata": {},
   "outputs": [
    {
     "name": "stderr",
     "output_type": "stream",
     "text": [
      "C:\\Users\\Administrator\\Anaconda2\\lib\\site-packages\\gensim\\utils.py:1197: UserWarning: detected Windows; aliasing chunkize to chunkize_serial\n",
      "  warnings.warn(\"detected Windows; aliasing chunkize to chunkize_serial\")\n"
     ]
    }
   ],
   "source": [
    "import gensim\n",
    "from gensim.models import word2vec\n",
    "model_path = \"models/glove_model2.txt\"\n",
    "#model= word2vec.Word2Vec.load_word2vec_format(model_path,binary=False) #GloVe Model \n",
    "model = gensim.models.KeyedVectors.load_word2vec_format(model_path,binary=False)"
   ]
  },
  {
   "cell_type": "code",
   "execution_count": 3,
   "metadata": {},
   "outputs": [
    {
     "data": {
      "text/plain": [
       "0.6870097141153734"
      ]
     },
     "execution_count": 3,
     "metadata": {},
     "output_type": "execute_result"
    }
   ],
   "source": [
    "model.similarity(\"chest\", \"legs\")"
   ]
  },
  {
   "cell_type": "code",
   "execution_count": 4,
   "metadata": {},
   "outputs": [],
   "source": [
    "def similarity(words1, words2):\n",
    "    shape = np.array(model[words1[0]], dtype = 'float32').shape\n",
    "    words1_vector = np.zeros(shape, dtype = 'float32')\n",
    "    words2_vector = np.zeros(shape, dtype = 'float32')\n",
    "    for word in words1:\n",
    "        words1_vector = words1_vector + np.array(model[word], dtype = 'float32')\n",
    "    for word in words2:\n",
    "        words2_vector = words2_vector + np.array(model[word], dtype = 'float32')\n",
    "        \n",
    "    score = math.sqrt(abs(np.dot(words1_vector, words2_vector)) / np.linalg.norm(words1_vector) / np.linalg.norm(words2_vector))\n",
    "    #print np.dot(words1_vector, words2_vector), '-', np.linalg.norm(word1_vector), '-', np.linalg.norm(word2_vector)\n",
    "    #print np.linalg.norm(words1_vector), '-', np.linalg.norm(model['increase'] + model['temperature'])\n",
    "    print \"Result of comparison of \", words1, \" and \", words2, \" = \", score\n",
    "    \n",
    "filter = ['JJ', 'NN', 'NNS', 'PP', 'NP', 'ADJP', 'VBG', 'VBZ', 'S', 'VB']\n",
    "    \n",
    "def getTreeType(word):\n",
    "    #if filter.index(word.label() >= 0):\n",
    "    if (word.label() in filter):\n",
    "        return True\n",
    "    return False\n",
    "\n",
    "def getType(word, index):\n",
    "    if (word[index] in filter):\n",
    "        return True\n",
    "    return False"
   ]
  },
  {
   "cell_type": "code",
   "execution_count": 5,
   "metadata": {},
   "outputs": [
    {
     "name": "stderr",
     "output_type": "stream",
     "text": [
      "C:\\Users\\Administrator\\Anaconda2\\lib\\site-packages\\ipykernel_launcher.py:9: DeprecationWarning: The StanfordParser will be deprecated\n",
      "Please use \u001b[91mnltk.parse.corenlp.StanforCoreNLPParser\u001b[0m instead.\n",
      "  if __name__ == '__main__':\n"
     ]
    }
   ],
   "source": [
    "from nltk.parse.stanford import StanfordParser\n",
    "import os\n",
    "\n",
    "path_to_jar = \"models/stanford-parser-full-2018-02-27/stanford-parser.jar\"\n",
    "path_to_models_jar = 'models/stanford-parser-full-2018-02-27/stanford-parser-3.9.1-models.jar'\n",
    "\n",
    "os.environ['CLASSPATH'] = \"/home/sda/extrapol/sch.nlp/stanford/stanford-parser-full-2018-02-27/*\"\n",
    "\n",
    "parser = StanfordParser(path_to_jar=path_to_jar, path_to_models_jar=path_to_models_jar)\n",
    "\n"
   ]
  },
  {
   "cell_type": "code",
   "execution_count": 6,
   "metadata": {},
   "outputs": [
    {
     "name": "stdout",
     "output_type": "stream",
     "text": [
      "C:\\workspace\\google_creds.json\n",
      "[u'abdominal pain']\n"
     ]
    }
   ],
   "source": [
    "from google.cloud import translate\n",
    "import os\n",
    "\n",
    "os.environ[\"GOOGLE_APPLICATION_CREDENTIALS\"] = \"C:\\workspace\\google_creds.json\"\n",
    "print os.getenv(\"GOOGLE_APPLICATION_CREDENTIALS\")\n",
    "\n",
    "translate_client = translate.Client()\n",
    "\n",
    "def getTranslation(query_rus, on_print=False):\n",
    "    translation = translate_client.translate(query_rus, target_language='en')\n",
    "    return [translation['translatedText']]\n",
    "    \n",
    "print getTranslation(\"боль в животе\")"
   ]
  },
  {
   "cell_type": "markdown",
   "metadata": {},
   "source": [
    "# Описание процесса перевода и разбора входящего запроса"
   ]
  },
  {
   "cell_type": "code",
   "execution_count": 7,
   "metadata": {},
   "outputs": [
    {
     "name": "stdout",
     "output_type": "stream",
     "text": [
      "[u'my head hurts']\n",
      "[[[u'head', u'hurts']]]\n"
     ]
    }
   ],
   "source": [
    "from nltk import Tree\n",
    "\n",
    "from googletrans import Translator\n",
    "\n",
    "def getTreeRaw(query):\n",
    "    result = parser.raw_parse(query)\n",
    "\n",
    "    output = list(result)\n",
    "    #print output\n",
    "    subtrees = output[0].subtrees(filter = getTreeType)\n",
    "    \n",
    "    return subtrees\n",
    "\n",
    "\n",
    "def getTree(query, on_print = False):\n",
    "    result = parser.raw_parse(query)\n",
    "\n",
    "    output = list(result)\n",
    "    #print output\n",
    "    subtrees = output[0].subtrees(filter = getTreeType)\n",
    "\n",
    "    meanings = []\n",
    "\n",
    "    maxMeaningLength = 0\n",
    "    \n",
    "    for tree in subtrees:\n",
    "\n",
    "        if on_print:\n",
    "            print tree\n",
    "            \n",
    "        poses = tree.pos()\n",
    "\n",
    "        if on_print:\n",
    "            print \"All poses: \", poses\n",
    "\n",
    "        item = []\n",
    "\n",
    "        for pos in poses:\n",
    "            if (getType(pos, 1)):\n",
    "                item.append(pos[0])\n",
    "                #print pos, \"in filter\"\n",
    "\n",
    "        if (not(item in meanings))and(len(item) > 0):\n",
    "            meanings.append(item)\n",
    "            if (len(item) > maxMeaningLength):\n",
    "                maxMeaningLength = len(item)\n",
    "    \n",
    "    return meanings\n",
    "\n",
    "def getTranslationRus(query_eng):\n",
    "    ts = Translator()\n",
    "    \n",
    "    query_rus = ts.translate(query_eng, src='en', dest= 'ru')\n",
    "    \n",
    "    query_rus = query_rus.extra_data['possible-translations'][0][2][0]\n",
    "    \n",
    "    return query_rus\n",
    "\n",
    "\"\"\"\n",
    "def getTranslation(query_rus, on_print = False):\n",
    "    \n",
    "    ts = Translator()\n",
    "\n",
    "    #query_rus = 'раздражение в промежности'\n",
    "\n",
    "    query_eng = ts.translate(query_rus, src='ru', dest= 'en')\n",
    "\n",
    "    #print query_eng.extra_data['possible-translations'][0][2][0][0]\n",
    "    \n",
    "    result = []\n",
    "    \n",
    "    for t in query_eng.extra_data['possible-translations'][0][2]:\n",
    "        result.append(t[0])\n",
    "    \n",
    "    #result.append(query_eng.text)\n",
    "        \n",
    "    if on_print:\n",
    "        print \"All possible translations: \", result\n",
    "    \n",
    "    return result\n",
    "\"\"\"\n",
    "def getTrees(querys):\n",
    "    result = []\n",
    "    maxLength = 0\n",
    "    for t in querys:\n",
    "        meanings = getTree(t)\n",
    "        if (len(meanings)>maxLength):\n",
    "            maxLength = len(meanings)\n",
    "        \n",
    "        maxLength = math.sqrt(maxLength)\n",
    "        #print maxLength\n",
    "        to_append = []\n",
    "        for m in meanings:\n",
    "            if (len(m) >= maxLength):\n",
    "                to_append.append(m)\n",
    "        \n",
    "        result.append(to_append)\n",
    "        \n",
    "    return result\n",
    "\n",
    "query = getTranslation('голова болит')\n",
    "meanings_arr = getTrees(query)\n",
    "\n",
    "print query\n",
    "print meanings_arr"
   ]
  },
  {
   "cell_type": "code",
   "execution_count": null,
   "metadata": {},
   "outputs": [],
   "source": []
  },
  {
   "cell_type": "markdown",
   "metadata": {},
   "source": [
    "# Обновление словарей"
   ]
  },
  {
   "cell_type": "code",
   "execution_count": 8,
   "metadata": {},
   "outputs": [],
   "source": [
    "import pickle\n",
    "\n",
    "with open('sch.synonims.pickle', 'rb') as f:\n",
    "    syn = pickle.load(f)\n",
    "    \n",
    "with open('sch.locuses.pickle', 'rb') as f:\n",
    "    locuses = pickle.load(f)\n",
    "    \n",
    "with open('sch.features.pickle', 'rb') as f:\n",
    "    features = pickle.load(f)\n",
    "    \n",
    "with open('sch.single.pickle', 'rb') as f:\n",
    "    single = pickle.load(f)"
   ]
  },
  {
   "cell_type": "code",
   "execution_count": 9,
   "metadata": {},
   "outputs": [],
   "source": [
    "dictionary = []"
   ]
  },
  {
   "cell_type": "code",
   "execution_count": 10,
   "metadata": {},
   "outputs": [
    {
     "name": "stdout",
     "output_type": "stream",
     "text": [
      "No such word in model  OD\n",
      "No such word in model  OD\n",
      "No such word in model  OD\n",
      "No such word in model  OD\n",
      "No such word in model  OD\n",
      "No such word in model  OD\n",
      "No such word in model  OD\n",
      "No such word in model  OD\n",
      "No such word in model  OD\n",
      "No such word in model  OD\n",
      "No such word in model  OD\n",
      "No such word in model  OD\n",
      "No such word in model  OD\n",
      "No such word in model  tarsum\n",
      "No such word in model  tarsum\n",
      "No such word in model  OD\n",
      "No such word in model  OD\n",
      "No such word in model  underlip\n",
      "No such word in model  OD\n",
      "No such word in model  OD\n",
      "No such word in model  Left\n",
      "No such word in model  Left\n",
      "No such word in model  Left\n",
      "No such word in model  Left\n",
      "No such word in model  Left\n",
      "No such word in model  Left\n",
      "{'locus': [u'leather'], 'symp': [u'icterus'], 'n': 624}\n",
      "{'locus': [u'leather'], 'symp': [u'yellowness', u'of', u'the', u'skin'], 'n': 624}\n",
      "{'locus': [u'skin'], 'symp': [u'icterus'], 'n': 624}\n",
      "{'locus': [u'skin'], 'symp': [u'yellowness', u'of', u'the', u'skin'], 'n': 624}\n",
      "No such word in model  OD\n",
      "No such word in model  OD\n",
      "No such word in model  OD\n",
      "No such word in model  OD\n",
      "No such word in model  OD\n",
      "No such word in model  OD\n",
      "No such word in model  OD\n",
      "No such word in model  OD\n",
      "No such word in model  OD\n",
      "No such word in model  tarsum\n",
      "No such word in model  tarsum\n",
      "No such word in model  tarsum\n",
      "No such word in model  tarsum\n",
      "No such word in model  Left\n",
      "No such word in model  Left\n",
      "No such word in model  Left\n",
      "No such word in model  Left\n",
      "No such word in model  tarsum\n",
      "No such word in model  tarsum\n",
      "No such word in model  tarsum\n",
      "No such word in model  tarsum\n",
      "No such word in model  OD\n",
      "No such word in model  Left\n",
      "No such word in model  Left\n",
      "No such word in model  OD\n",
      "No such word in model  OD\n",
      "No such word in model  OD\n",
      "No such word in model  OD\n",
      "No such word in model  OD\n",
      "No such word in model  OD\n",
      "No such word in model  OD\n",
      "No such word in model  tarsum\n",
      "No such word in model  tarsum\n",
      "No such word in model  OD\n",
      "No such word in model  OD\n",
      "No such word in model  tarsum\n",
      "No such word in model  Left\n",
      "No such word in model  Left\n",
      "No such word in model  Left\n",
      "No such word in model  Left\n",
      "No such word in model  tarsum\n",
      "No such word in model  OD\n",
      "No such word in model  TMJ\n",
      "No such word in model  TMJ\n",
      "No such word in model  OD\n",
      "No such word in model  OD\n",
      "No such word in model  OD\n",
      "No such word in model  OD\n",
      "No such word in model  OD\n",
      "No such word in model  OD\n",
      "No such word in model  OD\n",
      "No such word in model  OD\n",
      "No such word in model  OD\n",
      "No such word in model  OD\n",
      "No such word in model  OD\n",
      "No such word in model  OD\n",
      "No such word in model  OD\n",
      "No such word in model  OD\n",
      "No such word in model  OD\n",
      "No such word in model  OD\n",
      "No such word in model  OD\n",
      "No such word in model  OD\n",
      "No such word in model  OD\n",
      "No such word in model  OD\n",
      "No such word in model  OD\n",
      "No such word in model  OD\n",
      "No such word in model  tarsum\n",
      "No such word in model  Left\n",
      "No such word in model  Left\n",
      "No such word in model  tarsum\n",
      "No such word in model  OD\n",
      "No such word in model  OD\n",
      "No such word in model  OD\n",
      "No such word in model  OD\n",
      "No such word in model  OD\n",
      "No such word in model  OD\n",
      "No such word in model  OD\n",
      "No such word in model  OD\n",
      "No such word in model  underlip\n",
      "No such word in model  underlip\n",
      "No such word in model  Left\n",
      "No such word in model  Left\n",
      "No such word in model  OD\n",
      "No such word in model  OD\n",
      "No such word in model  tarsum\n",
      "No such word in model  Left\n",
      "No such word in model  Left\n",
      "No such word in model  tarsum\n",
      "{'symp': [u'yellowing', u'of', u'the', u'skin'], 'n': 624}\n",
      "{'symp': [u'yellow', u'skin'], 'n': 624}\n"
     ]
    }
   ],
   "source": [
    "for s in syn:\n",
    "    vector1 = np.zeros(np.array(model['the'], dtype = 'float32').shape, dtype = 'float32')\n",
    "    vector2 = np.zeros(np.array(model['the'], dtype = 'float32').shape, dtype = 'float32')\n",
    "    #print s\n",
    "    for symp in s['symp']:\n",
    "        symp = symp.replace('[', '')\n",
    "        symp = symp.replace(']', '')\n",
    "        symp = symp.replace('(', '')\n",
    "        symp = symp.replace(')', '')\n",
    "        try:\n",
    "            vector1 = vector1 + model[symp]\n",
    "        except:\n",
    "            1+1\n",
    "            #print \"No such word in model \", symp\n",
    "    \n",
    "    hasLocus = False\n",
    "    \n",
    "    try:\n",
    "        an = s['locus']\n",
    "        hasLocus = True\n",
    "    except:\n",
    "        hasLocus = False\n",
    "    \n",
    "    if ((hasLocus)and(not(s['locus']==['body']))):\n",
    "        for locus in s['locus']:\n",
    "            try:\n",
    "                vector2 = vector2 + model[locus]\n",
    "            except:\n",
    "                1 + 1\n",
    "                print \"No such word in model \", locus\n",
    "                \n",
    "    vector2 = vector2 + vector1\n",
    "    \n",
    "    if (s['n'] == 624):\n",
    "        print s\n",
    "    \n",
    "    dictionary.append({\n",
    "        'ori': s,\n",
    "        'vec1': vector1,\n",
    "        'vec2': vector2\n",
    "    })"
   ]
  },
  {
   "cell_type": "markdown",
   "metadata": {},
   "source": [
    "# K-means indexing"
   ]
  },
  {
   "cell_type": "code",
   "execution_count": 11,
   "metadata": {},
   "outputs": [],
   "source": [
    "from sklearn.cluster import KMeans\n",
    "\n",
    "kdict = []\n",
    "\n",
    "for i in range(len(dictionary)):\n",
    "    kdict.append(dictionary[i]['vec1'])"
   ]
  },
  {
   "cell_type": "code",
   "execution_count": 12,
   "metadata": {},
   "outputs": [],
   "source": [
    "n_clusters = 100\n",
    "\n",
    "kmeans = KMeans(n_clusters=n_clusters, random_state=0).fit(kdict)\n",
    "#kmeans.labels_[0:10]"
   ]
  },
  {
   "cell_type": "code",
   "execution_count": 13,
   "metadata": {},
   "outputs": [
    {
     "name": "stdout",
     "output_type": "stream",
     "text": [
      "[132, 16, 50, 4, 2, 4, 23, 84, 35, 23, 60, 131, 425, 13, 42, 24, 12, 192, 4, 40, 4, 19, 106, 2, 11, 4, 125, 14, 20, 8, 97, 13, 99, 131, 2, 33, 32, 35, 19, 12, 33, 49, 9, 62, 10, 4, 4, 3, 23, 4, 22, 6, 6, 4, 14, 23, 6, 60, 16, 5, 65, 10, 46, 36, 4, 2, 4, 17, 6, 72, 12, 4, 48, 4, 6, 9, 63, 10, 10, 4, 72, 40, 2, 41, 28, 10, 27, 4, 42, 4, 2, 23, 24, 12, 4, 6, 71, 8, 4, 4]\n"
     ]
    }
   ],
   "source": [
    "def countVectors(kmeans, X, n):\n",
    "    counters = []\n",
    "    for i in range(n):\n",
    "        counters.append(0)\n",
    "    \n",
    "    predicted = kmeans.predict(X)\n",
    "    \n",
    "    for i in range(len(X)):\n",
    "        counters[predicted[i]] += 1\n",
    "        \n",
    "    return counters\n",
    "\n",
    "print countVectors(kmeans, kdict, n_clusters)"
   ]
  },
  {
   "cell_type": "code",
   "execution_count": 14,
   "metadata": {},
   "outputs": [],
   "source": [
    "def getIndexesOfCluster(kmeans, X, n):\n",
    "    res = []\n",
    "    \n",
    "    predicted = kmeans.predict(X)\n",
    "    \n",
    "    for i in range(len(X)):\n",
    "        if (predicted[i] == n):\n",
    "            res.append(i)\n",
    "    return res\n",
    "\n",
    "inds = getIndexesOfCluster(kmeans, kdict, 0)\n"
   ]
  },
  {
   "cell_type": "code",
   "execution_count": 15,
   "metadata": {},
   "outputs": [
    {
     "name": "stdout",
     "output_type": "stream",
     "text": [
      "{'locus': [u'stomach'], 'symp': [u'ache'], 'n': 541}\n",
      "{'locus': [u'belly'], 'symp': [u'ache'], 'n': 541}\n",
      "{'locus': [u'head'], 'symp': [u'ache'], 'n': 556}\n",
      "{'locus': [u'left', u'knee'], 'symp': [u'ache'], 'n': 569}\n",
      "{'locus': [u'left', u'hip', u'joint'], 'symp': [u'ache'], 'n': 576}\n",
      "{'locus': [u'left', u'hip'], 'symp': [u'ache'], 'n': 576}\n",
      "{'locus': [u'left', u'wrist'], 'symp': [u'ache'], 'n': 578}\n",
      "{'locus': [u'left', u'elbow', u'joint'], 'symp': [u'ache'], 'n': 584}\n",
      "{'locus': [u'Left', u'elbow'], 'symp': [u'ache'], 'n': 584}\n",
      "{'locus': [u'left', u'humerus'], 'symp': [u'ache'], 'n': 586}\n",
      "{'locus': [u'Left', u'shoulder', u'joint'], 'symp': [u'ache'], 'n': 586}\n",
      "{'locus': [u'right', u'knee'], 'symp': [u'ache'], 'n': 589}\n",
      "{'locus': [u'right', u'hip', u'joint'], 'symp': [u'ache'], 'n': 596}\n",
      "{'locus': [u'right', u'wrist'], 'symp': [u'ache'], 'n': 598}\n",
      "{'locus': [u'right', u'elbow', u'joint'], 'symp': [u'ache'], 'n': 604}\n",
      "{'locus': [u'right', u'elbow'], 'symp': [u'ache'], 'n': 604}\n",
      "{'locus': [u'right', u'shoulder', u'joint'], 'symp': [u'ache'], 'n': 606}\n",
      "{'locus': [u'left', u'ear'], 'symp': [u'ache'], 'n': 615}\n",
      "{'locus': [u'right', u'ear'], 'symp': [u'ache'], 'n': 619}\n",
      "{'locus': [u'lower', u'jaw'], 'symp': [u'ache'], 'n': 651}\n",
      "{'locus': [u'teeth'], 'symp': [u'ache'], 'n': 653}\n",
      "{'locus': [u'sternum'], 'symp': [u'ache'], 'n': 656}\n",
      "{'locus': [u'the', u'sternum'], 'symp': [u'ache'], 'n': 656}\n",
      "{'locus': [u'small', u'of', u'the', u'back'], 'symp': [u'ache'], 'n': 657}\n",
      "{'locus': [u'loin'], 'symp': [u'ache'], 'n': 657}\n",
      "{'locus': [u'left', u'leg'], 'symp': [u'ache'], 'n': 665}\n",
      "{'locus': [u'left', u'foot'], 'symp': [u'ache'], 'n': 665}\n",
      "{'locus': [u'right', u'leg'], 'symp': [u'ache'], 'n': 666}\n",
      "{'locus': [u'right', u'foot'], 'symp': [u'ache'], 'n': 666}\n",
      "{'locus': [u'spine'], 'symp': [u'ache'], 'n': 667}\n",
      "{'locus': [u'spine', u'area'], 'symp': [u'ache'], 'n': 667}\n",
      "{'locus': [u'rib', u'cage'], 'symp': [u'ache'], 'n': 687}\n",
      "{'locus': [u'chest'], 'symp': [u'ache'], 'n': 687}\n",
      "{'locus': [u'thorax'], 'symp': [u'ache'], 'n': 687}\n",
      "{'locus': [u'left', u'hip'], 'symp': [u'ache'], 'n': 690}\n",
      "{'locus': [u'left', u'thigh'], 'symp': [u'ache'], 'n': 690}\n",
      "{'locus': [u'left', u'shin'], 'symp': [u'ache'], 'n': 691}\n",
      "{'locus': [u'left', u'foot'], 'symp': [u'ache'], 'n': 693}\n",
      "{'locus': [u'the', u'thumb', u'of', u'the', u'left', u'foot'], 'symp': [u'ache'], 'n': 694}\n",
      "{'locus': [u'left', u'big', u'toe'], 'symp': [u'ache'], 'n': 694}\n",
      "{'locus': [u'left', u'toe'], 'symp': [u'ache'], 'n': 696}\n",
      "{'locus': [u'left', u'plus'], 'symp': [u'ache'], 'n': 704}\n",
      "{'locus': [u'left', u'metatarsus'], 'symp': [u'ache'], 'n': 704}\n",
      "{'locus': [u'left', u'tarsum'], 'symp': [u'ache'], 'n': 705}\n",
      "{'locus': [u'left', u'tarsus'], 'symp': [u'ache'], 'n': 705}\n",
      "{'locus': [u'left', u'hand'], 'symp': [u'ache'], 'n': 709}\n",
      "{'locus': [u'the', u'left', u'hand'], 'symp': [u'ache'], 'n': 709}\n",
      "{'locus': [u'left', u'hand'], 'symp': [u'ache'], 'n': 710}\n",
      "{'locus': [u'the', u'left', u'hand'], 'symp': [u'ache'], 'n': 710}\n",
      "{'locus': [u'the', u'thumb', u'of', u'the', u'left', u'hand'], 'symp': [u'ache'], 'n': 714}\n",
      "{'locus': [u'left', u'thumb'], 'symp': [u'ache'], 'n': 714}\n",
      "{'locus': [u'left-handed', u'finger'], 'symp': [u'ache'], 'n': 718}\n",
      "{'locus': [u'left', u'thumb'], 'symp': [u'ache'], 'n': 718}\n",
      "{'locus': [u'left', u'pastern'], 'symp': [u'ache'], 'n': 722}\n",
      "{'locus': [u'left', u'shoulder'], 'symp': [u'ache'], 'n': 726}\n",
      "{'locus': [u'left', u'forearm'], 'symp': [u'ache'], 'n': 727}\n",
      "{'locus': [u'right', u'thigh'], 'symp': [u'ache'], 'n': 728}\n",
      "{'locus': [u'right', u'shin'], 'symp': [u'ache'], 'n': 729}\n",
      "{'locus': [u'right', u'foot'], 'symp': [u'ache'], 'n': 731}\n",
      "{'locus': [u'the', u'big', u'toe', u'of', u'the', u'right', u'foot'], 'symp': [u'ache'], 'n': 732}\n",
      "{'locus': [u'big', u'toe', u'of', u'the', u'right', u'foot'], 'symp': [u'ache'], 'n': 732}\n",
      "{'locus': [u'right', u'toe'], 'symp': [u'ache'], 'n': 734}\n",
      "{'locus': [u'toe', u'of', u'the', u'right', u'foot'], 'symp': [u'ache'], 'n': 734}\n",
      "{'locus': [u'right-hand', u'plus'], 'symp': [u'ache'], 'n': 742}\n",
      "{'locus': [u'right', u'metatarsus'], 'symp': [u'ache'], 'n': 742}\n",
      "{'locus': [u'right', u'tarsum'], 'symp': [u'ache'], 'n': 743}\n",
      "{'locus': [u'right', u'tarsus'], 'symp': [u'ache'], 'n': 743}\n",
      "{'locus': [u'right', u'hand'], 'symp': [u'ache'], 'n': 747}\n",
      "{'locus': [u'right-hand', u'man'], 'symp': [u'ache'], 'n': 747}\n",
      "{'locus': [u'right', u'hand'], 'symp': [u'ache'], 'n': 748}\n",
      "{'locus': [u'right', u'thumb'], 'symp': [u'ache'], 'n': 750}\n",
      "{'locus': [u'the', u'thumb', u'of', u'the', u'right', u'hand'], 'symp': [u'ache'], 'n': 752}\n",
      "{'locus': [u'right', u'thumb'], 'symp': [u'ache'], 'n': 752}\n",
      "{'locus': [u'right', u'pastern'], 'symp': [u'ache'], 'n': 760}\n",
      "{'locus': [u'right', u'shoulder'], 'symp': [u'ache'], 'n': 764}\n",
      "{'locus': [u'right', u'forearm'], 'symp': [u'ache'], 'n': 765}\n",
      "{'locus': [u'pubic', u'region'], 'symp': [u'ache'], 'n': 784}\n",
      "{'locus': [u'pubis'], 'symp': [u'ache'], 'n': 784}\n",
      "{'locus': [u'penis'], 'symp': [u'ache'], 'n': 791}\n",
      "{'locus': [u'crotch'], 'symp': [u'ache'], 'n': 793}\n",
      "{'locus': [u'perineum'], 'symp': [u'ache'], 'n': 793}\n",
      "{'locus': [u'labia'], 'symp': [u'ache'], 'n': 794}\n",
      "{'locus': [u'anus'], 'symp': [u'ache'], 'n': 939}\n",
      "{'locus': [u'the', u'anal', u'area'], 'symp': [u'ache'], 'n': 939}\n",
      "{'locus': [u'scalp'], 'symp': [u'ache'], 'n': 1083}\n",
      "{'locus': [u'left', u'temple'], 'symp': [u'ache'], 'n': 1084}\n",
      "{'locus': [u'left', u'temporomandibular', u'joint'], 'symp': [u'ache'], 'n': 1085}\n",
      "{'locus': [u'right', u'temple'], 'symp': [u'ache'], 'n': 1088}\n",
      "{'locus': [u'right', u'temporomandibular', u'joint'], 'symp': [u'ache'], 'n': 1089}\n",
      "{'locus': [u'right', u'TMJ'], 'symp': [u'ache'], 'n': 1089}\n",
      "{'locus': [u'left', u'axillary', u'cavity'], 'symp': [u'ache'], 'n': 1137}\n",
      "{'locus': [u'left', u'axilla'], 'symp': [u'ache'], 'n': 1137}\n",
      "{'locus': [u'right', u'axillary', u'cavity'], 'symp': [u'ache'], 'n': 1141}\n",
      "{'locus': [u'right', u'axilla'], 'symp': [u'ache'], 'n': 1141}\n",
      "{'locus': [u'gums'], 'symp': [u'ache'], 'n': 1146}\n",
      "{'locus': [u'abdomen', u'from', u'the', u'navel', u'to', u'the', u'pubic', u'region'], 'symp': [u'ache'], 'n': 1208}\n",
      "{'locus': [u'nose'], 'symp': [u'ache'], 'n': 1211}\n",
      "{'locus': [u'right', u'side', u'of', u'abdomen'], 'symp': [u'ache'], 'n': 1237}\n",
      "{'locus': [u'the', u'right', u'side', u'surface', u'of', u'the', u'abdomen'], 'symp': [u'ache'], 'n': 1237}\n",
      "{'locus': [u'left', u'heel'], 'symp': [u'ache'], 'n': 1240}\n",
      "{'locus': [u'right', u'heel'], 'symp': [u'ache'], 'n': 1242}\n",
      "{'locus': [u'neck'], 'symp': [u'ache'], 'n': 1248}\n",
      "{'locus': [u'genital', u'area'], 'symp': [u'ache'], 'n': 1256}\n",
      "{'locus': [u'left', u'buttock'], 'symp': [u'ache'], 'n': 1292}\n",
      "{'locus': [u'right', u'buttock'], 'symp': [u'ache'], 'n': 1293}\n",
      "{'locus': [u'left', u'side', u'of', u'abdomen'], 'symp': [u'ache'], 'n': 1415}\n",
      "{'locus': [u'the', u'left', u'side', u'surface', u'of', u'the', u'abdomen'], 'symp': [u'ache'], 'n': 1415}\n",
      "{'locus': [u'right', u'breast', u'/', u'mammary', u'gland'], 'symp': [u'ache'], 'n': 1419}\n",
      "{'locus': [u'right', u'chest', u'/', u'breast'], 'symp': [u'ache'], 'n': 1419}\n",
      "{'locus': [u'nipple'], 'symp': [u'ache'], 'n': 1423}\n",
      "{'locus': [u'testicles'], 'symp': [u'ache'], 'n': 1426}\n",
      "{'locus': [u'sacrum'], 'symp': [u'ache'], 'n': 1458}\n",
      "{'locus': [u'area', u'around', u'the', u'navel'], 'symp': [u'ache'], 'n': 1464}\n",
      "{'locus': [u'the', u'area', u'around', u'the', u'navel'], 'symp': [u'ache'], 'n': 1464}\n",
      "{'locus': [u'face'], 'symp': [u'ache'], 'n': 1474}\n",
      "{'locus': [u'person'], 'symp': [u'ache'], 'n': 1474}\n",
      "{'locus': [u'upper', u'abdomen'], 'symp': [u'ache'], 'n': 1545}\n",
      "{'locus': [u'the', u'upper', u'part', u'of', u'the', u'abdomen'], 'symp': [u'ache'], 'n': 1545}\n",
      "{'locus': [u'vagina'], 'symp': [u'ache'], 'n': 1549}\n",
      "{'locus': [u'left', u'cheek'], 'symp': [u'ache'], 'n': 1556}\n",
      "{'locus': [u'right', u'cheek'], 'symp': [u'ache'], 'n': 1557}\n",
      "{'locus': [u'forehead'], 'symp': [u'ache'], 'n': 1594}\n",
      "{'locus': [u'front', u'surface'], 'symp': [u'ache'], 'n': 1632}\n",
      "{'locus': [u'upper', u'eyelid', u'of', u'the', u'left', u'eye'], 'symp': [u'ache'], 'n': 1711}\n",
      "{'locus': [u'the', u'upper', u'eyelid', u'of', u'the', u'left', u'eye'], 'symp': [u'ache'], 'n': 1711}\n",
      "{'locus': [u'upper', u'eyelid', u'of', u'right', u'eye'], 'symp': [u'ache'], 'n': 1713}\n",
      "{'locus': [u'the', u'upper', u'eyelid', u'of', u'the', u'right', u'eye'], 'symp': [u'ache'], 'n': 1713}\n",
      "{'locus': [u'mouth'], 'symp': [u'unpleasant', u'aftertaste'], 'n': 1722}\n",
      "{'locus': [u'back'], 'symp': [u'ache'], 'n': 667}\n",
      "{'locus': [u'spin'], 'symp': [u'ache'], 'n': 667}\n",
      "{'locus': [u'throat'], 'symp': [u'ache'], 'n': 1248}\n",
      "{'locus': [u'neck'], 'symp': [u'ache'], 'n': 1248}\n"
     ]
    }
   ],
   "source": [
    "def printOrisFromIndexes(inds):\n",
    "    for i in range(len(inds)):\n",
    "        print dictionary[inds[i]]['ori']\n",
    "        \n",
    "printOrisFromIndexes(inds)"
   ]
  },
  {
   "cell_type": "code",
   "execution_count": 16,
   "metadata": {},
   "outputs": [],
   "source": [
    "#центровые вектора кластеров\n",
    "clusters = kmeans.cluster_centers_\n",
    "cluster_index = []\n",
    "\n",
    "for i in range(len(clusters)):\n",
    "    cluster_index.append(getIndexesOfCluster(kmeans, kdict, i))"
   ]
  },
  {
   "cell_type": "code",
   "execution_count": 17,
   "metadata": {},
   "outputs": [],
   "source": [
    "dicts = []\n",
    "kdict_inds = kmeans.predict(kdict)\n",
    "\n",
    "for i in range(n_clusters):\n",
    "    dicts.append([])\n",
    "\n",
    "for i in range(len(kdict_inds)):\n",
    "    dicts[kdict_inds[i]].append(dictionary[i])"
   ]
  },
  {
   "cell_type": "code",
   "execution_count": 18,
   "metadata": {},
   "outputs": [
    {
     "name": "stdout",
     "output_type": "stream",
     "text": [
      "0  -  0.625967100908\n",
      "1  -  0.629587911817\n",
      "2  -  0.613510886565\n",
      "3  -  0.547595742535\n",
      "4  -  0.549085558252\n",
      "5  -  0.626466978532\n",
      "6  -  0.605860640826\n",
      "7  -  0.774741408583\n",
      "8  -  0.643947681914\n",
      "9  -  0.611014357382\n",
      "10  -  0.459863782641\n",
      "11  -  0.794778950428\n",
      "12  -  0.5953933264\n",
      "13  -  0.610072048009\n",
      "14  -  0.704986397673\n",
      "15  -  0.740776854554\n",
      "16  -  0.624658216329\n",
      "17  -  0.751403393178\n",
      "18  -  0.561250518134\n",
      "19  -  0.681813280522\n",
      "20  -  0.637839880893\n",
      "21  -  0.630315493601\n",
      "22  -  0.624853823219\n",
      "23  -  0.598171736971\n",
      "24  -  0.639579144868\n",
      "25  -  0.482243977762\n",
      "26  -  0.558403601671\n",
      "27  -  0.734401365654\n",
      "28  -  0.586731290019\n",
      "29  -  0.709244759947\n",
      "30  -  0.634953293715\n",
      "31  -  0.574064790462\n",
      "32  -  0.714427630383\n",
      "33  -  0.745568498121\n",
      "34  -  0.581649992943\n",
      "35  -  0.553006911562\n",
      "36  -  0.654295183733\n",
      "37  -  0.716678685965\n",
      "38  -  0.635980430372\n",
      "39  -  0.560088505997\n",
      "40  -  0.658965565141\n",
      "41  -  0.558171551457\n",
      "42  -  0.592355368384\n",
      "43  -  0.656865394075\n",
      "44  -  0.621750159551\n",
      "45  -  0.631068594729\n",
      "46  -  0.628976119217\n",
      "47  -  0.639294669162\n",
      "48  -  0.643644762053\n",
      "49  -  0.667794678949\n",
      "50  -  0.829499554481\n",
      "51  -  0.57327682568\n",
      "52  -  0.607544015645\n",
      "53  -  0.685724928271\n",
      "54  -  0.57367504549\n",
      "55  -  0.595702780206\n",
      "56  -  0.626649227781\n",
      "57  -  0.760290457287\n",
      "58  -  0.641617652885\n",
      "59  -  0.582208687564\n",
      "60  -  0.647417636804\n",
      "61  -  0.656393611495\n",
      "62  -  0.658221256548\n",
      "63  -  0.702983717943\n",
      "64  -  0.657692041561\n",
      "65  -  0.623747522589\n",
      "66  -  0.628401023221\n",
      "67  -  0.664602434926\n",
      "68  -  0.544980533572\n",
      "69  -  0.640270776313\n",
      "70  -  0.652046687827\n",
      "71  -  0.596407269365\n",
      "72  -  0.712409612868\n",
      "73  -  0.559632759791\n",
      "74  -  0.612722974703\n",
      "75  -  0.532862796706\n",
      "76  -  0.577902444109\n",
      "77  -  0.594731386616\n",
      "78  -  0.683921805195\n",
      "79  -  0.642602316945\n",
      "80  -  0.575276746352\n",
      "81  -  0.576040507027\n",
      "82  -  0.617090863051\n",
      "83  -  0.710062665929\n",
      "84  -  0.556137771451\n",
      "85  -  0.622154765917\n",
      "86  -  0.629152273332\n",
      "87  -  0.683672334516\n",
      "88  -  0.675585854191\n",
      "89  -  0.593968086707\n",
      "90  -  0.694920731446\n",
      "91  -  0.662137613771\n",
      "92  -  0.561499111023\n",
      "93  -  0.571302404892\n",
      "94  -  0.569025368409\n",
      "95  -  0.598629920603\n",
      "96  -  0.641715295154\n",
      "97  -  0.557110721648\n",
      "98  -  0.768060857375\n",
      "99  -  0.617546091106\n"
     ]
    }
   ],
   "source": [
    "vec = model['fever']\n",
    "\n",
    "def scalar(vec1, vec2):\n",
    "    return math.sqrt(abs(np.dot(vec1, vec2)) / np.linalg.norm(vec1) / np.linalg.norm(vec2))\n",
    "\n",
    "for i in range(len(clusters)):\n",
    "    print i, \" - \", scalar(vec, clusters[i])"
   ]
  },
  {
   "cell_type": "markdown",
   "metadata": {},
   "source": [
    "# Вычисление векторов для словосочетаний"
   ]
  },
  {
   "cell_type": "code",
   "execution_count": 19,
   "metadata": {},
   "outputs": [
    {
     "name": "stdout",
     "output_type": "stream",
     "text": [
      "[[{'vec': array([-0.3745    ,  0.41782   ,  1.11695   , -1.7574999 , -0.11808997,\n",
      "       -0.31575   , -0.849109  , -0.47305   ,  0.60493   , -0.34375998,\n",
      "       -0.10629   ,  0.177939  ,  2.09102   ,  0.80323   ,  0.315449  ,\n",
      "        0.5313    , -0.78131   , -0.09564   , -0.02174002,  0.7283701 ,\n",
      "        0.44833   ,  0.75301   , -0.57382   ,  0.48157197,  0.525     ,\n",
      "        1.1537    , -1.11568   , -1.6598899 ,  1.6319699 ,  0.341905  ,\n",
      "        0.0311102 ,  1.2328501 ,  0.0508    , -0.141274  , -1.43834   ,\n",
      "       -0.015826  , -0.65998   ,  1.07118   ,  0.521439  , -0.93412   ,\n",
      "       -0.177923  , -0.90733004,  0.459578  , -0.17227   , -0.651245  ,\n",
      "        0.31245   ,  0.68751   ,  0.51572   , -0.87829006, -1.83963   ,\n",
      "       -0.448197  , -0.43819997, -0.69315803,  0.98525   , -0.551481  ,\n",
      "       -3.0357502 , -0.15583   ,  0.14008999,  1.78636   ,  0.52759004,\n",
      "        0.86717   ,  0.79054   ,  0.19492   ,  0.92337   , -0.66255   ,\n",
      "        0.434742  ,  0.64986   ,  0.497294  ,  0.32474   ,  0.26449996,\n",
      "        1.36853   , -0.4492    ,  0.35656   , -0.33055001,  1.16991   ,\n",
      "       -0.17316002, -1.171151  ,  0.65738   , -0.518443  ,  0.53397   ,\n",
      "        1.21509   ,  0.391748  , -0.63651   , -0.656927  , -1.84427   ,\n",
      "       -1.07431   , -1.38448   ,  0.68864   ,  0.86591995, -0.775262  ,\n",
      "        0.588674  , -0.30155   ,  0.28686   ,  0.53654003,  0.19717601,\n",
      "        0.421497  ,  0.29181   ,  0.072713  ,  1.1763899 ,  0.09470999],\n",
      "      dtype=float32), 'ori': [u'head', u'hurts']}]]\n"
     ]
    }
   ],
   "source": [
    "def getMeaningsVectorsArr(meanings_arr):\n",
    "    meanings_vectors_arr = []\n",
    "    for meanings in meanings_arr:\n",
    "        meanings_vectors_arr.append(getMeaningsVectors(meanings))\n",
    "    return meanings_vectors_arr\n",
    "\n",
    "def getMeaningsVectors(meanings):\n",
    "\n",
    "    meanings_vectors = []\n",
    "\n",
    "    for mean in meanings:\n",
    "        vector = np.zeros(np.array(model['the'], dtype = 'float32').shape, dtype = 'float32')\n",
    "        try:\n",
    "            for m in mean:\n",
    "                vector = vector + model[m]\n",
    "            meanings_vectors.append({\n",
    "                'ori': mean,\n",
    "                'vec': vector\n",
    "            })\n",
    "        except:\n",
    "            print \"WARNING: no such words in model - \", mean\n",
    "        \n",
    "    return meanings_vectors\n",
    "\n",
    "meanings_vectors_arr = getMeaningsVectorsArr(meanings_arr)\n",
    "print meanings_vectors_arr"
   ]
  },
  {
   "cell_type": "markdown",
   "metadata": {},
   "source": [
    "    "
   ]
  },
  {
   "cell_type": "markdown",
   "metadata": {},
   "source": [
    "# Функция вычисления score1 (по матрице сравнений)"
   ]
  },
  {
   "cell_type": "code",
   "execution_count": 20,
   "metadata": {},
   "outputs": [],
   "source": [
    "import math\n",
    "\n",
    "def getScore(arr1, arr2):\n",
    "    m = np.zeros((len(arr1), len(arr2)), dtype = \"float\")\n",
    "    for i in range(len(arr1)):\n",
    "        for j in range(len(arr2)):\n",
    "            try:\n",
    "                m[(i, j)] = model.similarity(arr1[i], arr2[j])\n",
    "            except:\n",
    "                m[(i, j)] = 0.0\n",
    "    \n",
    "    score = []\n",
    "    \n",
    "    for i in range(min(len(arr1), len(arr2))):\n",
    "        mx = np.max(m)\n",
    "        n = np.argwhere(m == mx)[0]\n",
    "        score.append(mx)\n",
    "        m = np.delete(m, n[0], 0)\n",
    "        m = np.delete(m, n[1], 1)\n",
    "        \n",
    "        \n",
    "        #print m\n",
    "        \n",
    "    #print score\n",
    "    \n",
    "    result = 1\n",
    "    \n",
    "    for s in score:\n",
    "        result = result * s\n",
    "    \n",
    "    if (result < 0):\n",
    "        return 0\n",
    "    \n",
    "    result = math.pow(result, 1.0 / min(len(arr1), len(arr2)))\n",
    "    \n",
    "    return result\n",
    "    \n",
    "#getScore([\"pain\", \"neck\"],[\"head\", \"hurts\"])"
   ]
  },
  {
   "cell_type": "markdown",
   "metadata": {},
   "source": [
    "# Вычисление скора по модификаторам"
   ]
  },
  {
   "cell_type": "code",
   "execution_count": 21,
   "metadata": {},
   "outputs": [
    {
     "data": {
      "text/plain": [
       "0.5"
      ]
     },
     "execution_count": 21,
     "metadata": {},
     "output_type": "execute_result"
    }
   ],
   "source": [
    "modifiers = [\n",
    "    {\n",
    "        'name': 'color',\n",
    "        'arr': ['color', 'yellow', 'blue', 'red', 'white', 'black', 'dark', 'yellowing', 'redness']\n",
    "    },\n",
    "    {\n",
    "        'name': 'localization',\n",
    "        'arr': ['right', 'left', 'upper', 'lower', 'up', 'low']\n",
    "    },\n",
    "    {\n",
    "        'name': 'body_parts',\n",
    "        'arr': ['hand', 'arm', 'leg', 'ankle', 'eye', 'cheek', 'foot']\n",
    "    }\n",
    "]\n",
    "\n",
    "def getModifiers(ss):\n",
    "    result = []\n",
    "    for s in ss:\n",
    "        class_found = False\n",
    "        for i in range(len(modifiers)):\n",
    "            mod = modifiers[i]\n",
    "            for a in mod['arr']:\n",
    "                s = s.lower()\n",
    "                a = a.lower()\n",
    "                try:\n",
    "                    class_similarity = model.similarity(s, a)\n",
    "                except:\n",
    "                    class_similarity= 0\n",
    "                if class_similarity > 0.8:\n",
    "                    result.append({\n",
    "                        's': s,\n",
    "                        'class': mod['name'],\n",
    "                        'class_n': i\n",
    "                    })\n",
    "                    class_found = True\n",
    "                if class_found:\n",
    "                    break;\n",
    "            if (class_found):\n",
    "                break;\n",
    "    return result\n",
    "\n",
    "def find(arr, field, value):\n",
    "    for i in range(len(arr)):\n",
    "        if arr[i][field] == value:\n",
    "            return i\n",
    "    return -1\n",
    "\n",
    "MODIFIERS_PENALTY = 0.5\n",
    "\n",
    "def compareModifiers(sym, query):\n",
    "    result = 1.0\n",
    "    for mq in query:\n",
    "        index = find(sym, 'class_n', mq['class_n'])\n",
    "        if (index >= 0):\n",
    "                #print mq, sym[index]\n",
    "                #result = result * model.similarity(mq['s'], sym[index]['s'])\n",
    "                if (model.similarity(mq['s'], sym[index]['s']) < 0.66):\n",
    "                    result = result * MODIFIERS_PENALTY\n",
    "        else:\n",
    "            result = result * MODIFIERS_PENALTY\n",
    "        #print mq, result\n",
    "    \n",
    "    \n",
    "    return result\n",
    "\n",
    "def scoreModifiers(sym, query):\n",
    "    sym_mod = getModifiers(sym)\n",
    "    query_mod = getModifiers(query)\n",
    "    #print sym_mod, query_mod\n",
    "    return compareModifiers(sym_mod, query_mod)\n",
    "\n",
    "#getModifiers(['yellow', 'right', 'hand'])\n",
    "\n",
    "scoreModifiers([u'right', u'foot', u'pain'], [u'right', u'arm', u'hurts'])"
   ]
  },
  {
   "cell_type": "markdown",
   "metadata": {},
   "source": [
    "# Вычисление всех скорингов"
   ]
  },
  {
   "cell_type": "code",
   "execution_count": 22,
   "metadata": {},
   "outputs": [],
   "source": [
    "def getScoresArr(meanings_vectors_arr, all_dict = False):\n",
    "    for i in range(len(meanings_vectors_arr)):\n",
    "        meanings_vectors = getScores(meanings_vectors_arr[i], all_dict)\n",
    "        \n",
    "    return meanings_vectors_arr\n",
    "\n",
    "def getDict_depr(mean):\n",
    "    hs = 0\n",
    "    hi = -1\n",
    "    for i in range(len(clusters)):\n",
    "        s = scalar(clusters[i], mean['vec'])\n",
    "        if (s > hs):\n",
    "            hs = s\n",
    "            hi = i\n",
    "            \n",
    "    return hi\n",
    "\n",
    "def getDict(mean):\n",
    "    return kmeans.predict([mean['vec']])[0]\n",
    "\n",
    "def getScores(meanings_vectors, all_dict = False):\n",
    "    \n",
    "    for mean in meanings_vectors:\n",
    "        scores = []\n",
    "        \n",
    "        if (not(all_dict)):\n",
    "            dict_ind = getDict(mean)\n",
    "            if dict_ind > -1:\n",
    "                custom_dict = dicts[dict_ind]\n",
    "            else:\n",
    "                custom_dict = []\n",
    "                \n",
    "            print \"Custom dict-\",dict_ind\n",
    "        else:\n",
    "            custom_dict = dictionary\n",
    "            \n",
    "        \n",
    "        for s in custom_dict:\n",
    "                        \n",
    "            #score1 = np.dot(s['vec1'], mean['vec'])/np.linalg.norm(s['vec1'])/np.linalg.norm(mean['vec'])\n",
    "            #score2 = np.dot(s['vec2'], mean['vec'])/np.linalg.norm(s['vec2'])/np.linalg.norm(mean['vec'])\n",
    "\n",
    "            try:\n",
    "                d = s['ori']['locus'] + s['ori']['symp']\n",
    "            except:\n",
    "                d = s['ori']['symp']\n",
    "                #print \"No locus\", s['ori']\n",
    "            m = mean['ori']\n",
    "            \n",
    "            #print m ,d \n",
    "            mod_score = scoreModifiers(d, m)\n",
    "\n",
    "            score1 = getScore(m, d) * mod_score\n",
    "            \n",
    "            score2 = abs(np.dot(s['vec2'], mean['vec'])) /np.linalg.norm(s['vec2']) / np.linalg.norm(mean['vec']) * mod_score\n",
    "\n",
    "            #print m,d, score1            \n",
    "            if (math.isnan(score1)):\n",
    "                score1 = 0\n",
    "            if (math.isnan(score2)):\n",
    "                score2 = 0\n",
    "\n",
    "            try:\n",
    "                scores.append((score1, s['ori']['n'], s['ori']['locus'], \"score1\"))\n",
    "                scores.append((score2, s['ori']['n'], s['ori']['locus'], \"score2\"))\n",
    "            except:\n",
    "                scores.append((score1, s['ori']['n'], \"\", \"score1\"))\n",
    "                scores.append((score2, s['ori']['n'], \"\", \"score2\"))\n",
    "                \n",
    "        \n",
    "        scores_sorted = sorted(scores, key = lambda item: item[0])\n",
    "        \n",
    "        print \"Printing new scores\"\n",
    "        for score in scores_sorted:\n",
    "            if (score[1]==483):\n",
    "                print score\n",
    "        #mean['scores'] = scores_sorted[-10:]\n",
    "\n",
    "        scores1_sorted = []\n",
    "        scores1_indexes = []\n",
    "\n",
    "        scores2_sorted = []\n",
    "        scores2_indexes = []\n",
    "\n",
    "        i = len(scores_sorted) - 1\n",
    "        while ((len(scores1_sorted) < 5)and(i >= 0)):\n",
    "            if (scores_sorted[i][3] == \"score1\"):\n",
    "                isInList = False\n",
    "                try:\n",
    "                    if (scores1_indexes.index(scores_sorted[i][1]) > -1):\n",
    "                        isInList = True\n",
    "                except:\n",
    "                    isInList = False\n",
    "                if not(isInList):\n",
    "                    scores1_sorted.append(scores_sorted[i])\n",
    "                    scores1_indexes.append(scores_sorted[i][1])                #print i\n",
    "\n",
    "            i = i - 1\n",
    "\n",
    "        i = len(scores_sorted) - 1\n",
    "        while ((len(scores2_sorted) < 5)and(i >= 0)):\n",
    "            if (scores_sorted[i][3] == \"score2\"):\n",
    "                isInList = False\n",
    "                try:\n",
    "                    if (scores2_indexes.index(scores_sorted[i][1]) > -1):\n",
    "                        isInList = True\n",
    "                except:\n",
    "                    isInList = False\n",
    "                if not(isInList):\n",
    "                    scores2_sorted.append(scores_sorted[i])\n",
    "                    scores2_indexes.append(scores_sorted[i][1])\n",
    "                #print scores2_sorted, i\n",
    "\n",
    "            i = i - 1\n",
    "\n",
    "        mean['scores'] = scores1_sorted + scores2_sorted\n",
    "        mean['vec'] = 0\n",
    "        #print mean\n",
    "    \n",
    "    return meanings_vectors\n",
    "\n",
    "#meanings_vectors_arr = getScoresArr(meanings_vectors_arr)\n"
   ]
  },
  {
   "cell_type": "code",
   "execution_count": 23,
   "metadata": {},
   "outputs": [
    {
     "ename": "KeyError",
     "evalue": "'scores'",
     "output_type": "error",
     "traceback": [
      "\u001b[1;31m---------------------------------------------------------------------------\u001b[0m",
      "\u001b[1;31mKeyError\u001b[0m                                  Traceback (most recent call last)",
      "\u001b[1;32m<ipython-input-23-32d5ad1fb5f7>\u001b[0m in \u001b[0;36m<module>\u001b[1;34m()\u001b[0m\n\u001b[0;32m     59\u001b[0m     \u001b[1;32mreturn\u001b[0m \u001b[0mresult\u001b[0m\u001b[1;33m\u001b[0m\u001b[0m\n\u001b[0;32m     60\u001b[0m \u001b[1;33m\u001b[0m\u001b[0m\n\u001b[1;32m---> 61\u001b[1;33m \u001b[0mresult\u001b[0m \u001b[1;33m=\u001b[0m \u001b[0mgetMeanings\u001b[0m\u001b[1;33m(\u001b[0m\u001b[0mmeanings_vectors_arr\u001b[0m\u001b[1;33m)\u001b[0m\u001b[1;33m\u001b[0m\u001b[0m\n\u001b[0m\u001b[0;32m     62\u001b[0m \u001b[1;32mprint\u001b[0m \u001b[0mresult\u001b[0m\u001b[1;33m\u001b[0m\u001b[0m\n",
      "\u001b[1;32m<ipython-input-23-32d5ad1fb5f7>\u001b[0m in \u001b[0;36mgetMeanings\u001b[1;34m(meanings_vectors_arr)\u001b[0m\n\u001b[0;32m     16\u001b[0m     \u001b[1;32mfor\u001b[0m \u001b[0mmeanings_vectors\u001b[0m \u001b[1;32min\u001b[0m \u001b[0mmeanings_vectors_arr\u001b[0m\u001b[1;33m:\u001b[0m\u001b[1;33m\u001b[0m\u001b[0m\n\u001b[0;32m     17\u001b[0m         \u001b[1;32mfor\u001b[0m \u001b[0mmeanings\u001b[0m \u001b[1;32min\u001b[0m \u001b[0mmeanings_vectors\u001b[0m\u001b[1;33m:\u001b[0m\u001b[1;33m\u001b[0m\u001b[0m\n\u001b[1;32m---> 18\u001b[1;33m             \u001b[1;32mfor\u001b[0m \u001b[0mscore\u001b[0m \u001b[1;32min\u001b[0m \u001b[0mmeanings\u001b[0m\u001b[1;33m[\u001b[0m\u001b[1;34m'scores'\u001b[0m\u001b[1;33m]\u001b[0m\u001b[1;33m:\u001b[0m\u001b[1;33m\u001b[0m\u001b[0m\n\u001b[0m\u001b[0;32m     19\u001b[0m                 \u001b[0mresult\u001b[0m\u001b[1;33m.\u001b[0m\u001b[0mappend\u001b[0m\u001b[1;33m(\u001b[0m\u001b[1;33m(\u001b[0m\u001b[0mscore\u001b[0m\u001b[1;33m[\u001b[0m\u001b[1;36m0\u001b[0m\u001b[1;33m]\u001b[0m\u001b[1;33m,\u001b[0m \u001b[0mscore\u001b[0m\u001b[1;33m[\u001b[0m\u001b[1;36m1\u001b[0m\u001b[1;33m]\u001b[0m\u001b[1;33m,\u001b[0m \u001b[0mmeanings_vectors\u001b[0m\u001b[1;33m[\u001b[0m\u001b[1;36m0\u001b[0m\u001b[1;33m]\u001b[0m\u001b[1;33m[\u001b[0m\u001b[1;34m'ori'\u001b[0m\u001b[1;33m]\u001b[0m\u001b[1;33m,\u001b[0m \u001b[0mgetByNum\u001b[0m\u001b[1;33m(\u001b[0m\u001b[0mscore\u001b[0m\u001b[1;33m[\u001b[0m\u001b[1;36m1\u001b[0m\u001b[1;33m]\u001b[0m\u001b[1;33m)\u001b[0m\u001b[1;33m[\u001b[0m\u001b[1;34m'ori'\u001b[0m\u001b[1;33m]\u001b[0m\u001b[1;33m,\u001b[0m \u001b[0mscore\u001b[0m\u001b[1;33m[\u001b[0m\u001b[1;36m3\u001b[0m\u001b[1;33m]\u001b[0m\u001b[1;33m)\u001b[0m\u001b[1;33m)\u001b[0m\u001b[1;33m\u001b[0m\u001b[0m\n\u001b[0;32m     20\u001b[0m \u001b[1;33m\u001b[0m\u001b[0m\n",
      "\u001b[1;31mKeyError\u001b[0m: 'scores'"
     ]
    }
   ],
   "source": [
    "def getByNum(n):\n",
    "    result = []\n",
    "    for d in dictionary:\n",
    "        if (d['ori']['n'] == n):\n",
    "            return d \n",
    "        \n",
    "def getAllByNum(n):\n",
    "    result = []\n",
    "    for d in dictionary:\n",
    "        if (d['ori']['n'] == n):\n",
    "            result.append(d)\n",
    "    return result\n",
    "        \n",
    "def getMeanings(meanings_vectors_arr):\n",
    "    result = []\n",
    "    for meanings_vectors in meanings_vectors_arr:\n",
    "        for meanings in meanings_vectors:\n",
    "            for score in meanings['scores']:\n",
    "                result.append((score[0], score[1], meanings_vectors[0]['ori'], getByNum(score[1])['ori'], score[3]))\n",
    "    \n",
    "    result = sorted(result, key = lambda item: item[4])\n",
    "    \n",
    "    scores1 = []\n",
    "    scores2 = []\n",
    "    \n",
    "    i = 0\n",
    "    while ((len(scores1) < 5)and(i < len(result))):\n",
    "        if (result[i][4] == 'score1'):\n",
    "            scores1.append(result[i])\n",
    "            \n",
    "        i = i + 1\n",
    "            \n",
    "    while ((len(scores2) < 5)and(i < len(result))):\n",
    "        if (result[i][4] == 'score2'):\n",
    "            scores2.append(result[i])\n",
    "            \n",
    "        i = i + 1\n",
    "        \n",
    "    result = scores1 + scores2\n",
    "    \n",
    "    result = sorted(result, key = lambda item: item[4])\n",
    "    \n",
    "    return result\n",
    "\n",
    "def convertToJson(inp):\n",
    "    result = []\n",
    "    for i in range(len(inp)):\n",
    "        t = inp[i]\n",
    "        try:\n",
    "            s = t[3]['locus'] + t[3]['symp']\n",
    "        except:\n",
    "            s = t[3]['symp']\n",
    "        result.append({\n",
    "            'score': t[0],\n",
    "            'mean' : t[2],\n",
    "            'n': t[1],\n",
    "            'ori': {'s': s, 'n': t[3]['n']}\n",
    "        })\n",
    "    return result\n",
    "\n",
    "result = getMeanings(meanings_vectors_arr)\n",
    "print result"
   ]
  },
  {
   "cell_type": "code",
   "execution_count": 24,
   "metadata": {},
   "outputs": [
    {
     "name": "stdout",
     "output_type": "stream",
     "text": [
      "{'vec1': array([ 0.088963, -0.11943 ,  0.51479 , -0.22849 , -0.48744 ,  0.52461 ,\n",
      "        1.0833  ,  0.2036  , -0.10356 , -0.90879 , -1.1133  , -0.046818,\n",
      "        0.61796 ,  0.32025 ,  0.68944 ,  0.032507, -0.54395 , -0.6076  ,\n",
      "        0.5394  , -0.96485 , -0.15272 ,  0.48759 , -0.54559 ,  0.26201 ,\n",
      "        0.23242 ,  1.004   ,  0.46159 , -0.11139 ,  0.033382, -0.94896 ,\n",
      "        0.35095 ,  0.37579 ,  0.4459  ,  0.21918 , -0.33345 ,  0.16264 ,\n",
      "        0.17105 , -0.57323 , -0.21542 ,  0.28871 , -0.50265 ,  1.0135  ,\n",
      "       -0.60055 , -1.8324  ,  1.0699  ,  0.30057 ,  0.044205, -0.36068 ,\n",
      "        0.49848 , -0.25486 , -0.42697 ,  0.1646  , -0.35776 ,  0.33329 ,\n",
      "        0.39519 , -1.523   ,  0.19788 ,  0.342   ,  0.42626 ,  0.83373 ,\n",
      "        0.045401,  1.2959  , -0.17404 ,  0.023227, -0.43781 ,  1.1165  ,\n",
      "        0.16485 , -0.6885  ,  0.64707 , -0.26326 , -0.90837 , -0.63386 ,\n",
      "       -0.84953 ,  0.75681 ,  0.68023 ,  0.60484 , -0.19225 ,  0.22224 ,\n",
      "       -0.94682 ,  0.080545,  0.19992 , -0.21358 , -0.2752  ,  0.054472,\n",
      "       -0.6619  , -0.18534 , -0.1168  , -0.31357 , -0.90917 ,  0.78752 ,\n",
      "       -0.079025, -0.13392 , -0.099822,  0.47006 ,  0.15488 ,  0.74916 ,\n",
      "       -0.22253 , -0.63524 ,  0.24169 , -0.90633 ], dtype=float32), 'vec2': array([ 0.088963, -0.11943 ,  0.51479 , -0.22849 , -0.48744 ,  0.52461 ,\n",
      "        1.0833  ,  0.2036  , -0.10356 , -0.90879 , -1.1133  , -0.046818,\n",
      "        0.61796 ,  0.32025 ,  0.68944 ,  0.032507, -0.54395 , -0.6076  ,\n",
      "        0.5394  , -0.96485 , -0.15272 ,  0.48759 , -0.54559 ,  0.26201 ,\n",
      "        0.23242 ,  1.004   ,  0.46159 , -0.11139 ,  0.033382, -0.94896 ,\n",
      "        0.35095 ,  0.37579 ,  0.4459  ,  0.21918 , -0.33345 ,  0.16264 ,\n",
      "        0.17105 , -0.57323 , -0.21542 ,  0.28871 , -0.50265 ,  1.0135  ,\n",
      "       -0.60055 , -1.8324  ,  1.0699  ,  0.30057 ,  0.044205, -0.36068 ,\n",
      "        0.49848 , -0.25486 , -0.42697 ,  0.1646  , -0.35776 ,  0.33329 ,\n",
      "        0.39519 , -1.523   ,  0.19788 ,  0.342   ,  0.42626 ,  0.83373 ,\n",
      "        0.045401,  1.2959  , -0.17404 ,  0.023227, -0.43781 ,  1.1165  ,\n",
      "        0.16485 , -0.6885  ,  0.64707 , -0.26326 , -0.90837 , -0.63386 ,\n",
      "       -0.84953 ,  0.75681 ,  0.68023 ,  0.60484 , -0.19225 ,  0.22224 ,\n",
      "       -0.94682 ,  0.080545,  0.19992 , -0.21358 , -0.2752  ,  0.054472,\n",
      "       -0.6619  , -0.18534 , -0.1168  , -0.31357 , -0.90917 ,  0.78752 ,\n",
      "       -0.079025, -0.13392 , -0.099822,  0.47006 ,  0.15488 ,  0.74916 ,\n",
      "       -0.22253 , -0.63524 ,  0.24169 , -0.90633 ], dtype=float32), 'ori': {'locus': [u'body'], 'symp': [u'fever'], 'n': 483}}\n",
      "{'vec1': array([-0.973905  , -0.38323   ,  0.94162   ,  1.49576   , -0.831736  ,\n",
      "       -0.6129    , -0.04828   ,  0.21969   , -1.5288    ,  0.49716997,\n",
      "       -0.42430001, -0.65611005,  0.70532   ,  0.268504  ,  1.84389   ,\n",
      "       -1.25178   , -1.00365   , -0.063769  ,  0.50109   , -1.55849   ,\n",
      "       -0.43606478, -0.207188  , -0.366454  ,  0.160491  , -0.49026802,\n",
      "       -0.46064898, -0.021033  , -0.94337   ,  0.39981002,  0.34446996,\n",
      "        1.124     ,  0.41607   ,  0.26068088,  1.42771   , -0.48875   ,\n",
      "        1.21532   ,  0.95102096, -0.231877  , -0.04991   , -0.09635997,\n",
      "       -0.28073   , -1.13622   , -0.23324996, -1.21504   ,  1.59194   ,\n",
      "        1.05349   ,  0.45224997, -0.517831  ,  0.68187   , -0.924049  ,\n",
      "        1.7366201 , -1.2368901 ,  0.182876  ,  1.5345399 , -0.409657  ,\n",
      "       -3.4311    ,  0.63968   ,  0.27451   ,  1.75633   ,  0.24963799,\n",
      "       -0.41437   ,  0.85677   , -0.33113003,  0.39152   ,  1.62887   ,\n",
      "        0.762526  ,  0.15460001, -1.9164801 ,  1.56531   , -0.4144603 ,\n",
      "       -0.21273002, -0.76168   ,  2.15075   ,  1.859     ,  0.54955   ,\n",
      "       -1.0493801 ,  0.9576    , -1.17108   ,  1.37142   , -0.6035    ,\n",
      "        0.25276   ,  0.123925  , -2.03613   ,  0.45658   , -0.42917   ,\n",
      "        0.11482   ,  1.2221744 , -0.47640997,  0.25006002,  0.72653997,\n",
      "       -0.518     ,  0.31203   , -0.99964   ,  0.506079  , -0.15825999,\n",
      "       -0.01971   ,  0.24392101, -1.28858   ,  0.4442573 , -0.53264   ],\n",
      "      dtype=float32), 'vec2': array([-0.973905  , -0.38323   ,  0.94162   ,  1.49576   , -0.831736  ,\n",
      "       -0.6129    , -0.04828   ,  0.21969   , -1.5288    ,  0.49716997,\n",
      "       -0.42430001, -0.65611005,  0.70532   ,  0.268504  ,  1.84389   ,\n",
      "       -1.25178   , -1.00365   , -0.063769  ,  0.50109   , -1.55849   ,\n",
      "       -0.43606478, -0.207188  , -0.366454  ,  0.160491  , -0.49026802,\n",
      "       -0.46064898, -0.021033  , -0.94337   ,  0.39981002,  0.34446996,\n",
      "        1.124     ,  0.41607   ,  0.26068088,  1.42771   , -0.48875   ,\n",
      "        1.21532   ,  0.95102096, -0.231877  , -0.04991   , -0.09635997,\n",
      "       -0.28073   , -1.13622   , -0.23324996, -1.21504   ,  1.59194   ,\n",
      "        1.05349   ,  0.45224997, -0.517831  ,  0.68187   , -0.924049  ,\n",
      "        1.7366201 , -1.2368901 ,  0.182876  ,  1.5345399 , -0.409657  ,\n",
      "       -3.4311    ,  0.63968   ,  0.27451   ,  1.75633   ,  0.24963799,\n",
      "       -0.41437   ,  0.85677   , -0.33113003,  0.39152   ,  1.62887   ,\n",
      "        0.762526  ,  0.15460001, -1.9164801 ,  1.56531   , -0.4144603 ,\n",
      "       -0.21273002, -0.76168   ,  2.15075   ,  1.859     ,  0.54955   ,\n",
      "       -1.0493801 ,  0.9576    , -1.17108   ,  1.37142   , -0.6035    ,\n",
      "        0.25276   ,  0.123925  , -2.03613   ,  0.45658   , -0.42917   ,\n",
      "        0.11482   ,  1.2221744 , -0.47640997,  0.25006002,  0.72653997,\n",
      "       -0.518     ,  0.31203   , -0.99964   ,  0.506079  , -0.15825999,\n",
      "       -0.01971   ,  0.24392101, -1.28858   ,  0.4442573 , -0.53264   ],\n",
      "      dtype=float32), 'ori': {'locus': [u'body'], 'symp': [u'elevated', u'temperature'], 'n': 483}}\n",
      "{'vec1': array([ 0.088963, -0.11943 ,  0.51479 , -0.22849 , -0.48744 ,  0.52461 ,\n",
      "        1.0833  ,  0.2036  , -0.10356 , -0.90879 , -1.1133  , -0.046818,\n",
      "        0.61796 ,  0.32025 ,  0.68944 ,  0.032507, -0.54395 , -0.6076  ,\n",
      "        0.5394  , -0.96485 , -0.15272 ,  0.48759 , -0.54559 ,  0.26201 ,\n",
      "        0.23242 ,  1.004   ,  0.46159 , -0.11139 ,  0.033382, -0.94896 ,\n",
      "        0.35095 ,  0.37579 ,  0.4459  ,  0.21918 , -0.33345 ,  0.16264 ,\n",
      "        0.17105 , -0.57323 , -0.21542 ,  0.28871 , -0.50265 ,  1.0135  ,\n",
      "       -0.60055 , -1.8324  ,  1.0699  ,  0.30057 ,  0.044205, -0.36068 ,\n",
      "        0.49848 , -0.25486 , -0.42697 ,  0.1646  , -0.35776 ,  0.33329 ,\n",
      "        0.39519 , -1.523   ,  0.19788 ,  0.342   ,  0.42626 ,  0.83373 ,\n",
      "        0.045401,  1.2959  , -0.17404 ,  0.023227, -0.43781 ,  1.1165  ,\n",
      "        0.16485 , -0.6885  ,  0.64707 , -0.26326 , -0.90837 , -0.63386 ,\n",
      "       -0.84953 ,  0.75681 ,  0.68023 ,  0.60484 , -0.19225 ,  0.22224 ,\n",
      "       -0.94682 ,  0.080545,  0.19992 , -0.21358 , -0.2752  ,  0.054472,\n",
      "       -0.6619  , -0.18534 , -0.1168  , -0.31357 , -0.90917 ,  0.78752 ,\n",
      "       -0.079025, -0.13392 , -0.099822,  0.47006 ,  0.15488 ,  0.74916 ,\n",
      "       -0.22253 , -0.63524 ,  0.24169 , -0.90633 ], dtype=float32), 'vec2': array([ 0.009523  , -0.06654   ,  1.37306   , -1.11718   , -0.45385498,\n",
      "        1.290723  ,  0.58224   ,  1.47672   , -0.84871995, -0.602931  ,\n",
      "       -0.8313737 , -0.31366798,  2.46632   ,  0.20852001,  0.66074   ,\n",
      "        0.36443698, -0.2068581 , -0.864653  ,  0.295157  , -1.6544499 ,\n",
      "       -0.60213   , -0.04499999, -0.04415995,  0.096371  ,  0.90523005,\n",
      "        1.00445   ,  0.20015001, -1.61738   ,  0.365592  , -0.35010004,\n",
      "        1.107098  ,  0.60701203, -0.17559001,  0.21783   , -0.83155   ,\n",
      "       -0.064697  ,  0.57746   ,  0.4772699 , -0.17074   ,  0.36266202,\n",
      "       -2.06785   , -0.19861996,  0.07981002, -2.7688599 ,  0.89372003,\n",
      "        1.52128   ,  0.17685498, -0.14232004, -0.43002006, -1.08847   ,\n",
      "       -0.335342  ,  0.395095  ,  0.03727499,  2.63854   , -0.58576   ,\n",
      "       -6.6333    , -0.41509   ,  0.04102603,  4.44846   ,  2.21439   ,\n",
      "        0.456771  ,  3.0208602 , -0.06941301,  1.144577  ,  1.06124   ,\n",
      "        0.849559  , -0.215615  , -0.43685198,  0.72501796, -0.93081   ,\n",
      "       -0.01553804, -1.39269   , -0.51508   ,  0.52624   ,  1.9637101 ,\n",
      "        0.52764   , -1.11333   , -0.63852   , -2.74796   , -0.274011  ,\n",
      "        1.1093099 ,  0.89636004, -0.743429  ,  0.213422  , -3.1426601 ,\n",
      "       -1.09633   ,  0.37821198, -0.654342  , -0.456065  ,  0.610478  ,\n",
      "        0.35582   , -0.559729  , -0.270132  ,  1.9260999 , -0.29978   ,\n",
      "        0.56324   , -1.09109   , -2.10414   ,  2.14019   , -0.94075   ],\n",
      "      dtype=float32), 'ori': {'locus': [u'the', u'body'], 'symp': [u'fever'], 'n': 483}}\n",
      "{'vec1': array([-0.973905  , -0.38323   ,  0.94162   ,  1.49576   , -0.831736  ,\n",
      "       -0.6129    , -0.04828   ,  0.21969   , -1.5288    ,  0.49716997,\n",
      "       -0.42430001, -0.65611005,  0.70532   ,  0.268504  ,  1.84389   ,\n",
      "       -1.25178   , -1.00365   , -0.063769  ,  0.50109   , -1.55849   ,\n",
      "       -0.43606478, -0.207188  , -0.366454  ,  0.160491  , -0.49026802,\n",
      "       -0.46064898, -0.021033  , -0.94337   ,  0.39981002,  0.34446996,\n",
      "        1.124     ,  0.41607   ,  0.26068088,  1.42771   , -0.48875   ,\n",
      "        1.21532   ,  0.95102096, -0.231877  , -0.04991   , -0.09635997,\n",
      "       -0.28073   , -1.13622   , -0.23324996, -1.21504   ,  1.59194   ,\n",
      "        1.05349   ,  0.45224997, -0.517831  ,  0.68187   , -0.924049  ,\n",
      "        1.7366201 , -1.2368901 ,  0.182876  ,  1.5345399 , -0.409657  ,\n",
      "       -3.4311    ,  0.63968   ,  0.27451   ,  1.75633   ,  0.24963799,\n",
      "       -0.41437   ,  0.85677   , -0.33113003,  0.39152   ,  1.62887   ,\n",
      "        0.762526  ,  0.15460001, -1.9164801 ,  1.56531   , -0.4144603 ,\n",
      "       -0.21273002, -0.76168   ,  2.15075   ,  1.859     ,  0.54955   ,\n",
      "       -1.0493801 ,  0.9576    , -1.17108   ,  1.37142   , -0.6035    ,\n",
      "        0.25276   ,  0.123925  , -2.03613   ,  0.45658   , -0.42917   ,\n",
      "        0.11482   ,  1.2221744 , -0.47640997,  0.25006002,  0.72653997,\n",
      "       -0.518     ,  0.31203   , -0.99964   ,  0.506079  , -0.15825999,\n",
      "       -0.01971   ,  0.24392101, -1.28858   ,  0.4442573 , -0.53264   ],\n",
      "      dtype=float32), 'vec2': array([-1.0533450e+00, -3.3034000e-01,  1.7998900e+00,  6.0706997e-01,\n",
      "       -7.9815102e-01,  1.5321296e-01, -5.4934001e-01,  1.4928099e+00,\n",
      "       -2.2739601e+00,  8.0302894e-01, -1.4237371e-01, -9.2296004e-01,\n",
      "        2.5536799e+00,  1.5677400e-01,  1.8151900e+00, -9.1985005e-01,\n",
      "       -6.6655803e-01, -3.2082200e-01,  2.5684699e-01, -2.2480900e+00,\n",
      "       -8.8547480e-01, -7.3977798e-01,  1.3497603e-01, -5.1480085e-03,\n",
      "        1.8254200e-01, -4.6019897e-01, -2.8247297e-01, -2.4493599e+00,\n",
      "        7.3202002e-01,  9.4332993e-01,  1.8801479e+00,  6.4729202e-01,\n",
      "       -3.6080912e-01,  1.4263600e+00, -9.8685002e-01,  9.8798299e-01,\n",
      "        1.3574309e+00,  8.1862295e-01, -5.2300021e-03, -2.2407964e-02,\n",
      "       -1.8459300e+00, -2.3483400e+00,  4.4711006e-01, -2.1515000e+00,\n",
      "        1.4157600e+00,  2.2742000e+00,  5.8489996e-01, -2.9947105e-01,\n",
      "       -2.4663007e-01, -1.7576590e+00,  1.8282480e+00, -1.0063951e+00,\n",
      "        5.7791102e-01,  3.8397899e+00, -1.3906070e+00, -8.5414000e+00,\n",
      "        2.6710033e-02, -2.6463985e-02,  5.7785301e+00,  1.6302980e+00,\n",
      "       -3.0000210e-03,  2.5817301e+00, -2.2650303e-01,  1.5128701e+00,\n",
      "        3.1279202e+00,  4.9558496e-01, -2.2586499e-01, -1.6648321e+00,\n",
      "        1.6432580e+00, -1.0820103e+00,  6.8010199e-01, -1.5205100e+00,\n",
      "        2.4851999e+00,  1.6284300e+00,  1.8330300e+00, -1.1265800e+00,\n",
      "        3.6520004e-02, -2.0318401e+00, -4.2971992e-01, -9.5805597e-01,\n",
      "        1.1621499e+00,  1.2338650e+00, -2.5043590e+00,  6.1553001e-01,\n",
      "       -2.9099302e+00, -7.9617000e-01,  1.7171865e+00, -8.1718194e-01,\n",
      "        7.0316499e-01,  5.4949796e-01, -8.3155006e-02, -1.1377901e-01,\n",
      "       -1.1699500e+00,  1.9621189e+00, -6.1291999e-01, -2.0563000e-01,\n",
      "       -6.2463903e-01, -2.7574799e+00,  2.3427572e+00, -5.6705999e-01],\n",
      "      dtype=float32), 'ori': {'locus': [u'the', u'body'], 'symp': [u'elevated', u'temperature'], 'n': 483}}\n",
      "{'vec1': array([ 0.088963, -0.11943 ,  0.51479 , -0.22849 , -0.48744 ,  0.52461 ,\n",
      "        1.0833  ,  0.2036  , -0.10356 , -0.90879 , -1.1133  , -0.046818,\n",
      "        0.61796 ,  0.32025 ,  0.68944 ,  0.032507, -0.54395 , -0.6076  ,\n",
      "        0.5394  , -0.96485 , -0.15272 ,  0.48759 , -0.54559 ,  0.26201 ,\n",
      "        0.23242 ,  1.004   ,  0.46159 , -0.11139 ,  0.033382, -0.94896 ,\n",
      "        0.35095 ,  0.37579 ,  0.4459  ,  0.21918 , -0.33345 ,  0.16264 ,\n",
      "        0.17105 , -0.57323 , -0.21542 ,  0.28871 , -0.50265 ,  1.0135  ,\n",
      "       -0.60055 , -1.8324  ,  1.0699  ,  0.30057 ,  0.044205, -0.36068 ,\n",
      "        0.49848 , -0.25486 , -0.42697 ,  0.1646  , -0.35776 ,  0.33329 ,\n",
      "        0.39519 , -1.523   ,  0.19788 ,  0.342   ,  0.42626 ,  0.83373 ,\n",
      "        0.045401,  1.2959  , -0.17404 ,  0.023227, -0.43781 ,  1.1165  ,\n",
      "        0.16485 , -0.6885  ,  0.64707 , -0.26326 , -0.90837 , -0.63386 ,\n",
      "       -0.84953 ,  0.75681 ,  0.68023 ,  0.60484 , -0.19225 ,  0.22224 ,\n",
      "       -0.94682 ,  0.080545,  0.19992 , -0.21358 , -0.2752  ,  0.054472,\n",
      "       -0.6619  , -0.18534 , -0.1168  , -0.31357 , -0.90917 ,  0.78752 ,\n",
      "       -0.079025, -0.13392 , -0.099822,  0.47006 ,  0.15488 ,  0.74916 ,\n",
      "       -0.22253 , -0.63524 ,  0.24169 , -0.90633 ], dtype=float32), 'vec2': array([ 0.088963, -0.11943 ,  0.51479 , -0.22849 , -0.48744 ,  0.52461 ,\n",
      "        1.0833  ,  0.2036  , -0.10356 , -0.90879 , -1.1133  , -0.046818,\n",
      "        0.61796 ,  0.32025 ,  0.68944 ,  0.032507, -0.54395 , -0.6076  ,\n",
      "        0.5394  , -0.96485 , -0.15272 ,  0.48759 , -0.54559 ,  0.26201 ,\n",
      "        0.23242 ,  1.004   ,  0.46159 , -0.11139 ,  0.033382, -0.94896 ,\n",
      "        0.35095 ,  0.37579 ,  0.4459  ,  0.21918 , -0.33345 ,  0.16264 ,\n",
      "        0.17105 , -0.57323 , -0.21542 ,  0.28871 , -0.50265 ,  1.0135  ,\n",
      "       -0.60055 , -1.8324  ,  1.0699  ,  0.30057 ,  0.044205, -0.36068 ,\n",
      "        0.49848 , -0.25486 , -0.42697 ,  0.1646  , -0.35776 ,  0.33329 ,\n",
      "        0.39519 , -1.523   ,  0.19788 ,  0.342   ,  0.42626 ,  0.83373 ,\n",
      "        0.045401,  1.2959  , -0.17404 ,  0.023227, -0.43781 ,  1.1165  ,\n",
      "        0.16485 , -0.6885  ,  0.64707 , -0.26326 , -0.90837 , -0.63386 ,\n",
      "       -0.84953 ,  0.75681 ,  0.68023 ,  0.60484 , -0.19225 ,  0.22224 ,\n",
      "       -0.94682 ,  0.080545,  0.19992 , -0.21358 , -0.2752  ,  0.054472,\n",
      "       -0.6619  , -0.18534 , -0.1168  , -0.31357 , -0.90917 ,  0.78752 ,\n",
      "       -0.079025, -0.13392 , -0.099822,  0.47006 ,  0.15488 ,  0.74916 ,\n",
      "       -0.22253 , -0.63524 ,  0.24169 , -0.90633 ], dtype=float32), 'ori': {'symp': [u'fever'], 'n': 483}}\n",
      "{'vec1': array([ 0.088963, -0.11943 ,  0.51479 , -0.22849 , -0.48744 ,  0.52461 ,\n",
      "        1.0833  ,  0.2036  , -0.10356 , -0.90879 , -1.1133  , -0.046818,\n",
      "        0.61796 ,  0.32025 ,  0.68944 ,  0.032507, -0.54395 , -0.6076  ,\n",
      "        0.5394  , -0.96485 , -0.15272 ,  0.48759 , -0.54559 ,  0.26201 ,\n",
      "        0.23242 ,  1.004   ,  0.46159 , -0.11139 ,  0.033382, -0.94896 ,\n",
      "        0.35095 ,  0.37579 ,  0.4459  ,  0.21918 , -0.33345 ,  0.16264 ,\n",
      "        0.17105 , -0.57323 , -0.21542 ,  0.28871 , -0.50265 ,  1.0135  ,\n",
      "       -0.60055 , -1.8324  ,  1.0699  ,  0.30057 ,  0.044205, -0.36068 ,\n",
      "        0.49848 , -0.25486 , -0.42697 ,  0.1646  , -0.35776 ,  0.33329 ,\n",
      "        0.39519 , -1.523   ,  0.19788 ,  0.342   ,  0.42626 ,  0.83373 ,\n",
      "        0.045401,  1.2959  , -0.17404 ,  0.023227, -0.43781 ,  1.1165  ,\n",
      "        0.16485 , -0.6885  ,  0.64707 , -0.26326 , -0.90837 , -0.63386 ,\n",
      "       -0.84953 ,  0.75681 ,  0.68023 ,  0.60484 , -0.19225 ,  0.22224 ,\n",
      "       -0.94682 ,  0.080545,  0.19992 , -0.21358 , -0.2752  ,  0.054472,\n",
      "       -0.6619  , -0.18534 , -0.1168  , -0.31357 , -0.90917 ,  0.78752 ,\n",
      "       -0.079025, -0.13392 , -0.099822,  0.47006 ,  0.15488 ,  0.74916 ,\n",
      "       -0.22253 , -0.63524 ,  0.24169 , -0.90633 ], dtype=float32), 'vec2': array([ 0.088963, -0.11943 ,  0.51479 , -0.22849 , -0.48744 ,  0.52461 ,\n",
      "        1.0833  ,  0.2036  , -0.10356 , -0.90879 , -1.1133  , -0.046818,\n",
      "        0.61796 ,  0.32025 ,  0.68944 ,  0.032507, -0.54395 , -0.6076  ,\n",
      "        0.5394  , -0.96485 , -0.15272 ,  0.48759 , -0.54559 ,  0.26201 ,\n",
      "        0.23242 ,  1.004   ,  0.46159 , -0.11139 ,  0.033382, -0.94896 ,\n",
      "        0.35095 ,  0.37579 ,  0.4459  ,  0.21918 , -0.33345 ,  0.16264 ,\n",
      "        0.17105 , -0.57323 , -0.21542 ,  0.28871 , -0.50265 ,  1.0135  ,\n",
      "       -0.60055 , -1.8324  ,  1.0699  ,  0.30057 ,  0.044205, -0.36068 ,\n",
      "        0.49848 , -0.25486 , -0.42697 ,  0.1646  , -0.35776 ,  0.33329 ,\n",
      "        0.39519 , -1.523   ,  0.19788 ,  0.342   ,  0.42626 ,  0.83373 ,\n",
      "        0.045401,  1.2959  , -0.17404 ,  0.023227, -0.43781 ,  1.1165  ,\n",
      "        0.16485 , -0.6885  ,  0.64707 , -0.26326 , -0.90837 , -0.63386 ,\n",
      "       -0.84953 ,  0.75681 ,  0.68023 ,  0.60484 , -0.19225 ,  0.22224 ,\n",
      "       -0.94682 ,  0.080545,  0.19992 , -0.21358 , -0.2752  ,  0.054472,\n",
      "       -0.6619  , -0.18534 , -0.1168  , -0.31357 , -0.90917 ,  0.78752 ,\n",
      "       -0.079025, -0.13392 , -0.099822,  0.47006 ,  0.15488 ,  0.74916 ,\n",
      "       -0.22253 , -0.63524 ,  0.24169 , -0.90633 ], dtype=float32), 'ori': {'symp': [u'fever'], 'n': 483}}\n",
      "{'vec1': array([-0.973905  , -0.38323   ,  0.94162   ,  1.49576   , -0.831736  ,\n",
      "       -0.6129    , -0.04828   ,  0.21969   , -1.5288    ,  0.49716997,\n",
      "       -0.42430001, -0.65611005,  0.70532   ,  0.268504  ,  1.84389   ,\n",
      "       -1.25178   , -1.00365   , -0.063769  ,  0.50109   , -1.55849   ,\n",
      "       -0.43606478, -0.207188  , -0.366454  ,  0.160491  , -0.49026802,\n",
      "       -0.46064898, -0.021033  , -0.94337   ,  0.39981002,  0.34446996,\n",
      "        1.124     ,  0.41607   ,  0.26068088,  1.42771   , -0.48875   ,\n",
      "        1.21532   ,  0.95102096, -0.231877  , -0.04991   , -0.09635997,\n",
      "       -0.28073   , -1.13622   , -0.23324996, -1.21504   ,  1.59194   ,\n",
      "        1.05349   ,  0.45224997, -0.517831  ,  0.68187   , -0.924049  ,\n",
      "        1.7366201 , -1.2368901 ,  0.182876  ,  1.5345399 , -0.409657  ,\n",
      "       -3.4311    ,  0.63968   ,  0.27451   ,  1.75633   ,  0.24963799,\n",
      "       -0.41437   ,  0.85677   , -0.33113003,  0.39152   ,  1.62887   ,\n",
      "        0.762526  ,  0.15460001, -1.9164801 ,  1.56531   , -0.4144603 ,\n",
      "       -0.21273002, -0.76168   ,  2.15075   ,  1.859     ,  0.54955   ,\n",
      "       -1.0493801 ,  0.9576    , -1.17108   ,  1.37142   , -0.6035    ,\n",
      "        0.25276   ,  0.123925  , -2.03613   ,  0.45658   , -0.42917   ,\n",
      "        0.11482   ,  1.2221744 , -0.47640997,  0.25006002,  0.72653997,\n",
      "       -0.518     ,  0.31203   , -0.99964   ,  0.506079  , -0.15825999,\n",
      "       -0.01971   ,  0.24392101, -1.28858   ,  0.4442573 , -0.53264   ],\n",
      "      dtype=float32), 'vec2': array([-0.973905  , -0.38323   ,  0.94162   ,  1.49576   , -0.831736  ,\n",
      "       -0.6129    , -0.04828   ,  0.21969   , -1.5288    ,  0.49716997,\n",
      "       -0.42430001, -0.65611005,  0.70532   ,  0.268504  ,  1.84389   ,\n",
      "       -1.25178   , -1.00365   , -0.063769  ,  0.50109   , -1.55849   ,\n",
      "       -0.43606478, -0.207188  , -0.366454  ,  0.160491  , -0.49026802,\n",
      "       -0.46064898, -0.021033  , -0.94337   ,  0.39981002,  0.34446996,\n",
      "        1.124     ,  0.41607   ,  0.26068088,  1.42771   , -0.48875   ,\n",
      "        1.21532   ,  0.95102096, -0.231877  , -0.04991   , -0.09635997,\n",
      "       -0.28073   , -1.13622   , -0.23324996, -1.21504   ,  1.59194   ,\n",
      "        1.05349   ,  0.45224997, -0.517831  ,  0.68187   , -0.924049  ,\n",
      "        1.7366201 , -1.2368901 ,  0.182876  ,  1.5345399 , -0.409657  ,\n",
      "       -3.4311    ,  0.63968   ,  0.27451   ,  1.75633   ,  0.24963799,\n",
      "       -0.41437   ,  0.85677   , -0.33113003,  0.39152   ,  1.62887   ,\n",
      "        0.762526  ,  0.15460001, -1.9164801 ,  1.56531   , -0.4144603 ,\n",
      "       -0.21273002, -0.76168   ,  2.15075   ,  1.859     ,  0.54955   ,\n",
      "       -1.0493801 ,  0.9576    , -1.17108   ,  1.37142   , -0.6035    ,\n",
      "        0.25276   ,  0.123925  , -2.03613   ,  0.45658   , -0.42917   ,\n",
      "        0.11482   ,  1.2221744 , -0.47640997,  0.25006002,  0.72653997,\n",
      "       -0.518     ,  0.31203   , -0.99964   ,  0.506079  , -0.15825999,\n",
      "       -0.01971   ,  0.24392101, -1.28858   ,  0.4442573 , -0.53264   ],\n",
      "      dtype=float32), 'ori': {'symp': [u'elevated', u'temperature'], 'n': 483}}\n",
      "{'vec1': array([-0.81944  ,  0.25229  ,  0.40702  , -0.53064  , -0.20228  ,\n",
      "        0.19126  ,  0.62131  ,  0.41724  , -0.66371  ,  0.24782  ,\n",
      "        0.29151  , -0.83448  , -0.39432  , -0.49943  , -0.077816 ,\n",
      "       -0.8719   , -1.1252   , -0.012094 ,  0.1107   , -0.83553  ,\n",
      "       -0.23827  , -0.052312 ,  0.030347 , -0.004537 ,  0.42303  ,\n",
      "        0.93544  ,  0.21693  , -0.15405  ,  0.20441  , -0.37387  ,\n",
      "       -0.25754  ,  0.54488  , -0.75077  ,  0.62396  , -0.7282   ,\n",
      "       -0.32586  ,  0.28222  ,  0.14217  ,  0.1502   ,  0.14584  ,\n",
      "       -0.80174  , -1.4491   , -0.65195  , -0.75065  ,  0.87231  ,\n",
      "       -0.039429 , -0.35938  , -0.055968 ,  0.50721  , -1.1506   ,\n",
      "        0.26065  , -0.24274  ,  0.028816 ,  1.0346   ,  0.53804  ,\n",
      "       -2.0088   ,  0.25618  ,  0.23273  ,  0.8515   ,  0.59453  ,\n",
      "       -0.36182  ,  0.45109  , -0.15011  ,  0.56306  ,  1.5118   ,\n",
      "        0.18578  ,  0.6121   , -0.86859  , -0.45418  , -0.73914  ,\n",
      "       -0.33672  , -0.16152  ,  0.53765  ,  1.4895   ,  0.49102  ,\n",
      "        0.41394  ,  0.25366  , -1.0345   ,  0.58973  ,  0.40383  ,\n",
      "        1.4782   ,  0.023942 , -1.361    ,  0.74435  , -0.3525   ,\n",
      "        0.43865  ,  0.34282  ,  0.77223  ,  0.17737  ,  0.22747  ,\n",
      "       -0.28071  ,  0.24796  , -0.023517 ,  0.048262 , -0.71295  ,\n",
      "       -0.34944  , -0.0080006, -0.51739  ,  0.68234  , -0.73275  ],\n",
      "      dtype=float32), 'vec2': array([-0.81944  ,  0.25229  ,  0.40702  , -0.53064  , -0.20228  ,\n",
      "        0.19126  ,  0.62131  ,  0.41724  , -0.66371  ,  0.24782  ,\n",
      "        0.29151  , -0.83448  , -0.39432  , -0.49943  , -0.077816 ,\n",
      "       -0.8719   , -1.1252   , -0.012094 ,  0.1107   , -0.83553  ,\n",
      "       -0.23827  , -0.052312 ,  0.030347 , -0.004537 ,  0.42303  ,\n",
      "        0.93544  ,  0.21693  , -0.15405  ,  0.20441  , -0.37387  ,\n",
      "       -0.25754  ,  0.54488  , -0.75077  ,  0.62396  , -0.7282   ,\n",
      "       -0.32586  ,  0.28222  ,  0.14217  ,  0.1502   ,  0.14584  ,\n",
      "       -0.80174  , -1.4491   , -0.65195  , -0.75065  ,  0.87231  ,\n",
      "       -0.039429 , -0.35938  , -0.055968 ,  0.50721  , -1.1506   ,\n",
      "        0.26065  , -0.24274  ,  0.028816 ,  1.0346   ,  0.53804  ,\n",
      "       -2.0088   ,  0.25618  ,  0.23273  ,  0.8515   ,  0.59453  ,\n",
      "       -0.36182  ,  0.45109  , -0.15011  ,  0.56306  ,  1.5118   ,\n",
      "        0.18578  ,  0.6121   , -0.86859  , -0.45418  , -0.73914  ,\n",
      "       -0.33672  , -0.16152  ,  0.53765  ,  1.4895   ,  0.49102  ,\n",
      "        0.41394  ,  0.25366  , -1.0345   ,  0.58973  ,  0.40383  ,\n",
      "        1.4782   ,  0.023942 , -1.361    ,  0.74435  , -0.3525   ,\n",
      "        0.43865  ,  0.34282  ,  0.77223  ,  0.17737  ,  0.22747  ,\n",
      "       -0.28071  ,  0.24796  , -0.023517 ,  0.048262 , -0.71295  ,\n",
      "       -0.34944  , -0.0080006, -0.51739  ,  0.68234  , -0.73275  ],\n",
      "      dtype=float32), 'ori': {'symp': [u'heat'], 'n': 483}}\n",
      "{'vec1': array([-0.36488  ,  0.27522  ,  0.18953  , -0.48162  ,  0.39359  ,\n",
      "        0.48914  ,  0.042053 ,  0.53933  , -0.11381  , -0.42349  ,\n",
      "       -0.84803  ,  0.23861  ,  0.61729  ,  0.20146  ,  0.33016  ,\n",
      "       -0.3605   ,  0.31305  ,  0.30823  ,  1.1774   , -0.19189  ,\n",
      "       -0.40346  , -0.58627  , -0.63916  ,  0.081179 ,  0.64153  ,\n",
      "        1.0917   ,  0.21738  ,  0.80418  , -0.046995 , -0.91323  ,\n",
      "        0.5425   , -0.25096  , -0.26461  ,  0.52786  , -0.30461  ,\n",
      "       -0.15329  , -0.12408  , -0.039471 ,  0.33211  , -0.24453  ,\n",
      "        0.29256  , -0.81799  , -0.7947   , -0.41976  , -0.092415 ,\n",
      "        0.044985 ,  0.42434  ,  0.34759  ,  0.028021 , -0.71144  ,\n",
      "        0.046369 , -0.41666  , -0.068464 ,  0.88566  ,  0.30201  ,\n",
      "       -1.3924   ,  0.42836  ,  0.37983  , -0.1418   , -0.4841   ,\n",
      "       -0.018949 ,  0.90062  , -0.43516  ,  0.29726  , -0.28785  ,\n",
      "        0.58064  ,  0.76641  , -1.0514   , -0.54026  , -0.59651  ,\n",
      "        0.73925  , -0.38793  ,  0.40876  , -0.51978  , -0.43104  ,\n",
      "        0.51332  ,  0.52135  , -0.82867  ,  0.3284   , -0.34549  ,\n",
      "        0.0031114, -0.22283  , -0.23674  ,  0.62589  , -0.0095707,\n",
      "        0.077816 ,  0.58919  ,  0.10631  ,  0.40274  ,  0.035766 ,\n",
      "        0.73691  , -0.21988  , -0.37092  ,  0.15318  , -0.32985  ,\n",
      "       -0.4561   , -0.97794  , -0.16973  , -0.29159  , -0.12829  ],\n",
      "      dtype=float32), 'vec2': array([-0.36488  ,  0.27522  ,  0.18953  , -0.48162  ,  0.39359  ,\n",
      "        0.48914  ,  0.042053 ,  0.53933  , -0.11381  , -0.42349  ,\n",
      "       -0.84803  ,  0.23861  ,  0.61729  ,  0.20146  ,  0.33016  ,\n",
      "       -0.3605   ,  0.31305  ,  0.30823  ,  1.1774   , -0.19189  ,\n",
      "       -0.40346  , -0.58627  , -0.63916  ,  0.081179 ,  0.64153  ,\n",
      "        1.0917   ,  0.21738  ,  0.80418  , -0.046995 , -0.91323  ,\n",
      "        0.5425   , -0.25096  , -0.26461  ,  0.52786  , -0.30461  ,\n",
      "       -0.15329  , -0.12408  , -0.039471 ,  0.33211  , -0.24453  ,\n",
      "        0.29256  , -0.81799  , -0.7947   , -0.41976  , -0.092415 ,\n",
      "        0.044985 ,  0.42434  ,  0.34759  ,  0.028021 , -0.71144  ,\n",
      "        0.046369 , -0.41666  , -0.068464 ,  0.88566  ,  0.30201  ,\n",
      "       -1.3924   ,  0.42836  ,  0.37983  , -0.1418   , -0.4841   ,\n",
      "       -0.018949 ,  0.90062  , -0.43516  ,  0.29726  , -0.28785  ,\n",
      "        0.58064  ,  0.76641  , -1.0514   , -0.54026  , -0.59651  ,\n",
      "        0.73925  , -0.38793  ,  0.40876  , -0.51978  , -0.43104  ,\n",
      "        0.51332  ,  0.52135  , -0.82867  ,  0.3284   , -0.34549  ,\n",
      "        0.0031114, -0.22283  , -0.23674  ,  0.62589  , -0.0095707,\n",
      "        0.077816 ,  0.58919  ,  0.10631  ,  0.40274  ,  0.035766 ,\n",
      "        0.73691  , -0.21988  , -0.37092  ,  0.15318  , -0.32985  ,\n",
      "       -0.4561   , -0.97794  , -0.16973  , -0.29159  , -0.12829  ],\n",
      "      dtype=float32), 'ori': {'symp': [u'glow'], 'n': 483}}\n"
     ]
    }
   ],
   "source": [
    "for d in dictionary:\n",
    "    if (d['ori'][\"n\"]==483):\n",
    "        print d"
   ]
  },
  {
   "cell_type": "code",
   "execution_count": 25,
   "metadata": {},
   "outputs": [
    {
     "name": "stdout",
     "output_type": "stream",
     "text": [
      "11\n",
      "11\n",
      "11\n",
      "11\n",
      "12\n",
      "69\n",
      "69\n",
      "69\n",
      "96\n"
     ]
    }
   ],
   "source": [
    "for i in range(100):\n",
    "    d = dicts[i]\n",
    "    for v in d:\n",
    "        if (v['ori']['n']==483):\n",
    "            print i"
   ]
  },
  {
   "cell_type": "code",
   "execution_count": 26,
   "metadata": {},
   "outputs": [
    {
     "ename": "NameError",
     "evalue": "name 'result' is not defined",
     "output_type": "error",
     "traceback": [
      "\u001b[1;31m---------------------------------------------------------------------------\u001b[0m",
      "\u001b[1;31mNameError\u001b[0m                                 Traceback (most recent call last)",
      "\u001b[1;32m<ipython-input-26-3653eb7ee4b5>\u001b[0m in \u001b[0;36m<module>\u001b[1;34m()\u001b[0m\n\u001b[1;32m----> 1\u001b[1;33m \u001b[0mconvertToJson\u001b[0m\u001b[1;33m(\u001b[0m\u001b[0mresult\u001b[0m\u001b[1;33m)\u001b[0m\u001b[1;33m\u001b[0m\u001b[0m\n\u001b[0m",
      "\u001b[1;31mNameError\u001b[0m: name 'result' is not defined"
     ]
    }
   ],
   "source": [
    "convertToJson(result)"
   ]
  },
  {
   "cell_type": "code",
   "execution_count": 27,
   "metadata": {},
   "outputs": [
    {
     "name": "stdout",
     "output_type": "stream",
     "text": [
      "Custom dict- 7\n",
      "Printing new scores\n"
     ]
    },
    {
     "data": {
      "text/plain": [
       "[{'mean': [u'pressure'],\n",
       "  'n': 1322,\n",
       "  'ori': {'n': 1322,\n",
       "   's': [u'abdomen',\n",
       "    u'from',\n",
       "    u'the',\n",
       "    u'navel',\n",
       "    u'to',\n",
       "    u'the',\n",
       "    u'pubic',\n",
       "    u'region',\n",
       "    u'pressure']},\n",
       "  'score': 1.0},\n",
       " {'mean': [u'pressure'],\n",
       "  'n': 780,\n",
       "  'ori': {'n': 780,\n",
       "   's': [u'fingers', u'of', u'the', u'right', u'hand', u'cold', u'snap']},\n",
       "  'score': 0.7184235453605652},\n",
       " {'mean': [u'pressure'],\n",
       "  'n': 1465,\n",
       "  'ori': {'n': 1465, 's': [u'body', u'frequent', u'pulse']},\n",
       "  'score': 0.7059236764907837},\n",
       " {'mean': [u'pressure'],\n",
       "  'n': 1322,\n",
       "  'ori': {'n': 1322,\n",
       "   's': [u'abdomen',\n",
       "    u'from',\n",
       "    u'the',\n",
       "    u'navel',\n",
       "    u'to',\n",
       "    u'the',\n",
       "    u'pubic',\n",
       "    u'region',\n",
       "    u'pressure']},\n",
       "  'score': 0.6996955871582031},\n",
       " {'mean': [u'pressure'],\n",
       "  'n': 777,\n",
       "  'ori': {'n': 777,\n",
       "   's': [u'fingers', u'of', u'the', u'left', u'hand', u'cold', u'snap']},\n",
       "  'score': 0.6993538737297058},\n",
       " {'mean': [u'pressure'],\n",
       "  'n': 1401,\n",
       "  'ori': {'n': 1401, 's': [u'body', u'instability', u'of', u'the', u'joints']},\n",
       "  'score': 0.6923914551734924},\n",
       " {'mean': [u'pressure'],\n",
       "  'n': 1467,\n",
       "  'ori': {'n': 1467, 's': [u'head', u'anxiety']},\n",
       "  'score': 0.6498227386095963},\n",
       " {'mean': [u'pressure'],\n",
       "  'n': 1323,\n",
       "  'ori': {'n': 1323,\n",
       "   's': [u'abdomen',\n",
       "    u'from',\n",
       "    u'the',\n",
       "    u'navel',\n",
       "    u'to',\n",
       "    u'the',\n",
       "    u'pubic',\n",
       "    u'region',\n",
       "    u'periodic',\n",
       "    u'pains']},\n",
       "  'score': 0.6479771024461324},\n",
       " {'mean': [u'pressure'],\n",
       "  'n': 1600,\n",
       "  'ori': {'n': 1600, 's': [u'spine', u'deformation']},\n",
       "  'score': 0.6315286592805681},\n",
       " {'mean': [u'pressure'],\n",
       "  'n': 1522,\n",
       "  'ori': {'n': 1522,\n",
       "   's': [u'upper', u'eyelid', u'of', u'right', u'eye', u'voltage']},\n",
       "  'score': 0.626089268771266}]"
      ]
     },
     "execution_count": 27,
     "metadata": {},
     "output_type": "execute_result"
    }
   ],
   "source": [
    "def processQuery(query, all_dict = False):\n",
    "    query = getTranslation(query)\n",
    "    meanings_arr = getTrees(query)\n",
    "    meanings_vectors_arr = getMeaningsVectorsArr(meanings_arr)\n",
    "    meanings_vectors_arr = getScoresArr(meanings_vectors_arr, all_dict)\n",
    "    result = getMeanings(meanings_vectors_arr)\n",
    "    result = convertToJson(result)\n",
    "    result = sorted(result, key = lambda item: -item['score'])\n",
    "    return result\n",
    "\n",
    "processQuery(\"давление\")"
   ]
  },
  {
   "cell_type": "code",
   "execution_count": 28,
   "metadata": {},
   "outputs": [
    {
     "name": "stdout",
     "output_type": "stream",
     "text": [
      "Custom dict- 11\n",
      "Printing new scores\n",
      "(0.4575174152851105, 483, [u'the', u'body'], 'score2')\n",
      "(0.6435675411666477, 483, [u'body'], 'score1')\n",
      "(0.6435675411666477, 483, [u'the', u'body'], 'score1')\n",
      "(0.6435675411666477, 483, '', 'score1')\n",
      "(0.6435675411666477, 483, '', 'score1')\n",
      "(0.6435675621032715, 483, [u'body'], 'score2')\n",
      "(0.6435675621032715, 483, '', 'score2')\n",
      "(0.6435675621032715, 483, '', 'score2')\n"
     ]
    },
    {
     "name": "stderr",
     "output_type": "stream",
     "text": [
      "C:\\Users\\Administrator\\Anaconda2\\lib\\site-packages\\ipykernel_launcher.py:55: RuntimeWarning: invalid value encountered in float_scalars\n"
     ]
    },
    {
     "name": "stdout",
     "output_type": "stream",
     "text": [
      "Printing new scores\n",
      "(0.2114520394864598, 483, '', 'score1')\n",
      "(0.22825420424810866, 483, [u'body'], 'score1')\n",
      "(0.22825420424810866, 483, [u'the', u'body'], 'score1')\n",
      "(0.2324931025505066, 483, '', 'score2')\n",
      "(0.23249310838487497, 483, '', 'score1')\n",
      "(0.23633667826652527, 483, [u'body'], 'score2')\n",
      "(0.23633667826652527, 483, '', 'score2')\n",
      "(0.24706622958183289, 483, '', 'score2')\n",
      "(0.2470662356187921, 483, '', 'score1')\n",
      "(0.27153587341308594, 483, [u'the', u'body'], 'score2')\n",
      "(0.4575174152851105, 483, [u'the', u'body'], 'score2')\n",
      "(0.6435675411666477, 483, [u'body'], 'score1')\n",
      "(0.6435675411666477, 483, [u'the', u'body'], 'score1')\n",
      "(0.6435675411666477, 483, '', 'score1')\n",
      "(0.6435675411666477, 483, '', 'score1')\n",
      "(0.6435675621032715, 483, [u'body'], 'score2')\n",
      "(0.6435675621032715, 483, '', 'score2')\n",
      "(0.6435675621032715, 483, '', 'score2')\n",
      "For query -  боль в голове  -  1.34999990463 secs  gegen  7.74300003052  secs\n",
      "Custom dict- 80\n",
      "Printing new scores\n",
      "Printing new scores\n",
      "(0.13030370271549127, 483, '', 'score1')\n",
      "(0.22023756802082062, 483, [u'body'], 'score2')\n",
      "(0.22023756802082062, 483, '', 'score2')\n",
      "(0.22093655833739845, 483, [u'body'], 'score1')\n",
      "(0.2559795677661896, 483, [u'body'], 'score2')\n",
      "(0.2559795677661896, 483, '', 'score2')\n",
      "(0.2559795677661896, 483, '', 'score2')\n",
      "(0.2653496161656726, 483, [u'body'], 'score1')\n",
      "(0.2734476327896118, 483, '', 'score2')\n",
      "(0.31236564137979833, 483, '', 'score1')\n",
      "(0.31236564137979833, 483, '', 'score1')\n",
      "(0.34137656690802215, 483, [u'the', u'body'], 'score1')\n",
      "(0.34137656690802215, 483, [u'the', u'body'], 'score1')\n",
      "(0.35924714080178166, 483, '', 'score1')\n",
      "(0.4378441870212555, 483, [u'the', u'body'], 'score2')\n",
      "(0.4985942840576172, 483, '', 'score2')\n",
      "(0.5123727321624756, 483, [u'the', u'body'], 'score2')\n",
      "(0.5687854934656192, 483, '', 'score1')\n",
      "For query -  пелена перед глазами  -  1.48399996758 secs  gegen  9.59400010109  secs\n",
      "Custom dict- 50\n",
      "Printing new scores\n",
      "Printing new scores\n",
      "(0.19055335223674774, 483, '', 'score2')\n",
      "(0.22483024235094193, 483, '', 'score1')\n",
      "(0.25596023388100464, 483, '', 'score1')\n",
      "(0.3207256495952606, 483, [u'body'], 'score2')\n",
      "(0.3207256495952606, 483, '', 'score2')\n",
      "(0.3381958723676058, 483, [u'body'], 'score1')\n",
      "(0.3381958723676058, 483, [u'the', u'body'], 'score1')\n",
      "(0.3840954303741455, 483, '', 'score2')\n",
      "(0.40036779280013224, 483, '', 'score1')\n",
      "(0.43574169278144836, 483, [u'the', u'body'], 'score2')\n",
      "(0.45723307289709186, 483, [u'body'], 'score1')\n",
      "(0.45723307289709186, 483, [u'the', u'body'], 'score1')\n",
      "(0.5498314913603712, 483, '', 'score1')\n",
      "(0.5498314913603712, 483, '', 'score1')\n",
      "(0.5601829886436462, 483, [u'body'], 'score2')\n",
      "(0.5601829886436462, 483, '', 'score2')\n",
      "(0.5601829886436462, 483, '', 'score2')\n",
      "(0.5702559351921082, 483, [u'the', u'body'], 'score2')\n",
      "For query -  боль в животе  -  1.32799983025 secs  gegen  9.06200003624  secs\n",
      "Custom dict- 11\n",
      "Printing new scores\n",
      "(0.010979119688272476, 483, [u'the', u'body'], 'score2')\n",
      "(0.4023320536324275, 483, [u'body'], 'score1')\n",
      "(0.4023320536324275, 483, [u'the', u'body'], 'score1')\n",
      "(0.4023320536324275, 483, '', 'score1')\n",
      "(0.4023320536324275, 483, '', 'score1')\n",
      "(0.4023320972919464, 483, [u'body'], 'score2')\n",
      "(0.4023320972919464, 483, '', 'score2')\n",
      "(0.4023320972919464, 483, '', 'score2')\n",
      "Printing new scores\n",
      "(0.0, 483, '', 'score1')\n",
      "(0.003923219628632069, 483, [u'body'], 'score2')\n",
      "(0.003923219628632069, 483, '', 'score2')\n",
      "(0.010979119688272476, 483, [u'the', u'body'], 'score2')\n",
      "(0.020753052085638046, 483, '', 'score2')\n",
      "(0.03858040427922552, 483, [u'body'], 'score1')\n",
      "(0.03858040427922552, 483, [u'the', u'body'], 'score1')\n",
      "(0.03858040427922552, 483, '', 'score1')\n",
      "(0.1104644980993823, 483, '', 'score1')\n",
      "(0.11046451330184937, 483, '', 'score2')\n",
      "(0.14818362891674042, 483, [u'the', u'body'], 'score2')\n",
      "(0.4023320536324275, 483, [u'body'], 'score1')\n",
      "(0.4023320536324275, 483, [u'the', u'body'], 'score1')\n",
      "(0.4023320536324275, 483, '', 'score1')\n",
      "(0.4023320536324275, 483, '', 'score1')\n",
      "(0.4023320972919464, 483, [u'body'], 'score2')\n",
      "(0.4023320972919464, 483, '', 'score2')\n",
      "(0.4023320972919464, 483, '', 'score2')\n",
      "For query -  болит живот  -  1.32800006866 secs  gegen  8.1099998951  secs\n",
      "Custom dict- 11\n",
      "Printing new scores\n",
      "(0.4575174152851105, 483, [u'the', u'body'], 'score2')\n",
      "(0.6435675411666477, 483, [u'body'], 'score1')\n",
      "(0.6435675411666477, 483, [u'the', u'body'], 'score1')\n",
      "(0.6435675411666477, 483, '', 'score1')\n",
      "(0.6435675411666477, 483, '', 'score1')\n",
      "(0.6435675621032715, 483, [u'body'], 'score2')\n",
      "(0.6435675621032715, 483, '', 'score2')\n",
      "(0.6435675621032715, 483, '', 'score2')\n",
      "Printing new scores\n",
      "(0.2114520394864598, 483, '', 'score1')\n",
      "(0.22825420424810866, 483, [u'body'], 'score1')\n",
      "(0.22825420424810866, 483, [u'the', u'body'], 'score1')\n",
      "(0.2324931025505066, 483, '', 'score2')\n",
      "(0.23249310838487497, 483, '', 'score1')\n",
      "(0.23633667826652527, 483, [u'body'], 'score2')\n",
      "(0.23633667826652527, 483, '', 'score2')\n",
      "(0.24706622958183289, 483, '', 'score2')\n",
      "(0.2470662356187921, 483, '', 'score1')\n",
      "(0.27153587341308594, 483, [u'the', u'body'], 'score2')\n",
      "(0.4575174152851105, 483, [u'the', u'body'], 'score2')\n",
      "(0.6435675411666477, 483, [u'body'], 'score1')\n",
      "(0.6435675411666477, 483, [u'the', u'body'], 'score1')\n",
      "(0.6435675411666477, 483, '', 'score1')\n",
      "(0.6435675411666477, 483, '', 'score1')\n",
      "(0.6435675621032715, 483, [u'body'], 'score2')\n",
      "(0.6435675621032715, 483, '', 'score2')\n",
      "(0.6435675621032715, 483, '', 'score2')\n",
      "For query -  болит голова  -  1.42100000381 secs  gegen  7.85800004005  secs\n",
      "Custom dict- 11\n",
      "Printing new scores\n",
      "(0.6703671813011169, 483, [u'the', u'body'], 'score2')\n",
      "(1.0000000000000002, 483, [u'body'], 'score1')\n",
      "(1.0000000000000002, 483, [u'the', u'body'], 'score1')\n",
      "(1.0000000000000002, 483, '', 'score1')\n",
      "(1.0000000000000002, 483, '', 'score1')\n",
      "(1.0000001192092896, 483, [u'body'], 'score2')\n",
      "(1.0000001192092896, 483, '', 'score2')\n",
      "(1.0000001192092896, 483, '', 'score2')\n",
      "Printing new scores\n",
      "(0.2807637095457389, 483, '', 'score1')\n",
      "(0.2807637155056, 483, '', 'score2')\n",
      "(0.3220098574322075, 483, [u'body'], 'score1')\n",
      "(0.3220098574322075, 483, [u'the', u'body'], 'score1')\n",
      "(0.3220098574322075, 483, '', 'score1')\n",
      "(0.34928369522094727, 483, '', 'score2')\n",
      "(0.34928372818132436, 483, '', 'score1')\n",
      "(0.3582766056060791, 483, [u'body'], 'score2')\n",
      "(0.3582766056060791, 483, '', 'score2')\n",
      "(0.3851184546947479, 483, [u'the', u'body'], 'score2')\n",
      "(0.6703671813011169, 483, [u'the', u'body'], 'score2')\n",
      "(1.0000000000000002, 483, [u'body'], 'score1')\n",
      "(1.0000000000000002, 483, [u'the', u'body'], 'score1')\n",
      "(1.0000000000000002, 483, '', 'score1')\n",
      "(1.0000000000000002, 483, '', 'score1')\n",
      "(1.0000001192092896, 483, [u'body'], 'score2')\n",
      "(1.0000001192092896, 483, '', 'score2')\n",
      "(1.0000001192092896, 483, '', 'score2')\n",
      "For query -  повышенная температура  -  1.55700016022 secs  gegen  7.50600004196  secs\n",
      "Custom dict- 11\n",
      "Printing new scores\n",
      "(0.27670180797576904, 483, [u'the', u'body'], 'score2')\n",
      "(0.5044744942351392, 483, [u'body'], 'score1')\n",
      "(0.5044744942351392, 483, [u'the', u'body'], 'score1')\n",
      "(0.5044744942351392, 483, '', 'score1')\n",
      "(0.5044744942351392, 483, '', 'score1')\n",
      "(0.5044745206832886, 483, [u'body'], 'score2')\n",
      "(0.5044745206832886, 483, '', 'score2')\n",
      "(0.5044745206832886, 483, '', 'score2')\n",
      "Printing new scores\n",
      "(0.18983101844787598, 483, [u'the', u'body'], 'score2')\n",
      "(0.22855434311257034, 483, '', 'score1')\n",
      "(0.2285543531179428, 483, '', 'score2')\n",
      "(0.2505035376668355, 483, [u'body'], 'score1')\n",
      "(0.2505035376668355, 483, [u'the', u'body'], 'score1')\n",
      "(0.2505035376668355, 483, '', 'score1')\n",
      "(0.2586928904056549, 483, [u'body'], 'score2')\n",
      "(0.2586928904056549, 483, '', 'score2')\n",
      "(0.27670180797576904, 483, [u'the', u'body'], 'score2')\n",
      "(0.2836350730746059, 483, '', 'score1')\n",
      "(0.28363507986068726, 483, '', 'score2')\n",
      "(0.5044744942351392, 483, [u'body'], 'score1')\n",
      "(0.5044744942351392, 483, [u'the', u'body'], 'score1')\n",
      "(0.5044744942351392, 483, '', 'score1')\n",
      "(0.5044744942351392, 483, '', 'score1')\n",
      "(0.5044745206832886, 483, [u'body'], 'score2')\n",
      "(0.5044745206832886, 483, '', 'score2')\n",
      "(0.5044745206832886, 483, '', 'score2')\n",
      "For query -  головокружение  -  1.45799994469 secs  gegen  7.72899985313  secs\n",
      "Custom dict- 17\n",
      "Printing new scores\n",
      "Printing new scores\n",
      "(0.09182347357273102, 483, '', 'score2')\n",
      "(0.10269919490603174, 483, '', 'score1')\n",
      "(0.11241512117547096, 483, '', 'score1')\n",
      "(0.14871549606323242, 483, [u'body'], 'score2')\n",
      "(0.14871549606323242, 483, '', 'score2')\n",
      "(0.17849185862766997, 483, [u'body'], 'score1')\n",
      "(0.20018389640006612, 483, '', 'score1')\n",
      "(0.217271171724086, 483, [u'the', u'body'], 'score1')\n",
      "(0.22013165056705475, 483, '', 'score2')\n",
      "(0.2553398311138153, 483, [u'the', u'body'], 'score2')\n",
      "(0.2623056110246872, 483, [u'body'], 'score1')\n",
      "(0.2623056110246872, 483, [u'the', u'body'], 'score1')\n",
      "(0.26430150866508484, 483, [u'body'], 'score2')\n",
      "(0.26430150866508484, 483, '', 'score2')\n",
      "(0.26430150866508484, 483, '', 'score2')\n",
      "(0.2749157456801856, 483, '', 'score1')\n",
      "(0.2749157456801856, 483, '', 'score1')\n",
      "(0.3343857228755951, 483, [u'the', u'body'], 'score2')\n",
      "For query -  боль в ноге  -  1.65600013733 secs  gegen  8.83500003815  secs\n"
     ]
    }
   ],
   "source": [
    "import time\n",
    "\n",
    "def accessPerf(query):\n",
    "    t1 = time.time()\n",
    "    result = processQuery(query, False)\n",
    "    dt1 = time.time() - t1\n",
    "    t2 = time.time()\n",
    "    result = processQuery(query, True)\n",
    "    dt2 = time.time() - t2\n",
    "    print \"For query - \", query, \" - \", dt1, \"secs\", \" gegen \", dt2, \" secs\"\n",
    "\n",
    "accessPerf(\"боль в голове\")\n",
    "accessPerf(\"пелена перед глазами\")\n",
    "accessPerf(\"боль в животе\")\n",
    "accessPerf(\"болит живот\")\n",
    "accessPerf(\"болит голова\")\n",
    "accessPerf(\"повышенная температура\")\n",
    "accessPerf(\"головокружение\")\n",
    "accessPerf(\"боль в ноге\")"
   ]
  },
  {
   "cell_type": "code",
   "execution_count": 29,
   "metadata": {},
   "outputs": [],
   "source": [
    "def checkTree(tree, ss):\n",
    "    poses = tree.pos()\n",
    "        \n",
    "    for s in ss:\n",
    "        found = True\n",
    "        found_pos = False\n",
    "        for pos in poses:\n",
    "            if (pos[0] == s):\n",
    "                found_pos = True\n",
    "        if not(found_pos):\n",
    "            found = False\n",
    "            break\n",
    "    return found            \n",
    "\n",
    "def getSent(query, ss):\n",
    "    \n",
    "    query = getTranslation(query)[0]\n",
    "    trees = getTreeRaw(query)\n",
    "    \n",
    "    appl_tree = \"\"\n",
    "    appl_tree_len = 100\n",
    "    \n",
    "    for tree in trees: \n",
    "        if checkTree(tree, ss):\n",
    "            if (len(tree.pos())< appl_tree_len):\n",
    "                appl_tree = tree\n",
    "                applt_tree_len = len(tree.pos())\n",
    "                \n",
    "    appl_tree = appl_tree.flatten()\n",
    "    \n",
    "    t = appl_tree.label()\n",
    "    s = appl_tree.leaves()\n",
    "    us = \"\"\n",
    "    \n",
    "    for i in range(len(s)):\n",
    "        us += s[i] + \" \"\n",
    "    \n",
    "    #s = s.replace(t, \"\")\n",
    "    #s = s.replace(\"(\", \"\")\n",
    "    #s = s.replace(\")\", \"\")\n",
    "        \n",
    "    query_rus = getTranslationRus(us)[0]\n",
    "    query_rus = query_rus.lower()\n",
    "    \n",
    "    return t, query_rus\n",
    "    "
   ]
  },
  {
   "cell_type": "code",
   "execution_count": 30,
   "metadata": {},
   "outputs": [
    {
     "name": "stdout",
     "output_type": "stream",
     "text": [
      "NN головная боль\n"
     ]
    }
   ],
   "source": [
    "typ, sent = getSent('у меня болит голова', [\"headache\"])\n",
    "print typ, sent"
   ]
  },
  {
   "cell_type": "code",
   "execution_count": 31,
   "metadata": {},
   "outputs": [
    {
     "name": "stdout",
     "output_type": "stream",
     "text": [
      "Custom dict- 11\n",
      "Printing new scores\n",
      "(0.6703671813011169, 483, [u'the', u'body'], 'score2')\n",
      "(1.0000000000000002, 483, [u'body'], 'score1')\n",
      "(1.0000000000000002, 483, [u'the', u'body'], 'score1')\n",
      "(1.0000000000000002, 483, '', 'score1')\n",
      "(1.0000000000000002, 483, '', 'score1')\n",
      "(1.0000001192092896, 483, [u'body'], 'score2')\n",
      "(1.0000001192092896, 483, '', 'score2')\n",
      "(1.0000001192092896, 483, '', 'score2')\n"
     ]
    },
    {
     "data": {
      "text/plain": [
       "[{'mean': [u'fever'],\n",
       "  'n': 483,\n",
       "  'ori': {'n': 483, 's': [u'body', u'fever']},\n",
       "  'score': 1.0000001192092896},\n",
       " {'mean': [u'fever'],\n",
       "  'n': 483,\n",
       "  'ori': {'n': 483, 's': [u'body', u'fever']},\n",
       "  'score': 1.0000000000000002},\n",
       " {'mean': [u'fever'],\n",
       "  'n': 683,\n",
       "  'ori': {'n': 683, 's': [u'anus', u'diarrhea']},\n",
       "  'score': 0.7167077631181513},\n",
       " {'mean': [u'fever'],\n",
       "  'n': 527,\n",
       "  'ori': {'n': 527, 's': [u'rib', u'cage', u'cough']},\n",
       "  'score': 0.6714698672294617},\n",
       " {'mean': [u'fever'],\n",
       "  'n': 540,\n",
       "  'ori': {'n': 540, 's': [u'stomach', u'vomiting']},\n",
       "  'score': 0.6605111956596375},\n",
       " {'mean': [u'fever'],\n",
       "  'n': 527,\n",
       "  'ori': {'n': 527, 's': [u'rib', u'cage', u'cough']},\n",
       "  'score': 0.6584986660143968},\n",
       " {'mean': [u'fever'],\n",
       "  'n': 540,\n",
       "  'ori': {'n': 540, 's': [u'stomach', u'vomiting']},\n",
       "  'score': 0.6581173753181658},\n",
       " {'mean': [u'fever'],\n",
       "  'n': 539,\n",
       "  'ori': {'n': 539, 's': [u'stomach', u'nausea']},\n",
       "  'score': 0.6484075784683228},\n",
       " {'mean': [u'fever'],\n",
       "  'n': 1068,\n",
       "  'ori': {'n': 1068, 's': [u'body', u'fatigue']},\n",
       "  'score': 0.6438028812408447},\n",
       " {'mean': [u'fever'],\n",
       "  'n': 1068,\n",
       "  'ori': {'n': 1068, 's': [u'body', u'fatigue']},\n",
       "  'score': 0.6438028586350997}]"
      ]
     },
     "execution_count": 31,
     "metadata": {},
     "output_type": "execute_result"
    }
   ],
   "source": [
    "processQuery('повышенная температура')"
   ]
  },
  {
   "cell_type": "code",
   "execution_count": 32,
   "metadata": {},
   "outputs": [
    {
     "data": {
      "text/plain": [
       "0.5478494981867992"
      ]
     },
     "execution_count": 32,
     "metadata": {},
     "output_type": "execute_result"
    }
   ],
   "source": [
    "model.similarity('arm', 'foot')"
   ]
  },
  {
   "cell_type": "code",
   "execution_count": 33,
   "metadata": {},
   "outputs": [
    {
     "data": {
      "text/plain": [
       "[(u'vomiting', 0.6858890056610107),\n",
       " (u'nausea', 0.6830165386199951),\n",
       " (u'diarrhea', 0.6774415969848633),\n",
       " (u'rashes', 0.6471775770187378),\n",
       " (u'diarrhoea', 0.6440178155899048),\n",
       " (u'symptoms', 0.6343750357627869),\n",
       " (u'dysentery', 0.6342402696609497),\n",
       " (u'cirrhosis', 0.6254957318305969),\n",
       " (u'conjunctivitis', 0.620579719543457),\n",
       " (u'septicaemia', 0.6198016405105591)]"
      ]
     },
     "execution_count": 33,
     "metadata": {},
     "output_type": "execute_result"
    }
   ],
   "source": [
    "model.most_similar('jaundice')"
   ]
  },
  {
   "cell_type": "code",
   "execution_count": 34,
   "metadata": {},
   "outputs": [
    {
     "ename": "KeyError",
     "evalue": "\"word 'Red' not in vocabulary\"",
     "output_type": "error",
     "traceback": [
      "\u001b[1;31m---------------------------------------------------------------------------\u001b[0m",
      "\u001b[1;31mKeyError\u001b[0m                                  Traceback (most recent call last)",
      "\u001b[1;32m<ipython-input-34-75d54dbe6b0f>\u001b[0m in \u001b[0;36m<module>\u001b[1;34m()\u001b[0m\n\u001b[1;32m----> 1\u001b[1;33m \u001b[0mmodel\u001b[0m\u001b[1;33m[\u001b[0m\u001b[1;34m'Red'\u001b[0m\u001b[1;33m]\u001b[0m\u001b[1;33m\u001b[0m\u001b[0m\n\u001b[0m",
      "\u001b[1;32mC:\\Users\\Administrator\\Anaconda2\\lib\\site-packages\\gensim\\models\\keyedvectors.pyc\u001b[0m in \u001b[0;36m__getitem__\u001b[1;34m(self, entities)\u001b[0m\n\u001b[0;32m    167\u001b[0m         \u001b[1;32mif\u001b[0m \u001b[0misinstance\u001b[0m\u001b[1;33m(\u001b[0m\u001b[0mentities\u001b[0m\u001b[1;33m,\u001b[0m \u001b[0mstring_types\u001b[0m\u001b[1;33m)\u001b[0m\u001b[1;33m:\u001b[0m\u001b[1;33m\u001b[0m\u001b[0m\n\u001b[0;32m    168\u001b[0m             \u001b[1;31m# allow calls like trained_model['office'], as a shorthand for trained_model[['office']]\u001b[0m\u001b[1;33m\u001b[0m\u001b[1;33m\u001b[0m\u001b[0m\n\u001b[1;32m--> 169\u001b[1;33m             \u001b[1;32mreturn\u001b[0m \u001b[0mself\u001b[0m\u001b[1;33m.\u001b[0m\u001b[0mget_vector\u001b[0m\u001b[1;33m(\u001b[0m\u001b[0mentities\u001b[0m\u001b[1;33m)\u001b[0m\u001b[1;33m\u001b[0m\u001b[0m\n\u001b[0m\u001b[0;32m    170\u001b[0m \u001b[1;33m\u001b[0m\u001b[0m\n\u001b[0;32m    171\u001b[0m         \u001b[1;32mreturn\u001b[0m \u001b[0mvstack\u001b[0m\u001b[1;33m(\u001b[0m\u001b[1;33m[\u001b[0m\u001b[0mself\u001b[0m\u001b[1;33m.\u001b[0m\u001b[0mget_vector\u001b[0m\u001b[1;33m(\u001b[0m\u001b[0mentity\u001b[0m\u001b[1;33m)\u001b[0m \u001b[1;32mfor\u001b[0m \u001b[0mentity\u001b[0m \u001b[1;32min\u001b[0m \u001b[0mentities\u001b[0m\u001b[1;33m]\u001b[0m\u001b[1;33m)\u001b[0m\u001b[1;33m\u001b[0m\u001b[0m\n",
      "\u001b[1;32mC:\\Users\\Administrator\\Anaconda2\\lib\\site-packages\\gensim\\models\\keyedvectors.pyc\u001b[0m in \u001b[0;36mget_vector\u001b[1;34m(self, word)\u001b[0m\n\u001b[0;32m    275\u001b[0m \u001b[1;33m\u001b[0m\u001b[0m\n\u001b[0;32m    276\u001b[0m     \u001b[1;32mdef\u001b[0m \u001b[0mget_vector\u001b[0m\u001b[1;33m(\u001b[0m\u001b[0mself\u001b[0m\u001b[1;33m,\u001b[0m \u001b[0mword\u001b[0m\u001b[1;33m)\u001b[0m\u001b[1;33m:\u001b[0m\u001b[1;33m\u001b[0m\u001b[0m\n\u001b[1;32m--> 277\u001b[1;33m         \u001b[1;32mreturn\u001b[0m \u001b[0mself\u001b[0m\u001b[1;33m.\u001b[0m\u001b[0mword_vec\u001b[0m\u001b[1;33m(\u001b[0m\u001b[0mword\u001b[0m\u001b[1;33m)\u001b[0m\u001b[1;33m\u001b[0m\u001b[0m\n\u001b[0m\u001b[0;32m    278\u001b[0m \u001b[1;33m\u001b[0m\u001b[0m\n\u001b[0;32m    279\u001b[0m     \u001b[1;32mdef\u001b[0m \u001b[0mwords_closer_than\u001b[0m\u001b[1;33m(\u001b[0m\u001b[0mself\u001b[0m\u001b[1;33m,\u001b[0m \u001b[0mw1\u001b[0m\u001b[1;33m,\u001b[0m \u001b[0mw2\u001b[0m\u001b[1;33m)\u001b[0m\u001b[1;33m:\u001b[0m\u001b[1;33m\u001b[0m\u001b[0m\n",
      "\u001b[1;32mC:\\Users\\Administrator\\Anaconda2\\lib\\site-packages\\gensim\\models\\keyedvectors.pyc\u001b[0m in \u001b[0;36mword_vec\u001b[1;34m(self, word, use_norm)\u001b[0m\n\u001b[0;32m    272\u001b[0m             \u001b[1;32mreturn\u001b[0m \u001b[0mresult\u001b[0m\u001b[1;33m\u001b[0m\u001b[0m\n\u001b[0;32m    273\u001b[0m         \u001b[1;32melse\u001b[0m\u001b[1;33m:\u001b[0m\u001b[1;33m\u001b[0m\u001b[0m\n\u001b[1;32m--> 274\u001b[1;33m             \u001b[1;32mraise\u001b[0m \u001b[0mKeyError\u001b[0m\u001b[1;33m(\u001b[0m\u001b[1;34m\"word '%s' not in vocabulary\"\u001b[0m \u001b[1;33m%\u001b[0m \u001b[0mword\u001b[0m\u001b[1;33m)\u001b[0m\u001b[1;33m\u001b[0m\u001b[0m\n\u001b[0m\u001b[0;32m    275\u001b[0m \u001b[1;33m\u001b[0m\u001b[0m\n\u001b[0;32m    276\u001b[0m     \u001b[1;32mdef\u001b[0m \u001b[0mget_vector\u001b[0m\u001b[1;33m(\u001b[0m\u001b[0mself\u001b[0m\u001b[1;33m,\u001b[0m \u001b[0mword\u001b[0m\u001b[1;33m)\u001b[0m\u001b[1;33m:\u001b[0m\u001b[1;33m\u001b[0m\u001b[0m\n",
      "\u001b[1;31mKeyError\u001b[0m: \"word 'Red' not in vocabulary\""
     ]
    }
   ],
   "source": [
    "model['Red']"
   ]
  },
  {
   "cell_type": "code",
   "execution_count": null,
   "metadata": {
    "scrolled": true
   },
   "outputs": [
    {
     "name": "stdout",
     "output_type": "stream",
     "text": [
      " * Serving Flask app \"__main__\" (lazy loading)\n",
      " * Environment: production\n",
      "   WARNING: Do not use the development server in a production environment.\n",
      "   Use a production WSGI server instead.\n",
      " * Debug mode: on\n"
     ]
    },
    {
     "name": "stderr",
     "output_type": "stream",
     "text": [
      " * Running on http://localhost:8881/ (Press CTRL+C to quit)\n",
      "127.0.0.1 - - [15/Mar/2019 16:54:12] \"OPTIONS /scnlp/getsymptom HTTP/1.1\" 200 -\n"
     ]
    },
    {
     "name": "stdout",
     "output_type": "stream",
     "text": [
      "Options response <Response 3 bytes [200 OK]>\n",
      "Custom dict- 17\n"
     ]
    },
    {
     "name": "stderr",
     "output_type": "stream",
     "text": [
      "127.0.0.1 - - [15/Mar/2019 16:54:14] \"POST /scnlp/getsymptom HTTP/1.1\" 200 -\n"
     ]
    },
    {
     "name": "stdout",
     "output_type": "stream",
     "text": [
      "Printing new scores\n",
      "Send back [{'n': 1248, 'score': 1.0, 'ori': {'s': [u'neck', u'pain'], 'n': 1248}, 'mean': [u'pain']}, {'n': 667, 'score': 1.0, 'ori': {'s': [u'spine', u'pain'], 'n': 667}, 'mean': [u'pain']}, {'n': 556, 'score': 1.0, 'ori': {'s': [u'head', u'pain'], 'n': 556}, 'mean': [u'pain']}, {'n': 1713, 'score': 1.0, 'ori': {'s': [u'upper', u'eyelid', u'of', u'right', u'eye', u'pain'], 'n': 1713}, 'mean': [u'pain']}, {'n': 1711, 'score': 1.0, 'ori': {'s': [u'upper', u'eyelid', u'of', u'the', u'left', u'eye', u'pain'], 'n': 1711}, 'mean': [u'pain']}, {'n': 541, 'score': 0.9277157783508301, 'ori': {'s': [u'stomach', u'pain'], 'n': 541}, 'mean': [u'pain']}, {'n': 687, 'score': 0.9258033037185669, 'ori': {'s': [u'rib', u'cage', u'pain'], 'n': 687}, 'mean': [u'pain']}, {'n': 667, 'score': 0.9022372364997864, 'ori': {'s': [u'spine', u'pain'], 'n': 667}, 'mean': [u'pain']}, {'n': 1248, 'score': 0.8972241282463074, 'ori': {'s': [u'neck', u'pain'], 'n': 1248}, 'mean': [u'pain']}, {'n': 584, 'score': 0.8960983157157898, 'ori': {'s': [u'left', u'elbow', u'joint', u'pain'], 'n': 584}, 'mean': [u'pain']}]\n",
      "Send back <Response 2297 bytes [200 OK]>\n"
     ]
    },
    {
     "name": "stderr",
     "output_type": "stream",
     "text": [
      "127.0.0.1 - - [15/Mar/2019 16:54:33] \"OPTIONS /scnlp/getsymptom HTTP/1.1\" 200 -\n"
     ]
    },
    {
     "name": "stdout",
     "output_type": "stream",
     "text": [
      "Options response <Response 3 bytes [200 OK]>\n",
      "Custom dict- 17\n"
     ]
    },
    {
     "name": "stderr",
     "output_type": "stream",
     "text": [
      "127.0.0.1 - - [15/Mar/2019 16:54:34] \"POST /scnlp/getsymptom HTTP/1.1\" 200 -\n"
     ]
    },
    {
     "name": "stdout",
     "output_type": "stream",
     "text": [
      "Printing new scores\n",
      "Send back [{'n': 1248, 'score': 1.0, 'ori': {'s': [u'neck', u'pain'], 'n': 1248}, 'mean': [u'pain']}, {'n': 667, 'score': 1.0, 'ori': {'s': [u'spine', u'pain'], 'n': 667}, 'mean': [u'pain']}, {'n': 556, 'score': 1.0, 'ori': {'s': [u'head', u'pain'], 'n': 556}, 'mean': [u'pain']}, {'n': 1713, 'score': 1.0, 'ori': {'s': [u'upper', u'eyelid', u'of', u'right', u'eye', u'pain'], 'n': 1713}, 'mean': [u'pain']}, {'n': 1711, 'score': 1.0, 'ori': {'s': [u'upper', u'eyelid', u'of', u'the', u'left', u'eye', u'pain'], 'n': 1711}, 'mean': [u'pain']}, {'n': 541, 'score': 0.9277157783508301, 'ori': {'s': [u'stomach', u'pain'], 'n': 541}, 'mean': [u'pain']}, {'n': 687, 'score': 0.9258033037185669, 'ori': {'s': [u'rib', u'cage', u'pain'], 'n': 687}, 'mean': [u'pain']}, {'n': 667, 'score': 0.9022372364997864, 'ori': {'s': [u'spine', u'pain'], 'n': 667}, 'mean': [u'pain']}, {'n': 1248, 'score': 0.8972241282463074, 'ori': {'s': [u'neck', u'pain'], 'n': 1248}, 'mean': [u'pain']}, {'n': 584, 'score': 0.8960983157157898, 'ori': {'s': [u'left', u'elbow', u'joint', u'pain'], 'n': 584}, 'mean': [u'pain']}]\n",
      "Send back <Response 2297 bytes [200 OK]>\n"
     ]
    },
    {
     "name": "stderr",
     "output_type": "stream",
     "text": [
      "127.0.0.1 - - [15/Mar/2019 17:53:54] \"POST /scnlp/getsymptom HTTP/1.1\" 200 -\n"
     ]
    },
    {
     "name": "stdout",
     "output_type": "stream",
     "text": [
      "WARNING: no such words in model -  [u'Dizziness']\n",
      "Send back []\n",
      "Send back <Response 19 bytes [200 OK]>\n"
     ]
    },
    {
     "name": "stderr",
     "output_type": "stream",
     "text": [
      "127.0.0.1 - - [25/Mar/2019 13:36:43] \"OPTIONS /scnlp/getsymptom HTTP/1.1\" 200 -\n"
     ]
    },
    {
     "name": "stdout",
     "output_type": "stream",
     "text": [
      "Options response <Response 3 bytes [200 OK]>\n"
     ]
    },
    {
     "name": "stderr",
     "output_type": "stream",
     "text": [
      "127.0.0.1 - - [25/Mar/2019 13:36:46] \"POST /scnlp/getsymptom HTTP/1.1\" 200 -\n"
     ]
    },
    {
     "name": "stdout",
     "output_type": "stream",
     "text": [
      "Custom dict- 50\n",
      "Printing new scores\n",
      "Send back [{'n': 1716, 'score': 1.0000000000000002, 'ori': {'s': [u'stomach', u'abdominal', u'pain'], 'n': 1716}, 'mean': [u'abdominal', u'pain']}, {'n': 1716, 'score': 0.9766116738319397, 'ori': {'s': [u'stomach', u'abdominal', u'pain'], 'n': 1716}, 'mean': [u'abdominal', u'pain']}, {'n': 1219, 'score': 0.8038992881774902, 'ori': {'s': [u'stomach', u'vomiting', u'with', u'blood'], 'n': 1219}, 'mean': [u'abdominal', u'pain']}, {'n': 681, 'score': 0.7944348774178357, 'ori': {'s': [u'right', u'side', u'of', u'abdomen', u'acute', u'pain'], 'n': 681}, 'mean': [u'abdominal', u'pain']}, {'n': 647, 'score': 0.7944348774178357, 'ori': {'s': [u'abdomen', u'from', u'the', u'navel', u'to', u'the', u'pubic', u'region', u'acute', u'pain'], 'n': 647}, 'mean': [u'abdominal', u'pain']}, {'n': 1709, 'score': 0.7898410558700562, 'ori': {'s': [u'leather', u'pain', u'over', u'redness'], 'n': 1709}, 'mean': [u'abdominal', u'pain']}, {'n': 681, 'score': 0.7460645437240601, 'ori': {'s': [u'right', u'side', u'of', u'abdomen', u'acute', u'pain'], 'n': 681}, 'mean': [u'abdominal', u'pain']}, {'n': 1709, 'score': 0.7221406013460107, 'ori': {'s': [u'leather', u'pain', u'over', u'redness'], 'n': 1709}, 'mean': [u'abdominal', u'pain']}, {'n': 1700, 'score': 0.7214200480832936, 'ori': {'s': [u'fingers', u'of', u'the', u'right', u'hand', u'acute', u'pain'], 'n': 1700}, 'mean': [u'abdominal', u'pain']}, {'n': 1700, 'score': 0.714874267578125, 'ori': {'s': [u'fingers', u'of', u'the', u'right', u'hand', u'acute', u'pain'], 'n': 1700}, 'mean': [u'abdominal', u'pain']}]\n",
      "Send back <Response 3059 bytes [200 OK]>\n"
     ]
    },
    {
     "name": "stderr",
     "output_type": "stream",
     "text": [
      "127.0.0.1 - - [27/Mar/2019 11:07:26] \"OPTIONS /scnlp/getsymptom HTTP/1.1\" 200 -\n"
     ]
    },
    {
     "name": "stdout",
     "output_type": "stream",
     "text": [
      "Options response <Response 3 bytes [200 OK]>\n"
     ]
    },
    {
     "name": "stderr",
     "output_type": "stream",
     "text": [
      "127.0.0.1 - - [27/Mar/2019 11:07:28] \"POST /scnlp/getsymptom HTTP/1.1\" 200 -\n"
     ]
    },
    {
     "name": "stdout",
     "output_type": "stream",
     "text": [
      "Custom dict- 50\n",
      "Printing new scores\n",
      "Send back [{'n': 1716, 'score': 1.0000000000000002, 'ori': {'s': [u'stomach', u'abdominal', u'pain'], 'n': 1716}, 'mean': [u'abdominal', u'pain']}, {'n': 1716, 'score': 0.9766116738319397, 'ori': {'s': [u'stomach', u'abdominal', u'pain'], 'n': 1716}, 'mean': [u'abdominal', u'pain']}, {'n': 1219, 'score': 0.8038992881774902, 'ori': {'s': [u'stomach', u'vomiting', u'with', u'blood'], 'n': 1219}, 'mean': [u'abdominal', u'pain']}, {'n': 681, 'score': 0.7944348774178357, 'ori': {'s': [u'right', u'side', u'of', u'abdomen', u'acute', u'pain'], 'n': 681}, 'mean': [u'abdominal', u'pain']}, {'n': 647, 'score': 0.7944348774178357, 'ori': {'s': [u'abdomen', u'from', u'the', u'navel', u'to', u'the', u'pubic', u'region', u'acute', u'pain'], 'n': 647}, 'mean': [u'abdominal', u'pain']}, {'n': 1709, 'score': 0.7898410558700562, 'ori': {'s': [u'leather', u'pain', u'over', u'redness'], 'n': 1709}, 'mean': [u'abdominal', u'pain']}, {'n': 681, 'score': 0.7460645437240601, 'ori': {'s': [u'right', u'side', u'of', u'abdomen', u'acute', u'pain'], 'n': 681}, 'mean': [u'abdominal', u'pain']}, {'n': 1709, 'score': 0.7221406013460107, 'ori': {'s': [u'leather', u'pain', u'over', u'redness'], 'n': 1709}, 'mean': [u'abdominal', u'pain']}, {'n': 1700, 'score': 0.7214200480832936, 'ori': {'s': [u'fingers', u'of', u'the', u'right', u'hand', u'acute', u'pain'], 'n': 1700}, 'mean': [u'abdominal', u'pain']}, {'n': 1700, 'score': 0.714874267578125, 'ori': {'s': [u'fingers', u'of', u'the', u'right', u'hand', u'acute', u'pain'], 'n': 1700}, 'mean': [u'abdominal', u'pain']}]\n",
      "Send back <Response 3059 bytes [200 OK]>\n"
     ]
    },
    {
     "name": "stderr",
     "output_type": "stream",
     "text": [
      "127.0.0.1 - - [27/Mar/2019 16:06:25] \"GET /scnlp/getsymptom HTTP/1.1\" 500 -\n",
      "Traceback (most recent call last):\n",
      "  File \"C:\\Users\\Administrator\\Anaconda2\\lib\\site-packages\\flask\\app.py\", line 2309, in __call__\n",
      "    return self.wsgi_app(environ, start_response)\n",
      "  File \"C:\\Users\\Administrator\\Anaconda2\\lib\\site-packages\\flask\\app.py\", line 2295, in wsgi_app\n",
      "    response = self.handle_exception(e)\n",
      "  File \"C:\\Users\\Administrator\\Anaconda2\\lib\\site-packages\\flask\\app.py\", line 1741, in handle_exception\n",
      "    reraise(exc_type, exc_value, tb)\n",
      "  File \"C:\\Users\\Administrator\\Anaconda2\\lib\\site-packages\\flask\\app.py\", line 2292, in wsgi_app\n",
      "    response = self.full_dispatch_request()\n",
      "  File \"C:\\Users\\Administrator\\Anaconda2\\lib\\site-packages\\flask\\app.py\", line 1815, in full_dispatch_request\n",
      "    rv = self.handle_user_exception(e)\n",
      "  File \"C:\\Users\\Administrator\\Anaconda2\\lib\\site-packages\\flask\\app.py\", line 1718, in handle_user_exception\n",
      "    reraise(exc_type, exc_value, tb)\n",
      "  File \"C:\\Users\\Administrator\\Anaconda2\\lib\\site-packages\\flask\\app.py\", line 1813, in full_dispatch_request\n",
      "    rv = self.dispatch_request()\n",
      "  File \"C:\\Users\\Administrator\\Anaconda2\\lib\\site-packages\\flask\\app.py\", line 1799, in dispatch_request\n",
      "    return self.view_functions[rule.endpoint](**req.view_args)\n",
      "  File \"<ipython-input-36-f0ca8193d0aa>\", line 20, in getSymptom\n",
      "    \n",
      "TypeError: 'NoneType' object has no attribute '__getitem__'\n",
      "127.0.0.1 - - [27/Mar/2019 16:08:35] \"OPTIONS /scnlp/getsymptom HTTP/1.1\" 200 -\n"
     ]
    },
    {
     "name": "stdout",
     "output_type": "stream",
     "text": [
      "Options response <Response 3 bytes [200 OK]>\n"
     ]
    },
    {
     "name": "stderr",
     "output_type": "stream",
     "text": [
      "127.0.0.1 - - [27/Mar/2019 16:08:38] \"POST /scnlp/getsymptom HTTP/1.1\" 200 -\n"
     ]
    },
    {
     "name": "stdout",
     "output_type": "stream",
     "text": [
      "Custom dict- 11\n",
      "Printing new scores\n",
      "(0.3508217930793762, 483, [u'the', u'body'], 'score2')\n",
      "(0.6209635530931923, 483, [u'body'], 'score1')\n",
      "(0.6209635530931923, 483, [u'the', u'body'], 'score1')\n",
      "(0.6209635530931923, 483, '', 'score1')\n",
      "(0.6209635530931923, 483, '', 'score1')\n",
      "(0.6209636330604553, 483, [u'body'], 'score2')\n",
      "(0.6209636330604553, 483, '', 'score2')\n",
      "(0.6209636330604553, 483, '', 'score2')\n",
      "Send back [{'n': 539, 'score': 1.0, 'ori': {'s': [u'stomach', u'nausea'], 'n': 539}, 'mean': [u'nausea']}, {'n': 539, 'score': 0.9129419326782227, 'ori': {'s': [u'stomach', u'nausea'], 'n': 539}, 'mean': [u'nausea']}, {'n': 614, 'score': 0.8922163788023683, 'ori': {'s': [u'head', u'dizziness'], 'n': 614}, 'mean': [u'nausea']}, {'n': 540, 'score': 0.8836252898812911, 'ori': {'s': [u'stomach', u'vomiting'], 'n': 540}, 'mean': [u'nausea']}, {'n': 540, 'score': 0.8312700986862183, 'ori': {'s': [u'stomach', u'vomiting'], 'n': 540}, 'mean': [u'nausea']}, {'n': 683, 'score': 0.8113852040482255, 'ori': {'s': [u'anus', u'diarrhea'], 'n': 683}, 'mean': [u'nausea']}, {'n': 927, 'score': 0.7766266398310475, 'ori': {'s': [u'head', u'insomnia'], 'n': 927}, 'mean': [u'nausea']}, {'n': 556, 'score': 0.7291612029075623, 'ori': {'s': [u'head', u'pain'], 'n': 556}, 'mean': [u'nausea']}, {'n': 1068, 'score': 0.7161840796470642, 'ori': {'s': [u'body', u'fatigue'], 'n': 1068}, 'mean': [u'nausea']}, {'n': 664, 'score': 0.7161840796470642, 'ori': {'s': [u'body', u'fatigue'], 'n': 664}, 'mean': [u'nausea']}]\n",
      "Send back <Response 2180 bytes [200 OK]>\n"
     ]
    },
    {
     "name": "stderr",
     "output_type": "stream",
     "text": [
      "127.0.0.1 - - [27/Mar/2019 16:08:54] \"OPTIONS /scnlp/getsymptom HTTP/1.1\" 200 -\n"
     ]
    },
    {
     "name": "stdout",
     "output_type": "stream",
     "text": [
      "Options response <Response 3 bytes [200 OK]>\n"
     ]
    },
    {
     "name": "stderr",
     "output_type": "stream",
     "text": [
      "127.0.0.1 - - [27/Mar/2019 16:08:56] \"POST /scnlp/getsymptom HTTP/1.1\" 200 -\n"
     ]
    },
    {
     "name": "stdout",
     "output_type": "stream",
     "text": [
      "Custom dict- 11\n",
      "Printing new scores\n",
      "(0.3508217930793762, 483, [u'the', u'body'], 'score2')\n",
      "(0.6209635530931923, 483, [u'body'], 'score1')\n",
      "(0.6209635530931923, 483, [u'the', u'body'], 'score1')\n",
      "(0.6209635530931923, 483, '', 'score1')\n",
      "(0.6209635530931923, 483, '', 'score1')\n",
      "(0.6209636330604553, 483, [u'body'], 'score2')\n",
      "(0.6209636330604553, 483, '', 'score2')\n",
      "(0.6209636330604553, 483, '', 'score2')\n",
      "Send back [{'n': 539, 'score': 1.0, 'ori': {'s': [u'stomach', u'nausea'], 'n': 539}, 'mean': [u'nausea']}, {'n': 539, 'score': 0.9129419326782227, 'ori': {'s': [u'stomach', u'nausea'], 'n': 539}, 'mean': [u'nausea']}, {'n': 614, 'score': 0.8922163788023683, 'ori': {'s': [u'head', u'dizziness'], 'n': 614}, 'mean': [u'nausea']}, {'n': 540, 'score': 0.8836252898812911, 'ori': {'s': [u'stomach', u'vomiting'], 'n': 540}, 'mean': [u'nausea']}, {'n': 540, 'score': 0.8312700986862183, 'ori': {'s': [u'stomach', u'vomiting'], 'n': 540}, 'mean': [u'nausea']}, {'n': 683, 'score': 0.8113852040482255, 'ori': {'s': [u'anus', u'diarrhea'], 'n': 683}, 'mean': [u'nausea']}, {'n': 927, 'score': 0.7766266398310475, 'ori': {'s': [u'head', u'insomnia'], 'n': 927}, 'mean': [u'nausea']}, {'n': 556, 'score': 0.7291612029075623, 'ori': {'s': [u'head', u'pain'], 'n': 556}, 'mean': [u'nausea']}, {'n': 1068, 'score': 0.7161840796470642, 'ori': {'s': [u'body', u'fatigue'], 'n': 1068}, 'mean': [u'nausea']}, {'n': 664, 'score': 0.7161840796470642, 'ori': {'s': [u'body', u'fatigue'], 'n': 664}, 'mean': [u'nausea']}]\n",
      "Send back <Response 2180 bytes [200 OK]>\n"
     ]
    },
    {
     "name": "stderr",
     "output_type": "stream",
     "text": [
      "127.0.0.1 - - [27/Mar/2019 16:11:34] \"OPTIONS /scnlp/getsymptom HTTP/1.1\" 200 -\n"
     ]
    },
    {
     "name": "stdout",
     "output_type": "stream",
     "text": [
      "Options response <Response 3 bytes [200 OK]>\n"
     ]
    },
    {
     "name": "stderr",
     "output_type": "stream",
     "text": [
      "127.0.0.1 - - [27/Mar/2019 16:11:36] \"POST /scnlp/getsymptom HTTP/1.1\" 200 -\n"
     ]
    },
    {
     "name": "stdout",
     "output_type": "stream",
     "text": [
      "Custom dict- 11\n",
      "Printing new scores\n",
      "(0.3508217930793762, 483, [u'the', u'body'], 'score2')\n",
      "(0.6209635530931923, 483, [u'body'], 'score1')\n",
      "(0.6209635530931923, 483, [u'the', u'body'], 'score1')\n",
      "(0.6209635530931923, 483, '', 'score1')\n",
      "(0.6209635530931923, 483, '', 'score1')\n",
      "(0.6209636330604553, 483, [u'body'], 'score2')\n",
      "(0.6209636330604553, 483, '', 'score2')\n",
      "(0.6209636330604553, 483, '', 'score2')\n",
      "Send back [{'n': 539, 'score': 1.0, 'ori': {'s': [u'stomach', u'nausea'], 'n': 539}, 'mean': [u'nausea']}, {'n': 539, 'score': 0.9129419326782227, 'ori': {'s': [u'stomach', u'nausea'], 'n': 539}, 'mean': [u'nausea']}, {'n': 614, 'score': 0.8922163788023683, 'ori': {'s': [u'head', u'dizziness'], 'n': 614}, 'mean': [u'nausea']}, {'n': 540, 'score': 0.8836252898812911, 'ori': {'s': [u'stomach', u'vomiting'], 'n': 540}, 'mean': [u'nausea']}, {'n': 540, 'score': 0.8312700986862183, 'ori': {'s': [u'stomach', u'vomiting'], 'n': 540}, 'mean': [u'nausea']}, {'n': 683, 'score': 0.8113852040482255, 'ori': {'s': [u'anus', u'diarrhea'], 'n': 683}, 'mean': [u'nausea']}, {'n': 927, 'score': 0.7766266398310475, 'ori': {'s': [u'head', u'insomnia'], 'n': 927}, 'mean': [u'nausea']}, {'n': 556, 'score': 0.7291612029075623, 'ori': {'s': [u'head', u'pain'], 'n': 556}, 'mean': [u'nausea']}, {'n': 1068, 'score': 0.7161840796470642, 'ori': {'s': [u'body', u'fatigue'], 'n': 1068}, 'mean': [u'nausea']}, {'n': 664, 'score': 0.7161840796470642, 'ori': {'s': [u'body', u'fatigue'], 'n': 664}, 'mean': [u'nausea']}]\n",
      "Send back <Response 2180 bytes [200 OK]>\n"
     ]
    },
    {
     "name": "stderr",
     "output_type": "stream",
     "text": [
      "127.0.0.1 - - [27/Mar/2019 16:11:50] \"OPTIONS /scnlp/getsymptom HTTP/1.1\" 200 -\n"
     ]
    },
    {
     "name": "stdout",
     "output_type": "stream",
     "text": [
      "Options response <Response 3 bytes [200 OK]>\n"
     ]
    },
    {
     "name": "stderr",
     "output_type": "stream",
     "text": [
      "127.0.0.1 - - [27/Mar/2019 16:12:18] \"OPTIONS /scnlp/getsymptom HTTP/1.1\" 200 -\n"
     ]
    },
    {
     "name": "stdout",
     "output_type": "stream",
     "text": [
      "Options response <Response 3 bytes [200 OK]>\n"
     ]
    },
    {
     "name": "stderr",
     "output_type": "stream",
     "text": [
      "127.0.0.1 - - [27/Mar/2019 16:12:19] \"POST /scnlp/getsymptom HTTP/1.1\" 200 -\n"
     ]
    },
    {
     "name": "stdout",
     "output_type": "stream",
     "text": [
      "Custom dict- 11\n",
      "Printing new scores\n",
      "(0.3508217930793762, 483, [u'the', u'body'], 'score2')\n",
      "(0.6209635530931923, 483, [u'body'], 'score1')\n",
      "(0.6209635530931923, 483, [u'the', u'body'], 'score1')\n",
      "(0.6209635530931923, 483, '', 'score1')\n",
      "(0.6209635530931923, 483, '', 'score1')\n",
      "(0.6209636330604553, 483, [u'body'], 'score2')\n",
      "(0.6209636330604553, 483, '', 'score2')\n",
      "(0.6209636330604553, 483, '', 'score2')\n",
      "Send back [{'n': 539, 'score': 1.0, 'ori': {'s': [u'stomach', u'nausea'], 'n': 539}, 'mean': [u'nausea']}, {'n': 539, 'score': 0.9129419326782227, 'ori': {'s': [u'stomach', u'nausea'], 'n': 539}, 'mean': [u'nausea']}, {'n': 614, 'score': 0.8922163788023683, 'ori': {'s': [u'head', u'dizziness'], 'n': 614}, 'mean': [u'nausea']}, {'n': 540, 'score': 0.8836252898812911, 'ori': {'s': [u'stomach', u'vomiting'], 'n': 540}, 'mean': [u'nausea']}, {'n': 540, 'score': 0.8312700986862183, 'ori': {'s': [u'stomach', u'vomiting'], 'n': 540}, 'mean': [u'nausea']}, {'n': 683, 'score': 0.8113852040482255, 'ori': {'s': [u'anus', u'diarrhea'], 'n': 683}, 'mean': [u'nausea']}, {'n': 927, 'score': 0.7766266398310475, 'ori': {'s': [u'head', u'insomnia'], 'n': 927}, 'mean': [u'nausea']}, {'n': 556, 'score': 0.7291612029075623, 'ori': {'s': [u'head', u'pain'], 'n': 556}, 'mean': [u'nausea']}, {'n': 1068, 'score': 0.7161840796470642, 'ori': {'s': [u'body', u'fatigue'], 'n': 1068}, 'mean': [u'nausea']}, {'n': 664, 'score': 0.7161840796470642, 'ori': {'s': [u'body', u'fatigue'], 'n': 664}, 'mean': [u'nausea']}]\n",
      "Send back <Response 2180 bytes [200 OK]>\n"
     ]
    },
    {
     "name": "stderr",
     "output_type": "stream",
     "text": [
      "127.0.0.1 - - [27/Mar/2019 16:12:25] \"POST /scnlp/getsymptom HTTP/1.1\" 200 -\n"
     ]
    },
    {
     "name": "stdout",
     "output_type": "stream",
     "text": [
      "Custom dict- 11\n",
      "Printing new scores\n",
      "(0.3508217930793762, 483, [u'the', u'body'], 'score2')\n",
      "(0.6209635530931923, 483, [u'body'], 'score1')\n",
      "(0.6209635530931923, 483, [u'the', u'body'], 'score1')\n",
      "(0.6209635530931923, 483, '', 'score1')\n",
      "(0.6209635530931923, 483, '', 'score1')\n",
      "(0.6209636330604553, 483, [u'body'], 'score2')\n",
      "(0.6209636330604553, 483, '', 'score2')\n",
      "(0.6209636330604553, 483, '', 'score2')\n",
      "Send back [{'n': 539, 'score': 1.0, 'ori': {'s': [u'stomach', u'nausea'], 'n': 539}, 'mean': [u'nausea']}, {'n': 539, 'score': 0.9129419326782227, 'ori': {'s': [u'stomach', u'nausea'], 'n': 539}, 'mean': [u'nausea']}, {'n': 614, 'score': 0.8922163788023683, 'ori': {'s': [u'head', u'dizziness'], 'n': 614}, 'mean': [u'nausea']}, {'n': 540, 'score': 0.8836252898812911, 'ori': {'s': [u'stomach', u'vomiting'], 'n': 540}, 'mean': [u'nausea']}, {'n': 540, 'score': 0.8312700986862183, 'ori': {'s': [u'stomach', u'vomiting'], 'n': 540}, 'mean': [u'nausea']}, {'n': 683, 'score': 0.8113852040482255, 'ori': {'s': [u'anus', u'diarrhea'], 'n': 683}, 'mean': [u'nausea']}, {'n': 927, 'score': 0.7766266398310475, 'ori': {'s': [u'head', u'insomnia'], 'n': 927}, 'mean': [u'nausea']}, {'n': 556, 'score': 0.7291612029075623, 'ori': {'s': [u'head', u'pain'], 'n': 556}, 'mean': [u'nausea']}, {'n': 1068, 'score': 0.7161840796470642, 'ori': {'s': [u'body', u'fatigue'], 'n': 1068}, 'mean': [u'nausea']}, {'n': 664, 'score': 0.7161840796470642, 'ori': {'s': [u'body', u'fatigue'], 'n': 664}, 'mean': [u'nausea']}]\n",
      "Send back <Response 2180 bytes [200 OK]>\n"
     ]
    },
    {
     "name": "stderr",
     "output_type": "stream",
     "text": [
      "127.0.0.1 - - [01/Apr/2019 15:31:50] \"GET /scnlp/getsymptom HTTP/1.1\" 500 -\n",
      "Traceback (most recent call last):\n",
      "  File \"C:\\Users\\Administrator\\Anaconda2\\lib\\site-packages\\flask\\app.py\", line 2309, in __call__\n",
      "    return self.wsgi_app(environ, start_response)\n",
      "  File \"C:\\Users\\Administrator\\Anaconda2\\lib\\site-packages\\flask\\app.py\", line 2295, in wsgi_app\n",
      "    response = self.handle_exception(e)\n",
      "  File \"C:\\Users\\Administrator\\Anaconda2\\lib\\site-packages\\flask\\app.py\", line 1741, in handle_exception\n",
      "    reraise(exc_type, exc_value, tb)\n",
      "  File \"C:\\Users\\Administrator\\Anaconda2\\lib\\site-packages\\flask\\app.py\", line 2292, in wsgi_app\n",
      "    response = self.full_dispatch_request()\n",
      "  File \"C:\\Users\\Administrator\\Anaconda2\\lib\\site-packages\\flask\\app.py\", line 1815, in full_dispatch_request\n",
      "    rv = self.handle_user_exception(e)\n",
      "  File \"C:\\Users\\Administrator\\Anaconda2\\lib\\site-packages\\flask\\app.py\", line 1718, in handle_user_exception\n",
      "    reraise(exc_type, exc_value, tb)\n",
      "  File \"C:\\Users\\Administrator\\Anaconda2\\lib\\site-packages\\flask\\app.py\", line 1813, in full_dispatch_request\n",
      "    rv = self.dispatch_request()\n",
      "  File \"C:\\Users\\Administrator\\Anaconda2\\lib\\site-packages\\flask\\app.py\", line 1799, in dispatch_request\n",
      "    return self.view_functions[rule.endpoint](**req.view_args)\n",
      "  File \"<ipython-input-36-f0ca8193d0aa>\", line 20, in getSymptom\n",
      "    \n",
      "TypeError: 'NoneType' object has no attribute '__getitem__'\n",
      "127.0.0.1 - - [03/Apr/2019 11:55:12] \"OPTIONS /scnlp/getsymptom HTTP/1.0\" 200 -\n"
     ]
    },
    {
     "name": "stdout",
     "output_type": "stream",
     "text": [
      "Options response <Response 3 bytes [200 OK]>\n"
     ]
    },
    {
     "name": "stderr",
     "output_type": "stream",
     "text": [
      "127.0.0.1 - - [03/Apr/2019 11:55:15] \"POST /scnlp/getsymptom HTTP/1.0\" 200 -\n"
     ]
    },
    {
     "name": "stdout",
     "output_type": "stream",
     "text": [
      "Custom dict- 11\n",
      "Printing new scores\n",
      "(0.4575174152851105, 483, [u'the', u'body'], 'score2')\n",
      "(0.6435675411666477, 483, [u'body'], 'score1')\n",
      "(0.6435675411666477, 483, [u'the', u'body'], 'score1')\n",
      "(0.6435675411666477, 483, '', 'score1')\n",
      "(0.6435675411666477, 483, '', 'score1')\n",
      "(0.6435675621032715, 483, [u'body'], 'score2')\n",
      "(0.6435675621032715, 483, '', 'score2')\n",
      "(0.6435675621032715, 483, '', 'score2')\n",
      "Send back [{'n': 556, 'score': 1.0, 'ori': {'s': [u'head', u'pain'], 'n': 556}, 'mean': [u'headache']}, {'n': 556, 'score': 0.9999999999999998, 'ori': {'s': [u'head', u'pain'], 'n': 556}, 'mean': [u'headache']}, {'n': 539, 'score': 0.729161130871945, 'ori': {'s': [u'stomach', u'nausea'], 'n': 539}, 'mean': [u'headache']}, {'n': 539, 'score': 0.7218495607376099, 'ori': {'s': [u'stomach', u'nausea'], 'n': 539}, 'mean': [u'headache']}, {'n': 1068, 'score': 0.6817685475966528, 'ori': {'s': [u'body', u'fatigue'], 'n': 1068}, 'mean': [u'headache']}, {'n': 664, 'score': 0.6817685475966528, 'ori': {'s': [u'body', u'fatigue'], 'n': 664}, 'mean': [u'headache']}, {'n': 1068, 'score': 0.681768536567688, 'ori': {'s': [u'body', u'fatigue'], 'n': 1068}, 'mean': [u'headache']}, {'n': 664, 'score': 0.681768536567688, 'ori': {'s': [u'body', u'fatigue'], 'n': 664}, 'mean': [u'headache']}, {'n': 614, 'score': 0.6800907847302761, 'ori': {'s': [u'head', u'dizziness'], 'n': 614}, 'mean': [u'headache']}, {'n': 540, 'score': 0.6780422329902649, 'ori': {'s': [u'stomach', u'vomiting'], 'n': 540}, 'mean': [u'headache']}]\n",
      "Send back <Response 2190 bytes [200 OK]>\n"
     ]
    },
    {
     "name": "stderr",
     "output_type": "stream",
     "text": [
      "127.0.0.1 - - [04/Apr/2019 09:59:20] \"OPTIONS /scnlp/getsymptom HTTP/1.0\" 200 -\n"
     ]
    },
    {
     "name": "stdout",
     "output_type": "stream",
     "text": [
      "Options response <Response 3 bytes [200 OK]>\n"
     ]
    },
    {
     "name": "stderr",
     "output_type": "stream",
     "text": [
      "127.0.0.1 - - [04/Apr/2019 09:59:23] \"POST /scnlp/getsymptom HTTP/1.0\" 200 -\n"
     ]
    },
    {
     "name": "stdout",
     "output_type": "stream",
     "text": [
      "Custom dict- 11\n",
      "Printing new scores\n",
      "(0.4575174152851105, 483, [u'the', u'body'], 'score2')\n",
      "(0.6435675411666477, 483, [u'body'], 'score1')\n",
      "(0.6435675411666477, 483, [u'the', u'body'], 'score1')\n",
      "(0.6435675411666477, 483, '', 'score1')\n",
      "(0.6435675411666477, 483, '', 'score1')\n",
      "(0.6435675621032715, 483, [u'body'], 'score2')\n",
      "(0.6435675621032715, 483, '', 'score2')\n",
      "(0.6435675621032715, 483, '', 'score2')\n",
      "Send back [{'n': 556, 'score': 1.0, 'ori': {'s': [u'head', u'pain'], 'n': 556}, 'mean': [u'headache']}, {'n': 556, 'score': 0.9999999999999998, 'ori': {'s': [u'head', u'pain'], 'n': 556}, 'mean': [u'headache']}, {'n': 539, 'score': 0.729161130871945, 'ori': {'s': [u'stomach', u'nausea'], 'n': 539}, 'mean': [u'headache']}, {'n': 539, 'score': 0.7218495607376099, 'ori': {'s': [u'stomach', u'nausea'], 'n': 539}, 'mean': [u'headache']}, {'n': 1068, 'score': 0.6817685475966528, 'ori': {'s': [u'body', u'fatigue'], 'n': 1068}, 'mean': [u'headache']}, {'n': 664, 'score': 0.6817685475966528, 'ori': {'s': [u'body', u'fatigue'], 'n': 664}, 'mean': [u'headache']}, {'n': 1068, 'score': 0.681768536567688, 'ori': {'s': [u'body', u'fatigue'], 'n': 1068}, 'mean': [u'headache']}, {'n': 664, 'score': 0.681768536567688, 'ori': {'s': [u'body', u'fatigue'], 'n': 664}, 'mean': [u'headache']}, {'n': 614, 'score': 0.6800907847302761, 'ori': {'s': [u'head', u'dizziness'], 'n': 614}, 'mean': [u'headache']}, {'n': 540, 'score': 0.6780422329902649, 'ori': {'s': [u'stomach', u'vomiting'], 'n': 540}, 'mean': [u'headache']}]\n",
      "Send back <Response 2190 bytes [200 OK]>\n"
     ]
    },
    {
     "name": "stderr",
     "output_type": "stream",
     "text": [
      "127.0.0.1 - - [04/Apr/2019 10:45:26] \"OPTIONS /scnlp/getsymptom HTTP/1.0\" 200 -\n"
     ]
    },
    {
     "name": "stdout",
     "output_type": "stream",
     "text": [
      "Options response <Response 3 bytes [200 OK]>\n"
     ]
    },
    {
     "name": "stderr",
     "output_type": "stream",
     "text": [
      "127.0.0.1 - - [04/Apr/2019 10:45:28] \"POST /scnlp/getsymptom HTTP/1.0\" 200 -\n"
     ]
    },
    {
     "name": "stdout",
     "output_type": "stream",
     "text": [
      "Custom dict- 19\n",
      "Printing new scores\n",
      "Send back [{'n': 639, 'score': 1.0, 'ori': {'s': [u'nose', u'transparent', u'non-mucous', u'discharge'], 'n': 639}, 'mean': [u'runny', u'nose']}, {'n': 530, 'score': 1.0, 'ori': {'s': [u'nose', u'transparent', u'mucous', u'discharge'], 'n': 530}, 'mean': [u'runny', u'nose']}, {'n': 639, 'score': 0.9999999999999999, 'ori': {'s': [u'nose', u'transparent', u'non-mucous', u'discharge'], 'n': 639}, 'mean': [u'runny', u'nose']}, {'n': 530, 'score': 0.9999999999999999, 'ori': {'s': [u'nose', u'transparent', u'mucous', u'discharge'], 'n': 530}, 'mean': [u'runny', u'nose']}, {'n': 549, 'score': 0.6750475764274597, 'ori': {'s': [u'leather', u'itching', u'in', u'the', u'area', u'of', u'rashes'], 'n': 549}, 'mean': [u'runny', u'nose']}, {'n': 1731, 'score': 0.6621695756912231, 'ori': {'s': [u'leather', u'cracked', u'skin'], 'n': 1731}, 'mean': [u'runny', u'nose']}, {'n': 1342, 'score': 0.6513341665267944, 'ori': {'s': [u'body', u'blueing', u'of', u'fingers', u'or', u'toes,', u'feet,', u'hands,', u'nose'], 'n': 1342}, 'mean': [u'runny', u'nose']}, {'n': 549, 'score': 0.607679956662304, 'ori': {'s': [u'leather', u'itching', u'in', u'the', u'area', u'of', u'rashes'], 'n': 549}, 'mean': [u'runny', u'nose']}, {'n': 1585, 'score': 0.5779732007870414, 'ori': {'s': [u'mouth', u'red-violet', u'rashes', u'on', u'mucous', u'membranes'], 'n': 1585}, 'mean': [u'runny', u'nose']}, {'n': 1576, 'score': 0.5761185002375409, 'ori': {'s': [u'leather', u'spotted', u'staining', u'of', u'the', u'skin', u'(vitiligo)'], 'n': 1576}, 'mean': [u'runny', u'nose']}]\n",
      "Send back <Response 3061 bytes [200 OK]>\n"
     ]
    },
    {
     "name": "stderr",
     "output_type": "stream",
     "text": [
      "127.0.0.1 - - [04/Apr/2019 15:48:20] \"OPTIONS /scnlp/getsymptom HTTP/1.0\" 200 -\n"
     ]
    },
    {
     "name": "stdout",
     "output_type": "stream",
     "text": [
      "Options response <Response 3 bytes [200 OK]>\n"
     ]
    },
    {
     "name": "stderr",
     "output_type": "stream",
     "text": [
      "127.0.0.1 - - [04/Apr/2019 15:48:23] \"POST /scnlp/getsymptom HTTP/1.0\" 200 -\n"
     ]
    },
    {
     "name": "stdout",
     "output_type": "stream",
     "text": [
      "Custom dict- 11\n",
      "Printing new scores\n",
      "(0.4913361966609955, 483, [u'the', u'body'], 'score2')\n",
      "(0.6438028586350997, 483, [u'body'], 'score1')\n",
      "(0.6438028586350997, 483, [u'the', u'body'], 'score1')\n",
      "(0.6438028586350997, 483, '', 'score1')\n",
      "(0.6438028586350997, 483, '', 'score1')\n",
      "(0.6438028812408447, 483, [u'body'], 'score2')\n",
      "(0.6438028812408447, 483, '', 'score2')\n",
      "(0.6438028812408447, 483, '', 'score2')\n",
      "Send back [{'n': 1068, 'score': 1.0000000000000002, 'ori': {'s': [u'body', u'fatigue'], 'n': 1068}, 'mean': [u'fatigue']}, {'n': 664, 'score': 1.0000000000000002, 'ori': {'s': [u'body', u'fatigue'], 'n': 664}, 'mean': [u'fatigue']}, {'n': 1068, 'score': 1.0, 'ori': {'s': [u'body', u'fatigue'], 'n': 1068}, 'mean': [u'fatigue']}, {'n': 664, 'score': 1.0, 'ori': {'s': [u'body', u'fatigue'], 'n': 664}, 'mean': [u'fatigue']}, {'n': 1619, 'score': 0.7222583835816947, 'ori': {'s': [u'neck', u'discomfort'], 'n': 1619}, 'mean': [u'fatigue']}, {'n': 1408, 'score': 0.7222583835816947, 'ori': {'s': [u'stomach', u'discomfort'], 'n': 1408}, 'mean': [u'fatigue']}, {'n': 684, 'score': 0.7222583835816947, 'ori': {'s': [u'rib', u'cage', u'discomfort'], 'n': 684}, 'mean': [u'fatigue']}, {'n': 539, 'score': 0.721159815788269, 'ori': {'s': [u'stomach', u'nausea'], 'n': 539}, 'mean': [u'fatigue']}, {'n': 1408, 'score': 0.7144061923027039, 'ori': {'s': [u'stomach', u'discomfort'], 'n': 1408}, 'mean': [u'fatigue']}, {'n': 1619, 'score': 0.6975377798080444, 'ori': {'s': [u'neck', u'discomfort'], 'n': 1619}, 'mean': [u'fatigue']}]\n",
      "Send back <Response 2212 bytes [200 OK]>\n"
     ]
    },
    {
     "name": "stderr",
     "output_type": "stream",
     "text": [
      "127.0.0.1 - - [05/Apr/2019 09:48:48] \"OPTIONS /scnlp/getsymptom HTTP/1.0\" 200 -\n"
     ]
    },
    {
     "name": "stdout",
     "output_type": "stream",
     "text": [
      "Options response <Response 3 bytes [200 OK]>\n",
      "Custom dict- 17\n"
     ]
    },
    {
     "name": "stderr",
     "output_type": "stream",
     "text": [
      "127.0.0.1 - - [05/Apr/2019 09:48:50] \"POST /scnlp/getsymptom HTTP/1.0\" 200 -\n"
     ]
    },
    {
     "name": "stdout",
     "output_type": "stream",
     "text": [
      "Printing new scores\n",
      "Send back [{'n': 1419, 'score': 1.0, 'ori': {'s': [u'right', u'breast', u'/', u'mammary', u'gland', u'pain'], 'n': 1419}, 'mean': [u'chest', u'pain']}, {'n': 687, 'score': 1.0, 'ori': {'s': [u'rib', u'cage', u'pain'], 'n': 687}, 'mean': [u'chest', u'pain']}, {'n': 687, 'score': 1.0, 'ori': {'s': [u'rib', u'cage', u'pain'], 'n': 687}, 'mean': [u'chest', u'pain']}, {'n': 1248, 'score': 0.9374775290489197, 'ori': {'s': [u'neck', u'pain'], 'n': 1248}, 'mean': [u'chest', u'pain']}, {'n': 1594, 'score': 0.9365841746330261, 'ori': {'s': [u'forehead', u'pain'], 'n': 1594}, 'mean': [u'chest', u'pain']}, {'n': 541, 'score': 0.9295837879180908, 'ori': {'s': [u'stomach', u'pain'], 'n': 541}, 'mean': [u'chest', u'pain']}, {'n': 1211, 'score': 0.9121325016021729, 'ori': {'s': [u'nose', u'pain'], 'n': 1211}, 'mean': [u'chest', u'pain']}, {'n': 1248, 'score': 0.8815918634008936, 'ori': {'s': [u'neck', u'pain'], 'n': 1248}, 'mean': [u'chest', u'pain']}, {'n': 1594, 'score': 0.8667401650198032, 'ori': {'s': [u'forehead', u'pain'], 'n': 1594}, 'mean': [u'chest', u'pain']}, {'n': 541, 'score': 0.8608398087876749, 'ori': {'s': [u'stomach', u'pain'], 'n': 541}, 'mean': [u'chest', u'pain']}]\n",
      "Send back <Response 2407 bytes [200 OK]>\n"
     ]
    },
    {
     "name": "stderr",
     "output_type": "stream",
     "text": [
      "127.0.0.1 - - [05/Apr/2019 09:52:01] \"OPTIONS /scnlp/getsymptom HTTP/1.0\" 200 -\n"
     ]
    },
    {
     "name": "stdout",
     "output_type": "stream",
     "text": [
      "Options response <Response 3 bytes [200 OK]>\n"
     ]
    },
    {
     "name": "stderr",
     "output_type": "stream",
     "text": [
      "127.0.0.1 - - [05/Apr/2019 09:52:03] \"POST /scnlp/getsymptom HTTP/1.0\" 200 -\n"
     ]
    },
    {
     "name": "stdout",
     "output_type": "stream",
     "text": [
      "Custom dict- 11\n",
      "Printing new scores\n",
      "(0.010979119688272476, 483, [u'the', u'body'], 'score2')\n",
      "(0.4023320536324275, 483, [u'body'], 'score1')\n",
      "(0.4023320536324275, 483, [u'the', u'body'], 'score1')\n",
      "(0.4023320536324275, 483, '', 'score1')\n",
      "(0.4023320536324275, 483, '', 'score1')\n",
      "(0.4023320972919464, 483, [u'body'], 'score2')\n",
      "(0.4023320972919464, 483, '', 'score2')\n",
      "(0.4023320972919464, 483, '', 'score2')\n",
      "Send back [{'n': 540, 'score': 0.6499320905105872, 'ori': {'s': [u'stomach', u'vomiting'], 'n': 540}, 'mean': [u'stomachache']}, {'n': 539, 'score': 0.586340806655824, 'ori': {'s': [u'stomach', u'nausea'], 'n': 539}, 'mean': [u'stomachache']}, {'n': 683, 'score': 0.58591735995058, 'ori': {'s': [u'anus', u'diarrhea'], 'n': 683}, 'mean': [u'stomachache']}, {'n': 556, 'score': 0.5776090621948242, 'ori': {'s': [u'head', u'pain'], 'n': 556}, 'mean': [u'stomachache']}, {'n': 556, 'score': 0.5776090416362712, 'ori': {'s': [u'head', u'pain'], 'n': 556}, 'mean': [u'stomachache']}, {'n': 614, 'score': 0.5740153272261082, 'ori': {'s': [u'head', u'dizziness'], 'n': 614}, 'mean': [u'stomachache']}, {'n': 540, 'score': 0.5556091666221619, 'ori': {'s': [u'stomach', u'vomiting'], 'n': 540}, 'mean': [u'stomachache']}, {'n': 482, 'score': 0.5292803049087524, 'ori': {'s': [u'body', u'chills'], 'n': 482}, 'mean': [u'stomachache']}, {'n': 539, 'score': 0.528273344039917, 'ori': {'s': [u'stomach', u'nausea'], 'n': 539}, 'mean': [u'stomachache']}, {'n': 683, 'score': 0.5002126693725586, 'ori': {'s': [u'anus', u'diarrhea'], 'n': 683}, 'mean': [u'stomachache']}]\n",
      "Send back <Response 2235 bytes [200 OK]>\n"
     ]
    },
    {
     "name": "stderr",
     "output_type": "stream",
     "text": [
      "127.0.0.1 - - [05/Apr/2019 09:53:17] \"OPTIONS /scnlp/getsymptom HTTP/1.0\" 200 -\n"
     ]
    },
    {
     "name": "stdout",
     "output_type": "stream",
     "text": [
      "Options response <Response 3 bytes [200 OK]>\n"
     ]
    },
    {
     "name": "stderr",
     "output_type": "stream",
     "text": [
      "127.0.0.1 - - [05/Apr/2019 09:53:19] \"POST /scnlp/getsymptom HTTP/1.0\" 200 -\n"
     ]
    },
    {
     "name": "stdout",
     "output_type": "stream",
     "text": [
      "Custom dict- 50\n",
      "Printing new scores\n",
      "Send back [{'n': 1716, 'score': 1.0000000000000002, 'ori': {'s': [u'stomach', u'abdominal', u'pain'], 'n': 1716}, 'mean': [u'abdominal', u'pain']}, {'n': 1716, 'score': 0.9766116738319397, 'ori': {'s': [u'stomach', u'abdominal', u'pain'], 'n': 1716}, 'mean': [u'abdominal', u'pain']}, {'n': 1219, 'score': 0.8038992881774902, 'ori': {'s': [u'stomach', u'vomiting', u'with', u'blood'], 'n': 1219}, 'mean': [u'abdominal', u'pain']}, {'n': 681, 'score': 0.7944348774178357, 'ori': {'s': [u'right', u'side', u'of', u'abdomen', u'acute', u'pain'], 'n': 681}, 'mean': [u'abdominal', u'pain']}, {'n': 647, 'score': 0.7944348774178357, 'ori': {'s': [u'abdomen', u'from', u'the', u'navel', u'to', u'the', u'pubic', u'region', u'acute', u'pain'], 'n': 647}, 'mean': [u'abdominal', u'pain']}, {'n': 1709, 'score': 0.7898410558700562, 'ori': {'s': [u'leather', u'pain', u'over', u'redness'], 'n': 1709}, 'mean': [u'abdominal', u'pain']}, {'n': 681, 'score': 0.7460645437240601, 'ori': {'s': [u'right', u'side', u'of', u'abdomen', u'acute', u'pain'], 'n': 681}, 'mean': [u'abdominal', u'pain']}, {'n': 1709, 'score': 0.7221406013460107, 'ori': {'s': [u'leather', u'pain', u'over', u'redness'], 'n': 1709}, 'mean': [u'abdominal', u'pain']}, {'n': 1700, 'score': 0.7214200480832936, 'ori': {'s': [u'fingers', u'of', u'the', u'right', u'hand', u'acute', u'pain'], 'n': 1700}, 'mean': [u'abdominal', u'pain']}, {'n': 1700, 'score': 0.714874267578125, 'ori': {'s': [u'fingers', u'of', u'the', u'right', u'hand', u'acute', u'pain'], 'n': 1700}, 'mean': [u'abdominal', u'pain']}]\n",
      "Send back <Response 3059 bytes [200 OK]>\n"
     ]
    },
    {
     "name": "stderr",
     "output_type": "stream",
     "text": [
      "127.0.0.1 - - [05/Apr/2019 09:53:42] \"OPTIONS /scnlp/getsymptom HTTP/1.0\" 200 -\n"
     ]
    },
    {
     "name": "stdout",
     "output_type": "stream",
     "text": [
      "Options response <Response 3 bytes [200 OK]>\n"
     ]
    },
    {
     "name": "stderr",
     "output_type": "stream",
     "text": [
      "127.0.0.1 - - [05/Apr/2019 09:53:42] \"OPTIONS /scnlp/getsymptom HTTP/1.0\" 200 -\n"
     ]
    },
    {
     "name": "stdout",
     "output_type": "stream",
     "text": [
      "Options response <Response 3 bytes [200 OK]>\n"
     ]
    },
    {
     "name": "stderr",
     "output_type": "stream",
     "text": [
      "127.0.0.1 - - [05/Apr/2019 09:53:43] \"POST /scnlp/getsymptom HTTP/1.0\" 200 -\n"
     ]
    },
    {
     "name": "stdout",
     "output_type": "stream",
     "text": [
      "Custom dict- 50\n",
      "Printing new scores\n",
      "Send back [{'n': 1716, 'score': 1.0000000000000002, 'ori': {'s': [u'stomach', u'abdominal', u'pain'], 'n': 1716}, 'mean': [u'abdominal', u'pain']}, {'n': 1716, 'score': 0.9766116738319397, 'ori': {'s': [u'stomach', u'abdominal', u'pain'], 'n': 1716}, 'mean': [u'abdominal', u'pain']}, {'n': 1219, 'score': 0.8038992881774902, 'ori': {'s': [u'stomach', u'vomiting', u'with', u'blood'], 'n': 1219}, 'mean': [u'abdominal', u'pain']}, {'n': 681, 'score': 0.7944348774178357, 'ori': {'s': [u'right', u'side', u'of', u'abdomen', u'acute', u'pain'], 'n': 681}, 'mean': [u'abdominal', u'pain']}, {'n': 647, 'score': 0.7944348774178357, 'ori': {'s': [u'abdomen', u'from', u'the', u'navel', u'to', u'the', u'pubic', u'region', u'acute', u'pain'], 'n': 647}, 'mean': [u'abdominal', u'pain']}, {'n': 1709, 'score': 0.7898410558700562, 'ori': {'s': [u'leather', u'pain', u'over', u'redness'], 'n': 1709}, 'mean': [u'abdominal', u'pain']}, {'n': 681, 'score': 0.7460645437240601, 'ori': {'s': [u'right', u'side', u'of', u'abdomen', u'acute', u'pain'], 'n': 681}, 'mean': [u'abdominal', u'pain']}, {'n': 1709, 'score': 0.7221406013460107, 'ori': {'s': [u'leather', u'pain', u'over', u'redness'], 'n': 1709}, 'mean': [u'abdominal', u'pain']}, {'n': 1700, 'score': 0.7214200480832936, 'ori': {'s': [u'fingers', u'of', u'the', u'right', u'hand', u'acute', u'pain'], 'n': 1700}, 'mean': [u'abdominal', u'pain']}, {'n': 1700, 'score': 0.714874267578125, 'ori': {'s': [u'fingers', u'of', u'the', u'right', u'hand', u'acute', u'pain'], 'n': 1700}, 'mean': [u'abdominal', u'pain']}]\n",
      "Send back <Response 3059 bytes [200 OK]>\n",
      "Custom dict- 12\n"
     ]
    },
    {
     "name": "stderr",
     "output_type": "stream",
     "text": [
      "C:\\Users\\Administrator\\Anaconda2\\lib\\site-packages\\ipykernel_launcher.py:55: RuntimeWarning: invalid value encountered in float_scalars\n",
      "127.0.0.1 - - [05/Apr/2019 09:53:45] \"POST /scnlp/getsymptom HTTP/1.0\" 200 -\n"
     ]
    },
    {
     "name": "stdout",
     "output_type": "stream",
     "text": [
      "Printing new scores\n",
      "(0.16200712323188782, 483, '', 'score2')\n",
      "(0.16200713255971944, 483, '', 'score1')\n",
      "Send back [{'n': 438, 'score': 0.440611332654953, 'ori': {'s': [u'right', u'eye', u'heaviness'], 'n': 438}, 'mean': [u'nauseous']}, {'n': 1255, 'score': 0.4406112894425397, 'ori': {'s': [u'underbelly', u'heaviness'], 'n': 1255}, 'mean': [u'nauseous']}, {'n': 1250, 'score': 0.4406112894425397, 'ori': {'s': [u'right', u'side', u'heaviness'], 'n': 1250}, 'mean': [u'nauseous']}, {'n': 438, 'score': 0.4406112894425397, 'ori': {'s': [u'right', u'eye', u'heaviness'], 'n': 438}, 'mean': [u'nauseous']}, {'n': 428, 'score': 0.4406112894425397, 'ori': {'s': [u'left', u'eye', u'heaviness'], 'n': 428}, 'mean': [u'nauseous']}, {'n': 432, 'score': 0.4260141849517822, 'ori': {'s': [u'right', u'eye', u'pruritus'], 'n': 432}, 'mean': [u'nauseous']}, {'n': 1542, 'score': 0.4260141546405718, 'ori': {'s': [u'nose', u'pruritus'], 'n': 1542}, 'mean': [u'nauseous']}, {'n': 1178, 'score': 0.40628018975257874, 'ori': {'s': [u'body', u'shiver'], 'n': 1178}, 'mean': [u'nauseous']}, {'n': 1119, 'score': 0.39560380578041077, 'ori': {'s': [u'labia', u'pruritus'], 'n': 1119}, 'mean': [u'nauseous']}, {'n': 1255, 'score': 0.379642128944397, 'ori': {'s': [u'underbelly', u'heaviness'], 'n': 1255}, 'mean': [u'nauseous']}]\n",
      "Send back <Response 2334 bytes [200 OK]>\n"
     ]
    },
    {
     "name": "stderr",
     "output_type": "stream",
     "text": [
      "127.0.0.1 - - [05/Apr/2019 09:54:25] \"OPTIONS /scnlp/getsymptom HTTP/1.0\" 200 -\n"
     ]
    },
    {
     "name": "stdout",
     "output_type": "stream",
     "text": [
      "Options response <Response 3 bytes [200 OK]>\n"
     ]
    },
    {
     "name": "stderr",
     "output_type": "stream",
     "text": [
      "127.0.0.1 - - [05/Apr/2019 09:54:26] \"POST /scnlp/getsymptom HTTP/1.0\" 200 -\n"
     ]
    },
    {
     "name": "stdout",
     "output_type": "stream",
     "text": [
      "Custom dict- 11\n",
      "Printing new scores\n",
      "(0.3508217930793762, 483, [u'the', u'body'], 'score2')\n",
      "(0.6209635530931923, 483, [u'body'], 'score1')\n",
      "(0.6209635530931923, 483, [u'the', u'body'], 'score1')\n",
      "(0.6209635530931923, 483, '', 'score1')\n",
      "(0.6209635530931923, 483, '', 'score1')\n",
      "(0.6209636330604553, 483, [u'body'], 'score2')\n",
      "(0.6209636330604553, 483, '', 'score2')\n",
      "(0.6209636330604553, 483, '', 'score2')\n",
      "Send back [{'n': 539, 'score': 1.0, 'ori': {'s': [u'stomach', u'nausea'], 'n': 539}, 'mean': [u'nausea']}, {'n': 539, 'score': 0.9129419326782227, 'ori': {'s': [u'stomach', u'nausea'], 'n': 539}, 'mean': [u'nausea']}, {'n': 614, 'score': 0.8922163788023683, 'ori': {'s': [u'head', u'dizziness'], 'n': 614}, 'mean': [u'nausea']}, {'n': 540, 'score': 0.8836252898812911, 'ori': {'s': [u'stomach', u'vomiting'], 'n': 540}, 'mean': [u'nausea']}, {'n': 540, 'score': 0.8312700986862183, 'ori': {'s': [u'stomach', u'vomiting'], 'n': 540}, 'mean': [u'nausea']}, {'n': 683, 'score': 0.8113852040482255, 'ori': {'s': [u'anus', u'diarrhea'], 'n': 683}, 'mean': [u'nausea']}, {'n': 927, 'score': 0.7766266398310475, 'ori': {'s': [u'head', u'insomnia'], 'n': 927}, 'mean': [u'nausea']}, {'n': 556, 'score': 0.7291612029075623, 'ori': {'s': [u'head', u'pain'], 'n': 556}, 'mean': [u'nausea']}, {'n': 1068, 'score': 0.7161840796470642, 'ori': {'s': [u'body', u'fatigue'], 'n': 1068}, 'mean': [u'nausea']}, {'n': 664, 'score': 0.7161840796470642, 'ori': {'s': [u'body', u'fatigue'], 'n': 664}, 'mean': [u'nausea']}]\n",
      "Send back <Response 2180 bytes [200 OK]>\n"
     ]
    },
    {
     "name": "stderr",
     "output_type": "stream",
     "text": [
      "127.0.0.1 - - [05/Apr/2019 09:55:55] \"GET /scnlp/getsymptom HTTP/1.0\" 500 -\n",
      "Traceback (most recent call last):\n",
      "  File \"C:\\Users\\Administrator\\Anaconda2\\lib\\site-packages\\flask\\app.py\", line 2309, in __call__\n",
      "    return self.wsgi_app(environ, start_response)\n",
      "  File \"C:\\Users\\Administrator\\Anaconda2\\lib\\site-packages\\flask\\app.py\", line 2295, in wsgi_app\n",
      "    response = self.handle_exception(e)\n",
      "  File \"C:\\Users\\Administrator\\Anaconda2\\lib\\site-packages\\flask\\app.py\", line 1741, in handle_exception\n",
      "    reraise(exc_type, exc_value, tb)\n",
      "  File \"C:\\Users\\Administrator\\Anaconda2\\lib\\site-packages\\flask\\app.py\", line 2292, in wsgi_app\n",
      "    response = self.full_dispatch_request()\n",
      "  File \"C:\\Users\\Administrator\\Anaconda2\\lib\\site-packages\\flask\\app.py\", line 1815, in full_dispatch_request\n",
      "    rv = self.handle_user_exception(e)\n",
      "  File \"C:\\Users\\Administrator\\Anaconda2\\lib\\site-packages\\flask\\app.py\", line 1718, in handle_user_exception\n",
      "    reraise(exc_type, exc_value, tb)\n",
      "  File \"C:\\Users\\Administrator\\Anaconda2\\lib\\site-packages\\flask\\app.py\", line 1813, in full_dispatch_request\n",
      "    rv = self.dispatch_request()\n",
      "  File \"C:\\Users\\Administrator\\Anaconda2\\lib\\site-packages\\flask\\app.py\", line 1799, in dispatch_request\n",
      "    return self.view_functions[rule.endpoint](**req.view_args)\n",
      "  File \"<ipython-input-36-f0ca8193d0aa>\", line 20, in getSymptom\n",
      "    \n",
      "TypeError: 'NoneType' object has no attribute '__getitem__'\n",
      "127.0.0.1 - - [05/Apr/2019 10:10:25] \"OPTIONS /scnlp/getsymptom HTTP/1.0\" 200 -\n"
     ]
    },
    {
     "name": "stdout",
     "output_type": "stream",
     "text": [
      "Options response <Response 3 bytes [200 OK]>\n"
     ]
    },
    {
     "name": "stderr",
     "output_type": "stream",
     "text": [
      "127.0.0.1 - - [05/Apr/2019 10:10:27] \"POST /scnlp/getsymptom HTTP/1.0\" 200 -\n"
     ]
    },
    {
     "name": "stdout",
     "output_type": "stream",
     "text": [
      "Custom dict- 11\n",
      "Printing new scores\n",
      "(0.3508217930793762, 483, [u'the', u'body'], 'score2')\n",
      "(0.6209635530931923, 483, [u'body'], 'score1')\n",
      "(0.6209635530931923, 483, [u'the', u'body'], 'score1')\n",
      "(0.6209635530931923, 483, '', 'score1')\n",
      "(0.6209635530931923, 483, '', 'score1')\n",
      "(0.6209636330604553, 483, [u'body'], 'score2')\n",
      "(0.6209636330604553, 483, '', 'score2')\n",
      "(0.6209636330604553, 483, '', 'score2')\n",
      "Send back [{'n': 539, 'score': 1.0, 'ori': {'s': [u'stomach', u'nausea'], 'n': 539}, 'mean': [u'nausea']}, {'n': 539, 'score': 0.9129419326782227, 'ori': {'s': [u'stomach', u'nausea'], 'n': 539}, 'mean': [u'nausea']}, {'n': 614, 'score': 0.8922163788023683, 'ori': {'s': [u'head', u'dizziness'], 'n': 614}, 'mean': [u'nausea']}, {'n': 540, 'score': 0.8836252898812911, 'ori': {'s': [u'stomach', u'vomiting'], 'n': 540}, 'mean': [u'nausea']}, {'n': 540, 'score': 0.8312700986862183, 'ori': {'s': [u'stomach', u'vomiting'], 'n': 540}, 'mean': [u'nausea']}, {'n': 683, 'score': 0.8113852040482255, 'ori': {'s': [u'anus', u'diarrhea'], 'n': 683}, 'mean': [u'nausea']}, {'n': 927, 'score': 0.7766266398310475, 'ori': {'s': [u'head', u'insomnia'], 'n': 927}, 'mean': [u'nausea']}, {'n': 556, 'score': 0.7291612029075623, 'ori': {'s': [u'head', u'pain'], 'n': 556}, 'mean': [u'nausea']}, {'n': 1068, 'score': 0.7161840796470642, 'ori': {'s': [u'body', u'fatigue'], 'n': 1068}, 'mean': [u'nausea']}, {'n': 664, 'score': 0.7161840796470642, 'ori': {'s': [u'body', u'fatigue'], 'n': 664}, 'mean': [u'nausea']}]\n",
      "Send back <Response 2180 bytes [200 OK]>\n"
     ]
    },
    {
     "name": "stderr",
     "output_type": "stream",
     "text": [
      "127.0.0.1 - - [05/Apr/2019 10:10:55] \"OPTIONS /scnlp/getsymptom HTTP/1.0\" 200 -\n"
     ]
    },
    {
     "name": "stdout",
     "output_type": "stream",
     "text": [
      "Options response <Response 3 bytes [200 OK]>\n"
     ]
    },
    {
     "name": "stderr",
     "output_type": "stream",
     "text": [
      "127.0.0.1 - - [05/Apr/2019 10:10:56] \"POST /scnlp/getsymptom HTTP/1.0\" 200 -\n"
     ]
    },
    {
     "name": "stdout",
     "output_type": "stream",
     "text": [
      "Custom dict- 50\n",
      "Printing new scores\n",
      "Send back [{'n': 1716, 'score': 1.0000000000000002, 'ori': {'s': [u'stomach', u'abdominal', u'pain'], 'n': 1716}, 'mean': [u'abdominal', u'pain']}, {'n': 1716, 'score': 0.9766116738319397, 'ori': {'s': [u'stomach', u'abdominal', u'pain'], 'n': 1716}, 'mean': [u'abdominal', u'pain']}, {'n': 1219, 'score': 0.8038992881774902, 'ori': {'s': [u'stomach', u'vomiting', u'with', u'blood'], 'n': 1219}, 'mean': [u'abdominal', u'pain']}, {'n': 681, 'score': 0.7944348774178357, 'ori': {'s': [u'right', u'side', u'of', u'abdomen', u'acute', u'pain'], 'n': 681}, 'mean': [u'abdominal', u'pain']}, {'n': 647, 'score': 0.7944348774178357, 'ori': {'s': [u'abdomen', u'from', u'the', u'navel', u'to', u'the', u'pubic', u'region', u'acute', u'pain'], 'n': 647}, 'mean': [u'abdominal', u'pain']}, {'n': 1709, 'score': 0.7898410558700562, 'ori': {'s': [u'leather', u'pain', u'over', u'redness'], 'n': 1709}, 'mean': [u'abdominal', u'pain']}, {'n': 681, 'score': 0.7460645437240601, 'ori': {'s': [u'right', u'side', u'of', u'abdomen', u'acute', u'pain'], 'n': 681}, 'mean': [u'abdominal', u'pain']}, {'n': 1709, 'score': 0.7221406013460107, 'ori': {'s': [u'leather', u'pain', u'over', u'redness'], 'n': 1709}, 'mean': [u'abdominal', u'pain']}, {'n': 1700, 'score': 0.7214200480832936, 'ori': {'s': [u'fingers', u'of', u'the', u'right', u'hand', u'acute', u'pain'], 'n': 1700}, 'mean': [u'abdominal', u'pain']}, {'n': 1700, 'score': 0.714874267578125, 'ori': {'s': [u'fingers', u'of', u'the', u'right', u'hand', u'acute', u'pain'], 'n': 1700}, 'mean': [u'abdominal', u'pain']}]\n",
      "Send back <Response 3059 bytes [200 OK]>\n"
     ]
    },
    {
     "name": "stderr",
     "output_type": "stream",
     "text": [
      "127.0.0.1 - - [05/Apr/2019 10:12:43] \"OPTIONS /scnlp/getsymptom HTTP/1.0\" 200 -\n"
     ]
    },
    {
     "name": "stdout",
     "output_type": "stream",
     "text": [
      "Options response <Response 3 bytes [200 OK]>\n"
     ]
    },
    {
     "name": "stderr",
     "output_type": "stream",
     "text": [
      "127.0.0.1 - - [05/Apr/2019 10:12:44] \"POST /scnlp/getsymptom HTTP/1.0\" 200 -\n"
     ]
    },
    {
     "name": "stdout",
     "output_type": "stream",
     "text": [
      "Custom dict- 11\n",
      "Printing new scores\n",
      "(0.010979119688272476, 483, [u'the', u'body'], 'score2')\n",
      "(0.4023320536324275, 483, [u'body'], 'score1')\n",
      "(0.4023320536324275, 483, [u'the', u'body'], 'score1')\n",
      "(0.4023320536324275, 483, '', 'score1')\n",
      "(0.4023320536324275, 483, '', 'score1')\n",
      "(0.4023320972919464, 483, [u'body'], 'score2')\n",
      "(0.4023320972919464, 483, '', 'score2')\n",
      "(0.4023320972919464, 483, '', 'score2')\n",
      "Send back [{'n': 540, 'score': 0.6499320905105872, 'ori': {'s': [u'stomach', u'vomiting'], 'n': 540}, 'mean': [u'stomachache']}, {'n': 539, 'score': 0.586340806655824, 'ori': {'s': [u'stomach', u'nausea'], 'n': 539}, 'mean': [u'stomachache']}, {'n': 683, 'score': 0.58591735995058, 'ori': {'s': [u'anus', u'diarrhea'], 'n': 683}, 'mean': [u'stomachache']}, {'n': 556, 'score': 0.5776090621948242, 'ori': {'s': [u'head', u'pain'], 'n': 556}, 'mean': [u'stomachache']}, {'n': 556, 'score': 0.5776090416362712, 'ori': {'s': [u'head', u'pain'], 'n': 556}, 'mean': [u'stomachache']}, {'n': 614, 'score': 0.5740153272261082, 'ori': {'s': [u'head', u'dizziness'], 'n': 614}, 'mean': [u'stomachache']}, {'n': 540, 'score': 0.5556091666221619, 'ori': {'s': [u'stomach', u'vomiting'], 'n': 540}, 'mean': [u'stomachache']}, {'n': 482, 'score': 0.5292803049087524, 'ori': {'s': [u'body', u'chills'], 'n': 482}, 'mean': [u'stomachache']}, {'n': 539, 'score': 0.528273344039917, 'ori': {'s': [u'stomach', u'nausea'], 'n': 539}, 'mean': [u'stomachache']}, {'n': 683, 'score': 0.5002126693725586, 'ori': {'s': [u'anus', u'diarrhea'], 'n': 683}, 'mean': [u'stomachache']}]\n",
      "Send back <Response 2235 bytes [200 OK]>\n"
     ]
    },
    {
     "name": "stderr",
     "output_type": "stream",
     "text": [
      "127.0.0.1 - - [05/Apr/2019 10:12:57] \"OPTIONS /scnlp/getsymptom HTTP/1.0\" 200 -\n"
     ]
    },
    {
     "name": "stdout",
     "output_type": "stream",
     "text": [
      "Options response <Response 3 bytes [200 OK]>\n"
     ]
    },
    {
     "name": "stderr",
     "output_type": "stream",
     "text": [
      "127.0.0.1 - - [05/Apr/2019 10:12:59] \"POST /scnlp/getsymptom HTTP/1.0\" 200 -\n"
     ]
    },
    {
     "name": "stdout",
     "output_type": "stream",
     "text": [
      "Custom dict- 50\n",
      "Printing new scores\n",
      "Send back [{'n': 1716, 'score': 1.0000000000000002, 'ori': {'s': [u'stomach', u'abdominal', u'pain'], 'n': 1716}, 'mean': [u'abdominal', u'pain']}, {'n': 1716, 'score': 0.9766116738319397, 'ori': {'s': [u'stomach', u'abdominal', u'pain'], 'n': 1716}, 'mean': [u'abdominal', u'pain']}, {'n': 1219, 'score': 0.8038992881774902, 'ori': {'s': [u'stomach', u'vomiting', u'with', u'blood'], 'n': 1219}, 'mean': [u'abdominal', u'pain']}, {'n': 681, 'score': 0.7944348774178357, 'ori': {'s': [u'right', u'side', u'of', u'abdomen', u'acute', u'pain'], 'n': 681}, 'mean': [u'abdominal', u'pain']}, {'n': 647, 'score': 0.7944348774178357, 'ori': {'s': [u'abdomen', u'from', u'the', u'navel', u'to', u'the', u'pubic', u'region', u'acute', u'pain'], 'n': 647}, 'mean': [u'abdominal', u'pain']}, {'n': 1709, 'score': 0.7898410558700562, 'ori': {'s': [u'leather', u'pain', u'over', u'redness'], 'n': 1709}, 'mean': [u'abdominal', u'pain']}, {'n': 681, 'score': 0.7460645437240601, 'ori': {'s': [u'right', u'side', u'of', u'abdomen', u'acute', u'pain'], 'n': 681}, 'mean': [u'abdominal', u'pain']}, {'n': 1709, 'score': 0.7221406013460107, 'ori': {'s': [u'leather', u'pain', u'over', u'redness'], 'n': 1709}, 'mean': [u'abdominal', u'pain']}, {'n': 1700, 'score': 0.7214200480832936, 'ori': {'s': [u'fingers', u'of', u'the', u'right', u'hand', u'acute', u'pain'], 'n': 1700}, 'mean': [u'abdominal', u'pain']}, {'n': 1700, 'score': 0.714874267578125, 'ori': {'s': [u'fingers', u'of', u'the', u'right', u'hand', u'acute', u'pain'], 'n': 1700}, 'mean': [u'abdominal', u'pain']}]\n",
      "Send back <Response 3059 bytes [200 OK]>\n"
     ]
    },
    {
     "name": "stderr",
     "output_type": "stream",
     "text": [
      "127.0.0.1 - - [05/Apr/2019 10:13:34] \"OPTIONS /scnlp/getsymptom HTTP/1.0\" 200 -\n"
     ]
    },
    {
     "name": "stdout",
     "output_type": "stream",
     "text": [
      "Options response <Response 3 bytes [200 OK]>\n"
     ]
    },
    {
     "name": "stderr",
     "output_type": "stream",
     "text": [
      "127.0.0.1 - - [05/Apr/2019 10:13:35] \"POST /scnlp/getsymptom HTTP/1.0\" 200 -\n"
     ]
    },
    {
     "name": "stdout",
     "output_type": "stream",
     "text": [
      "Custom dict- 50\n",
      "Printing new scores\n",
      "Send back [{'n': 1716, 'score': 1.0000000000000002, 'ori': {'s': [u'stomach', u'abdominal', u'pain'], 'n': 1716}, 'mean': [u'abdominal', u'pain']}, {'n': 1716, 'score': 0.9766116738319397, 'ori': {'s': [u'stomach', u'abdominal', u'pain'], 'n': 1716}, 'mean': [u'abdominal', u'pain']}, {'n': 1219, 'score': 0.8038992881774902, 'ori': {'s': [u'stomach', u'vomiting', u'with', u'blood'], 'n': 1219}, 'mean': [u'abdominal', u'pain']}, {'n': 681, 'score': 0.7944348774178357, 'ori': {'s': [u'right', u'side', u'of', u'abdomen', u'acute', u'pain'], 'n': 681}, 'mean': [u'abdominal', u'pain']}, {'n': 647, 'score': 0.7944348774178357, 'ori': {'s': [u'abdomen', u'from', u'the', u'navel', u'to', u'the', u'pubic', u'region', u'acute', u'pain'], 'n': 647}, 'mean': [u'abdominal', u'pain']}, {'n': 1709, 'score': 0.7898410558700562, 'ori': {'s': [u'leather', u'pain', u'over', u'redness'], 'n': 1709}, 'mean': [u'abdominal', u'pain']}, {'n': 681, 'score': 0.7460645437240601, 'ori': {'s': [u'right', u'side', u'of', u'abdomen', u'acute', u'pain'], 'n': 681}, 'mean': [u'abdominal', u'pain']}, {'n': 1709, 'score': 0.7221406013460107, 'ori': {'s': [u'leather', u'pain', u'over', u'redness'], 'n': 1709}, 'mean': [u'abdominal', u'pain']}, {'n': 1700, 'score': 0.7214200480832936, 'ori': {'s': [u'fingers', u'of', u'the', u'right', u'hand', u'acute', u'pain'], 'n': 1700}, 'mean': [u'abdominal', u'pain']}, {'n': 1700, 'score': 0.714874267578125, 'ori': {'s': [u'fingers', u'of', u'the', u'right', u'hand', u'acute', u'pain'], 'n': 1700}, 'mean': [u'abdominal', u'pain']}]\n",
      "Send back <Response 3059 bytes [200 OK]>\n"
     ]
    },
    {
     "name": "stderr",
     "output_type": "stream",
     "text": [
      "127.0.0.1 - - [05/Apr/2019 10:13:56] \"OPTIONS /scnlp/getsymptom HTTP/1.0\" 200 -\n"
     ]
    },
    {
     "name": "stdout",
     "output_type": "stream",
     "text": [
      "Options response <Response 3 bytes [200 OK]>\n"
     ]
    },
    {
     "name": "stderr",
     "output_type": "stream",
     "text": [
      "127.0.0.1 - - [05/Apr/2019 10:13:57] \"POST /scnlp/getsymptom HTTP/1.0\" 200 -\n"
     ]
    },
    {
     "name": "stdout",
     "output_type": "stream",
     "text": [
      "Custom dict- 11\n",
      "Printing new scores\n",
      "(0.010979119688272476, 483, [u'the', u'body'], 'score2')\n",
      "(0.4023320536324275, 483, [u'body'], 'score1')\n",
      "(0.4023320536324275, 483, [u'the', u'body'], 'score1')\n",
      "(0.4023320536324275, 483, '', 'score1')\n",
      "(0.4023320536324275, 483, '', 'score1')\n",
      "(0.4023320972919464, 483, [u'body'], 'score2')\n",
      "(0.4023320972919464, 483, '', 'score2')\n",
      "(0.4023320972919464, 483, '', 'score2')\n",
      "Send back [{'n': 540, 'score': 0.6499320905105872, 'ori': {'s': [u'stomach', u'vomiting'], 'n': 540}, 'mean': [u'stomachache']}, {'n': 539, 'score': 0.586340806655824, 'ori': {'s': [u'stomach', u'nausea'], 'n': 539}, 'mean': [u'stomachache']}, {'n': 683, 'score': 0.58591735995058, 'ori': {'s': [u'anus', u'diarrhea'], 'n': 683}, 'mean': [u'stomachache']}, {'n': 556, 'score': 0.5776090621948242, 'ori': {'s': [u'head', u'pain'], 'n': 556}, 'mean': [u'stomachache']}, {'n': 556, 'score': 0.5776090416362712, 'ori': {'s': [u'head', u'pain'], 'n': 556}, 'mean': [u'stomachache']}, {'n': 614, 'score': 0.5740153272261082, 'ori': {'s': [u'head', u'dizziness'], 'n': 614}, 'mean': [u'stomachache']}, {'n': 540, 'score': 0.5556091666221619, 'ori': {'s': [u'stomach', u'vomiting'], 'n': 540}, 'mean': [u'stomachache']}, {'n': 482, 'score': 0.5292803049087524, 'ori': {'s': [u'body', u'chills'], 'n': 482}, 'mean': [u'stomachache']}, {'n': 539, 'score': 0.528273344039917, 'ori': {'s': [u'stomach', u'nausea'], 'n': 539}, 'mean': [u'stomachache']}, {'n': 683, 'score': 0.5002126693725586, 'ori': {'s': [u'anus', u'diarrhea'], 'n': 683}, 'mean': [u'stomachache']}]\n",
      "Send back <Response 2235 bytes [200 OK]>\n"
     ]
    },
    {
     "name": "stderr",
     "output_type": "stream",
     "text": [
      "127.0.0.1 - - [05/Apr/2019 10:27:50] \"OPTIONS /scnlp/getsymptom HTTP/1.0\" 200 -\n"
     ]
    },
    {
     "name": "stdout",
     "output_type": "stream",
     "text": [
      "Options response <Response 3 bytes [200 OK]>\n"
     ]
    },
    {
     "name": "stderr",
     "output_type": "stream",
     "text": [
      "127.0.0.1 - - [05/Apr/2019 10:27:52] \"POST /scnlp/getsymptom HTTP/1.0\" 200 -\n"
     ]
    },
    {
     "name": "stdout",
     "output_type": "stream",
     "text": [
      "Custom dict- 11\n",
      "Printing new scores\n",
      "(0.4575174152851105, 483, [u'the', u'body'], 'score2')\n",
      "(0.6435675411666477, 483, [u'body'], 'score1')\n",
      "(0.6435675411666477, 483, [u'the', u'body'], 'score1')\n",
      "(0.6435675411666477, 483, '', 'score1')\n",
      "(0.6435675411666477, 483, '', 'score1')\n",
      "(0.6435675621032715, 483, [u'body'], 'score2')\n",
      "(0.6435675621032715, 483, '', 'score2')\n",
      "(0.6435675621032715, 483, '', 'score2')\n",
      "Send back [{'n': 556, 'score': 1.0, 'ori': {'s': [u'head', u'pain'], 'n': 556}, 'mean': [u'headache']}, {'n': 556, 'score': 0.9999999999999998, 'ori': {'s': [u'head', u'pain'], 'n': 556}, 'mean': [u'headache']}, {'n': 539, 'score': 0.729161130871945, 'ori': {'s': [u'stomach', u'nausea'], 'n': 539}, 'mean': [u'headache']}, {'n': 539, 'score': 0.7218495607376099, 'ori': {'s': [u'stomach', u'nausea'], 'n': 539}, 'mean': [u'headache']}, {'n': 1068, 'score': 0.6817685475966528, 'ori': {'s': [u'body', u'fatigue'], 'n': 1068}, 'mean': [u'headache']}, {'n': 664, 'score': 0.6817685475966528, 'ori': {'s': [u'body', u'fatigue'], 'n': 664}, 'mean': [u'headache']}, {'n': 1068, 'score': 0.681768536567688, 'ori': {'s': [u'body', u'fatigue'], 'n': 1068}, 'mean': [u'headache']}, {'n': 664, 'score': 0.681768536567688, 'ori': {'s': [u'body', u'fatigue'], 'n': 664}, 'mean': [u'headache']}, {'n': 614, 'score': 0.6800907847302761, 'ori': {'s': [u'head', u'dizziness'], 'n': 614}, 'mean': [u'headache']}, {'n': 540, 'score': 0.6780422329902649, 'ori': {'s': [u'stomach', u'vomiting'], 'n': 540}, 'mean': [u'headache']}]\n",
      "Send back <Response 2190 bytes [200 OK]>\n"
     ]
    },
    {
     "name": "stderr",
     "output_type": "stream",
     "text": [
      "127.0.0.1 - - [05/Apr/2019 10:28:02] \"OPTIONS /scnlp/getsymptom HTTP/1.0\" 200 -\n"
     ]
    },
    {
     "name": "stdout",
     "output_type": "stream",
     "text": [
      "Options response <Response 3 bytes [200 OK]>\n"
     ]
    },
    {
     "name": "stderr",
     "output_type": "stream",
     "text": [
      "127.0.0.1 - - [05/Apr/2019 10:28:03] \"POST /scnlp/getsymptom HTTP/1.0\" 200 -\n"
     ]
    },
    {
     "name": "stdout",
     "output_type": "stream",
     "text": [
      "Send back []\n",
      "Send back <Response 19 bytes [200 OK]>\n"
     ]
    },
    {
     "name": "stderr",
     "output_type": "stream",
     "text": [
      "127.0.0.1 - - [05/Apr/2019 10:28:25] \"OPTIONS /scnlp/getsymptom HTTP/1.0\" 200 -\n"
     ]
    },
    {
     "name": "stdout",
     "output_type": "stream",
     "text": [
      "Options response <Response 3 bytes [200 OK]>\n"
     ]
    },
    {
     "name": "stderr",
     "output_type": "stream",
     "text": [
      "127.0.0.1 - - [05/Apr/2019 10:28:27] \"POST /scnlp/getsymptom HTTP/1.0\" 200 -\n"
     ]
    },
    {
     "name": "stdout",
     "output_type": "stream",
     "text": [
      "Send back []\n",
      "Send back <Response 19 bytes [200 OK]>\n"
     ]
    },
    {
     "name": "stderr",
     "output_type": "stream",
     "text": [
      "127.0.0.1 - - [05/Apr/2019 10:28:36] \"OPTIONS /scnlp/getsymptom HTTP/1.0\" 200 -\n"
     ]
    },
    {
     "name": "stdout",
     "output_type": "stream",
     "text": [
      "Options response <Response 3 bytes [200 OK]>\n"
     ]
    },
    {
     "name": "stderr",
     "output_type": "stream",
     "text": [
      "127.0.0.1 - - [05/Apr/2019 10:28:37] \"POST /scnlp/getsymptom HTTP/1.0\" 200 -\n"
     ]
    },
    {
     "name": "stdout",
     "output_type": "stream",
     "text": [
      "Send back []\n",
      "Send back <Response 19 bytes [200 OK]>\n"
     ]
    },
    {
     "name": "stderr",
     "output_type": "stream",
     "text": [
      "127.0.0.1 - - [05/Apr/2019 10:29:33] \"OPTIONS /scnlp/getsymptom HTTP/1.0\" 200 -\n"
     ]
    },
    {
     "name": "stdout",
     "output_type": "stream",
     "text": [
      "Options response <Response 3 bytes [200 OK]>\n"
     ]
    },
    {
     "name": "stderr",
     "output_type": "stream",
     "text": [
      "127.0.0.1 - - [05/Apr/2019 10:29:34] \"POST /scnlp/getsymptom HTTP/1.0\" 200 -\n"
     ]
    },
    {
     "name": "stdout",
     "output_type": "stream",
     "text": [
      "Custom dict- 17\n",
      "Printing new scores\n",
      "Send back [{'n': 748, 'score': 0.7964696288108826, 'ori': {'s': [u'right', u'hand', u'pain'], 'n': 748}, 'mean': [u'hand', u'hurts']}, {'n': 747, 'score': 0.7964696288108826, 'ori': {'s': [u'right', u'hand', u'pain'], 'n': 747}, 'mean': [u'hand', u'hurts']}, {'n': 710, 'score': 0.7645995616912842, 'ori': {'s': [u'left', u'hand', u'pain'], 'n': 710}, 'mean': [u'hand', u'hurts']}, {'n': 709, 'score': 0.7645995616912842, 'ori': {'s': [u'left', u'hand', u'pain'], 'n': 709}, 'mean': [u'hand', u'hurts']}, {'n': 826, 'score': 0.7447171211242676, 'ori': {'s': [u'right', u'hand', u'shooting', u'pain'], 'n': 826}, 'mean': [u'hand', u'hurts']}, {'n': 1261, 'score': 0.6645297304947398, 'ori': {'s': [u'the', u'thumb', u'of', u'the', u'right', u'hand', u'ankle', u'pain'], 'n': 1261}, 'mean': [u'hand', u'hurts']}, {'n': 1258, 'score': 0.6645297304947398, 'ori': {'s': [u'the', u'thumb', u'of', u'the', u'left', u'hand', u'ankle', u'pain'], 'n': 1258}, 'mean': [u'hand', u'hurts']}, {'n': 826, 'score': 0.6645297304947398, 'ori': {'s': [u'right', u'hand', u'shooting', u'pain'], 'n': 826}, 'mean': [u'hand', u'hurts']}, {'n': 812, 'score': 0.6645297304947398, 'ori': {'s': [u'left', u'hand', u'shooting', u'pain'], 'n': 812}, 'mean': [u'hand', u'hurts']}, {'n': 752, 'score': 0.6645297304947398, 'ori': {'s': [u'the', u'thumb', u'of', u'the', u'right', u'hand', u'pain'], 'n': 752}, 'mean': [u'hand', u'hurts']}]\n",
      "Send back <Response 2838 bytes [200 OK]>\n"
     ]
    },
    {
     "name": "stderr",
     "output_type": "stream",
     "text": [
      "127.0.0.1 - - [05/Apr/2019 10:30:23] \"OPTIONS /scnlp/getsymptom HTTP/1.0\" 200 -\n"
     ]
    },
    {
     "name": "stdout",
     "output_type": "stream",
     "text": [
      "Options response <Response 3 bytes [200 OK]>\n"
     ]
    },
    {
     "name": "stderr",
     "output_type": "stream",
     "text": [
      "127.0.0.1 - - [05/Apr/2019 10:30:24] \"POST /scnlp/getsymptom HTTP/1.0\" 200 -\n"
     ]
    },
    {
     "name": "stdout",
     "output_type": "stream",
     "text": [
      "Custom dict- 17\n",
      "Printing new scores\n",
      "Send back [{'n': 764, 'score': 0.7384818196296692, 'ori': {'s': [u'right', u'shoulder', u'pain'], 'n': 764}, 'mean': [u'arm', u'numbness']}, {'n': 726, 'score': 0.72947096824646, 'ori': {'s': [u'left', u'shoulder', u'pain'], 'n': 726}, 'mean': [u'arm', u'numbness']}, {'n': 586, 'score': 0.7137507796287537, 'ori': {'s': [u'left', u'humerus', u'pain'], 'n': 586}, 'mean': [u'arm', u'numbness']}, {'n': 606, 'score': 0.7085257768630981, 'ori': {'s': [u'right', u'shoulder', u'joint', u'pain'], 'n': 606}, 'mean': [u'arm', u'numbness']}, {'n': 748, 'score': 0.6993731260299683, 'ori': {'s': [u'right', u'hand', u'pain'], 'n': 748}, 'mean': [u'arm', u'numbness']}, {'n': 764, 'score': 0.6660266194752078, 'ori': {'s': [u'right', u'shoulder', u'pain'], 'n': 764}, 'mean': [u'arm', u'numbness']}, {'n': 726, 'score': 0.6660266194752078, 'ori': {'s': [u'left', u'shoulder', u'pain'], 'n': 726}, 'mean': [u'arm', u'numbness']}, {'n': 606, 'score': 0.6660266194752078, 'ori': {'s': [u'right', u'shoulder', u'joint', u'pain'], 'n': 606}, 'mean': [u'arm', u'numbness']}, {'n': 586, 'score': 0.6660266194752078, 'ori': {'s': [u'left', u'humerus', u'pain'], 'n': 586}, 'mean': [u'arm', u'numbness']}, {'n': 1261, 'score': 0.6537935852167013, 'ori': {'s': [u'the', u'thumb', u'of', u'the', u'right', u'hand', u'ankle', u'pain'], 'n': 1261}, 'mean': [u'arm', u'numbness']}]\n",
      "Send back <Response 2689 bytes [200 OK]>\n"
     ]
    },
    {
     "name": "stderr",
     "output_type": "stream",
     "text": [
      "127.0.0.1 - - [05/Apr/2019 10:35:13] \"OPTIONS /scnlp/getsymptom HTTP/1.0\" 200 -\n"
     ]
    },
    {
     "name": "stdout",
     "output_type": "stream",
     "text": [
      "Options response <Response 3 bytes [200 OK]>\n"
     ]
    },
    {
     "name": "stderr",
     "output_type": "stream",
     "text": [
      "127.0.0.1 - - [05/Apr/2019 10:35:14] \"POST /scnlp/getsymptom HTTP/1.0\" 200 -\n"
     ]
    },
    {
     "name": "stdout",
     "output_type": "stream",
     "text": [
      "Custom dict- 19\n",
      "Printing new scores\n",
      "Send back [{'n': 1251, 'score': 0.7847006320953369, 'ori': {'s': [u'urethra', u'dark', u'urine'], 'n': 1251}, 'mean': [u'urine', u'blood']}, {'n': 1251, 'score': 0.6655440519920096, 'ori': {'s': [u'urethra', u'dark', u'urine'], 'n': 1251}, 'mean': [u'urine', u'blood']}, {'n': 1106, 'score': 0.6423918604850769, 'ori': {'s': [u'anus', u'mucus', u'in', u'stool'], 'n': 1106}, 'mean': [u'urine', u'blood']}, {'n': 1420, 'score': 0.6071950197219849, 'ori': {'s': [u'right', u'breast', u'/', u'mammary', u'gland', u'local', u'skin', u'retraction'], 'n': 1420}, 'mean': [u'urine', u'blood']}, {'n': 922, 'score': 0.5709766149520874, 'ori': {'s': [u'anus', u'stool', u'color', u'change'], 'n': 922}, 'mean': [u'urine', u'blood']}, {'n': 1342, 'score': 0.569918692111969, 'ori': {'s': [u'body', u'blueing', u'of', u'fingers', u'or', u'toes,', u'feet,', u'hands,', u'nose'], 'n': 1342}, 'mean': [u'urine', u'blood']}, {'n': 1420, 'score': 0.5259536483415017, 'ori': {'s': [u'right', u'breast', u'/', u'mammary', u'gland', u'local', u'skin', u'retraction'], 'n': 1420}, 'mean': [u'urine', u'blood']}, {'n': 1106, 'score': 0.5210552303325922, 'ori': {'s': [u'anus', u'mucus', u'in', u'stool'], 'n': 1106}, 'mean': [u'urine', u'blood']}, {'n': 922, 'score': 0.5210552303325922, 'ori': {'s': [u'anus', u'stool', u'color', u'change'], 'n': 922}, 'mean': [u'urine', u'blood']}, {'n': 1731, 'score': 0.5104579532254524, 'ori': {'s': [u'leather', u'cracked', u'skin'], 'n': 1731}, 'mean': [u'urine', u'blood']}]\n",
      "Send back <Response 2955 bytes [200 OK]>\n"
     ]
    },
    {
     "name": "stderr",
     "output_type": "stream",
     "text": [
      "127.0.0.1 - - [05/Apr/2019 10:36:57] \"OPTIONS /scnlp/getsymptom HTTP/1.0\" 200 -\n"
     ]
    },
    {
     "name": "stdout",
     "output_type": "stream",
     "text": [
      "Options response <Response 3 bytes [200 OK]>\n"
     ]
    },
    {
     "name": "stderr",
     "output_type": "stream",
     "text": [
      "127.0.0.1 - - [05/Apr/2019 10:36:58] \"POST /scnlp/getsymptom HTTP/1.0\" 500 -\n",
      "Traceback (most recent call last):\n",
      "  File \"C:\\Users\\Administrator\\Anaconda2\\lib\\site-packages\\flask\\app.py\", line 2309, in __call__\n",
      "    return self.wsgi_app(environ, start_response)\n",
      "  File \"C:\\Users\\Administrator\\Anaconda2\\lib\\site-packages\\flask\\app.py\", line 2295, in wsgi_app\n",
      "    response = self.handle_exception(e)\n",
      "  File \"C:\\Users\\Administrator\\Anaconda2\\lib\\site-packages\\flask\\app.py\", line 1741, in handle_exception\n",
      "    reraise(exc_type, exc_value, tb)\n",
      "  File \"C:\\Users\\Administrator\\Anaconda2\\lib\\site-packages\\flask\\app.py\", line 2292, in wsgi_app\n",
      "    response = self.full_dispatch_request()\n",
      "  File \"C:\\Users\\Administrator\\Anaconda2\\lib\\site-packages\\flask\\app.py\", line 1815, in full_dispatch_request\n",
      "    rv = self.handle_user_exception(e)\n",
      "  File \"C:\\Users\\Administrator\\Anaconda2\\lib\\site-packages\\flask\\app.py\", line 1718, in handle_user_exception\n",
      "    reraise(exc_type, exc_value, tb)\n",
      "  File \"C:\\Users\\Administrator\\Anaconda2\\lib\\site-packages\\flask\\app.py\", line 1813, in full_dispatch_request\n",
      "    rv = self.dispatch_request()\n",
      "  File \"C:\\Users\\Administrator\\Anaconda2\\lib\\site-packages\\flask\\app.py\", line 1799, in dispatch_request\n",
      "    return self.view_functions[rule.endpoint](**req.view_args)\n",
      "  File \"<ipython-input-36-f0ca8193d0aa>\", line 21, in getSymptom\n",
      "    \n",
      "  File \"<ipython-input-27-02758f24da37>\", line 3, in processQuery\n",
      "    \n",
      "  File \"<ipython-input-7-c8b031f0ab39>\", line 86, in getTrees\n",
      "    \n",
      "  File \"<ipython-input-7-c8b031f0ab39>\", line 16, in getTree\n",
      "    \n",
      "  File \"C:\\Users\\Administrator\\Anaconda2\\lib\\site-packages\\nltk\\parse\\stanford.py\", line 134, in raw_parse\n",
      "    return next(self.raw_parse_sents([sentence], verbose))\n",
      "StopIteration\n",
      "127.0.0.1 - - [05/Apr/2019 10:42:42] \"OPTIONS /scnlp/getsymptom HTTP/1.0\" 200 -\n"
     ]
    },
    {
     "name": "stdout",
     "output_type": "stream",
     "text": [
      "Options response <Response 3 bytes [200 OK]>\n"
     ]
    },
    {
     "name": "stderr",
     "output_type": "stream",
     "text": [
      "127.0.0.1 - - [05/Apr/2019 10:42:44] \"POST /scnlp/getsymptom HTTP/1.0\" 200 -\n"
     ]
    },
    {
     "name": "stdout",
     "output_type": "stream",
     "text": [
      "Send back []\n",
      "Send back <Response 19 bytes [200 OK]>\n"
     ]
    },
    {
     "name": "stderr",
     "output_type": "stream",
     "text": [
      "127.0.0.1 - - [05/Apr/2019 10:43:06] \"OPTIONS /scnlp/getsymptom HTTP/1.0\" 200 -\n"
     ]
    },
    {
     "name": "stdout",
     "output_type": "stream",
     "text": [
      "Options response <Response 3 bytes [200 OK]>\n"
     ]
    },
    {
     "name": "stderr",
     "output_type": "stream",
     "text": [
      "127.0.0.1 - - [05/Apr/2019 10:43:08] \"POST /scnlp/getsymptom HTTP/1.0\" 200 -\n"
     ]
    },
    {
     "name": "stdout",
     "output_type": "stream",
     "text": [
      "Send back []\n",
      "Send back <Response 19 bytes [200 OK]>\n"
     ]
    },
    {
     "name": "stderr",
     "output_type": "stream",
     "text": [
      "127.0.0.1 - - [05/Apr/2019 10:43:24] \"OPTIONS /scnlp/getsymptom HTTP/1.0\" 200 -\n"
     ]
    },
    {
     "name": "stdout",
     "output_type": "stream",
     "text": [
      "Options response <Response 3 bytes [200 OK]>\n"
     ]
    },
    {
     "name": "stderr",
     "output_type": "stream",
     "text": [
      "127.0.0.1 - - [05/Apr/2019 10:43:26] \"POST /scnlp/getsymptom HTTP/1.0\" 200 -\n"
     ]
    },
    {
     "name": "stdout",
     "output_type": "stream",
     "text": [
      "Send back []\n",
      "Send back <Response 19 bytes [200 OK]>\n"
     ]
    },
    {
     "name": "stderr",
     "output_type": "stream",
     "text": [
      "127.0.0.1 - - [05/Apr/2019 10:46:39] \"OPTIONS /scnlp/getsymptom HTTP/1.0\" 200 -\n"
     ]
    },
    {
     "name": "stdout",
     "output_type": "stream",
     "text": [
      "Options response <Response 3 bytes [200 OK]>\n"
     ]
    },
    {
     "name": "stderr",
     "output_type": "stream",
     "text": [
      "127.0.0.1 - - [05/Apr/2019 10:46:40] \"POST /scnlp/getsymptom HTTP/1.0\" 200 -\n"
     ]
    },
    {
     "name": "stdout",
     "output_type": "stream",
     "text": [
      "Custom dict- 69\n",
      "Printing new scores\n",
      "(0.7214664816856384, 483, [u'the', u'body'], 'score2')\n",
      "(0.8833646774291992, 483, [u'body'], 'score2')\n",
      "(0.8833646774291992, 483, '', 'score2')\n",
      "(1.0, 483, [u'body'], 'score1')\n",
      "(1.0, 483, [u'the', u'body'], 'score1')\n",
      "(1.0, 483, '', 'score1')\n",
      "Send back [{'n': 483, 'score': 1.0, 'ori': {'s': [u'body', u'fever'], 'n': 483}, 'mean': [u'temperature']}, {'n': 1203, 'score': 1.0, 'ori': {'s': [u'body', u'low', u'temperature'], 'n': 1203}, 'mean': [u'temperature']}, {'n': 1203, 'score': 0.8992505073547363, 'ori': {'s': [u'body', u'low', u'temperature'], 'n': 1203}, 'mean': [u'temperature']}, {'n': 483, 'score': 0.8833646774291992, 'ori': {'s': [u'body', u'fever'], 'n': 483}, 'mean': [u'temperature']}, {'n': 1184, 'score': 0.5592322736388464, 'ori': {'s': [u'body', u'low', u'growth'], 'n': 1184}, 'mean': [u'temperature']}, {'n': 608, 'score': 0.5126467943191528, 'ori': {'s': [u'body', u'elevated', u'sugar'], 'n': 608}, 'mean': [u'temperature']}, {'n': 1184, 'score': 0.5100991725921631, 'ori': {'s': [u'body', u'low', u'growth'], 'n': 1184}, 'mean': [u'temperature']}, {'n': 1706, 'score': 0.5025906117383936, 'ori': {'s': [u'testicles', u'reduction', u'in', u'size'], 'n': 1706}, 'mean': [u'temperature']}, {'n': 1114, 'score': 0.5025906117383936, 'ori': {'s': [u'penis', u'small', u'size'], 'n': 1114}, 'mean': [u'temperature']}, {'n': 1169, 'score': 0.46508777141571045, 'ori': {'s': [u'body', u'weight', u'gain'], 'n': 1169}, 'mean': [u'temperature']}]\n",
      "Send back <Response 2389 bytes [200 OK]>\n"
     ]
    },
    {
     "name": "stderr",
     "output_type": "stream",
     "text": [
      "127.0.0.1 - - [05/Apr/2019 10:47:17] \"OPTIONS /scnlp/getsymptom HTTP/1.0\" 200 -\n"
     ]
    },
    {
     "name": "stdout",
     "output_type": "stream",
     "text": [
      "Options response <Response 3 bytes [200 OK]>\n"
     ]
    },
    {
     "name": "stderr",
     "output_type": "stream",
     "text": [
      "127.0.0.1 - - [05/Apr/2019 10:47:19] \"POST /scnlp/getsymptom HTTP/1.0\" 200 -\n"
     ]
    },
    {
     "name": "stdout",
     "output_type": "stream",
     "text": [
      "Custom dict- 81\n",
      "Printing new scores\n",
      "Send back [{'n': 953, 'score': 0.916969358921051, 'ori': {'s': [u'right', u'hand', u'\"adherence\"', u'to', u'the', u'body'], 'n': 953}, 'mean': [u'hand', u'does', u'move']}, {'n': 948, 'score': 0.8885474801063538, 'ori': {'s': [u'left', u'hand', u'\"adherence\"', u'to', u'the', u'body'], 'n': 948}, 'mean': [u'hand', u'does', u'move']}, {'n': 953, 'score': 0.8314708557664947, 'ori': {'s': [u'right', u'hand', u'\"adherence\"', u'to', u'the', u'body'], 'n': 953}, 'mean': [u'hand', u'does', u'move']}, {'n': 948, 'score': 0.7976014125157768, 'ori': {'s': [u'left', u'hand', u'\"adherence\"', u'to', u'the', u'body'], 'n': 948}, 'mean': [u'hand', u'does', u'move']}, {'n': 841, 'score': 0.4408281147480011, 'ori': {'s': [u'right', u'eye', u'impossibility', u'to', u'open', u'an', u'eye'], 'n': 841}, 'mean': [u'hand', u'does', u'move']}, {'n': 833, 'score': 0.4321589767932892, 'ori': {'s': [u'left', u'eye', u'impossibility', u'to', u'open', u'an', u'eye'], 'n': 833}, 'mean': [u'hand', u'does', u'move']}, {'n': 1234, 'score': 0.42905929684638977, 'ori': {'s': [u'body', u'the', u'desire', u'is', u'chalk'], 'n': 1234}, 'mean': [u'hand', u'does', u'move']}, {'n': 1166, 'score': 0.3645257889305375, 'ori': {'s': [u'abdomen', u'from', u'the', u'navel', u'to', u'the', u'pubic', u'region', u'inability', u'to', u'become', u'pregnant'], 'n': 1166}, 'mean': [u'hand', u'does', u'move']}, {'n': 1234, 'score': 0.35837733061732957, 'ori': {'s': [u'body', u'the', u'desire', u'is', u'chalk'], 'n': 1234}, 'mean': [u'hand', u'does', u'move']}, {'n': 841, 'score': 0.3572761247852929, 'ori': {'s': [u'right', u'eye', u'impossibility', u'to', u'open', u'an', u'eye'], 'n': 841}, 'mean': [u'hand', u'does', u'move']}]\n",
      "Send back <Response 3419 bytes [200 OK]>\n"
     ]
    },
    {
     "name": "stderr",
     "output_type": "stream",
     "text": [
      "127.0.0.1 - - [05/Apr/2019 10:48:49] \"OPTIONS /scnlp/getsymptom HTTP/1.0\" 200 -\n"
     ]
    },
    {
     "name": "stdout",
     "output_type": "stream",
     "text": [
      "Options response <Response 3 bytes [200 OK]>\n",
      "Custom dict- 17\n"
     ]
    },
    {
     "name": "stderr",
     "output_type": "stream",
     "text": [
      "127.0.0.1 - - [05/Apr/2019 10:48:51] \"POST /scnlp/getsymptom HTTP/1.0\" 200 -\n"
     ]
    },
    {
     "name": "stdout",
     "output_type": "stream",
     "text": [
      "Printing new scores\n",
      "Send back [{'n': 1474, 'score': 0.6396573185920715, 'ori': {'s': [u'face', u'pain'], 'n': 1474}, 'mean': [u'painful', u'periods']}, {'n': 667, 'score': 0.6381360292434692, 'ori': {'s': [u'spine', u'pain'], 'n': 667}, 'mean': [u'painful', u'periods']}, {'n': 1621, 'score': 0.628909707069397, 'ori': {'s': [u'vagina', u'painful', u'menstruation'], 'n': 1621}, 'mean': [u'painful', u'periods']}, {'n': 656, 'score': 0.6229026317596436, 'ori': {'s': [u'sternum', u'pain'], 'n': 656}, 'mean': [u'painful', u'periods']}, {'n': 704, 'score': 0.6163702607154846, 'ori': {'s': [u'left', u'plus', u'pain'], 'n': 704}, 'mean': [u'painful', u'periods']}, {'n': 1621, 'score': 0.5940403200684227, 'ori': {'s': [u'vagina', u'painful', u'menstruation'], 'n': 1621}, 'mean': [u'painful', u'periods']}, {'n': 1323, 'score': 0.5298017700478422, 'ori': {'s': [u'abdomen', u'from', u'the', u'navel', u'to', u'the', u'pubic', u'region', u'periodic', u'pains'], 'n': 1323}, 'mean': [u'painful', u'periods']}, {'n': 1208, 'score': 0.5298017700478422, 'ori': {'s': [u'abdomen', u'from', u'the', u'navel', u'to', u'the', u'pubic', u'region', u'pain'], 'n': 1208}, 'mean': [u'painful', u'periods']}, {'n': 651, 'score': 0.524046161877094, 'ori': {'s': [u'lower', u'jaw', u'pain'], 'n': 651}, 'mean': [u'painful', u'periods']}, {'n': 1713, 'score': 0.5171502482185669, 'ori': {'s': [u'upper', u'eyelid', u'of', u'right', u'eye', u'pain'], 'n': 1713}, 'mean': [u'painful', u'periods']}]\n",
      "Send back <Response 2849 bytes [200 OK]>\n"
     ]
    },
    {
     "name": "stderr",
     "output_type": "stream",
     "text": [
      "127.0.0.1 - - [05/Apr/2019 10:48:55] \"OPTIONS /scnlp/getsymptom HTTP/1.0\" 200 -\n"
     ]
    },
    {
     "name": "stdout",
     "output_type": "stream",
     "text": [
      "Options response <Response 3 bytes [200 OK]>\n",
      "Custom dict- 12\n"
     ]
    },
    {
     "name": "stderr",
     "output_type": "stream",
     "text": [
      "127.0.0.1 - - [05/Apr/2019 10:48:57] \"POST /scnlp/getsymptom HTTP/1.0\" 200 -\n"
     ]
    },
    {
     "name": "stdout",
     "output_type": "stream",
     "text": [
      "Printing new scores\n",
      "(0.08147457242012024, 483, '', 'score2')\n",
      "(0.08147458522890502, 483, '', 'score1')\n",
      "Send back [{'n': 1622, 'score': 0.5279955267906189, 'ori': {'s': [u'vagina', u'absence', u'of', u'menstruation'], 'n': 1622}, 'mean': [u'menses']}, {'n': 1622, 'score': 0.5245021251676005, 'ori': {'s': [u'vagina', u'absence', u'of', u'menstruation'], 'n': 1622}, 'mean': [u'menses']}, {'n': 659, 'score': 0.4888486862182617, 'ori': {'s': [u'body', u'pallor'], 'n': 659}, 'mean': [u'menses']}, {'n': 1699, 'score': 0.4888486529351854, 'ori': {'s': [u'fingers', u'of', u'the', u'right', u'hand', u'pallor'], 'n': 1699}, 'mean': [u'menses']}, {'n': 1696, 'score': 0.4888486529351854, 'ori': {'s': [u'fingers', u'of', u'the', u'left', u'hand', u'pallor'], 'n': 1696}, 'mean': [u'menses']}, {'n': 1313, 'score': 0.4888486529351854, 'ori': {'s': [u'right', u'hand', u'pallor'], 'n': 1313}, 'mean': [u'menses']}, {'n': 1303, 'score': 0.4888486529351854, 'ori': {'s': [u'left', u'hand', u'pallor'], 'n': 1303}, 'mean': [u'menses']}, {'n': 1487, 'score': 0.45435062050819397, 'ori': {'s': [u'right', u'eye', u'strabismus'], 'n': 1487}, 'mean': [u'menses']}, {'n': 1537, 'score': 0.430106520652771, 'ori': {'s': [u'vagina', u'dryness'], 'n': 1537}, 'mean': [u'menses']}, {'n': 536, 'score': 0.4104711413383484, 'ori': {'s': [u'right', u'eye', u'lacrimation'], 'n': 536}, 'mean': [u'menses']}]\n",
      "Send back <Response 2522 bytes [200 OK]>\n"
     ]
    },
    {
     "name": "stderr",
     "output_type": "stream",
     "text": [
      "127.0.0.1 - - [05/Apr/2019 10:56:31] \"OPTIONS /scnlp/getsymptom HTTP/1.0\" 200 -\n"
     ]
    },
    {
     "name": "stdout",
     "output_type": "stream",
     "text": [
      "Options response <Response 3 bytes [200 OK]>\n"
     ]
    },
    {
     "name": "stderr",
     "output_type": "stream",
     "text": [
      "127.0.0.1 - - [05/Apr/2019 10:56:33] \"POST /scnlp/getsymptom HTTP/1.0\" 200 -\n"
     ]
    },
    {
     "name": "stdout",
     "output_type": "stream",
     "text": [
      "Custom dict- 11\n",
      "Printing new scores\n",
      "(0.4087260663509369, 483, [u'the', u'body'], 'score2')\n",
      "(0.6581173539161682, 483, [u'body'], 'score2')\n",
      "(0.6581173539161682, 483, '', 'score2')\n",
      "(0.6581173539161682, 483, '', 'score2')\n",
      "(0.6581173753181658, 483, [u'body'], 'score1')\n",
      "(0.6581173753181658, 483, [u'the', u'body'], 'score1')\n",
      "(0.6581173753181658, 483, '', 'score1')\n",
      "(0.6581173753181658, 483, '', 'score1')\n",
      "Send back [{'n': 540, 'score': 0.9999999999999999, 'ori': {'s': [u'stomach', u'vomiting'], 'n': 540}, 'mean': [u'vomiting']}, {'n': 540, 'score': 0.9205906987190247, 'ori': {'s': [u'stomach', u'vomiting'], 'n': 540}, 'mean': [u'vomiting']}, {'n': 539, 'score': 0.8836252898812911, 'ori': {'s': [u'stomach', u'nausea'], 'n': 539}, 'mean': [u'vomiting']}, {'n': 683, 'score': 0.8806384250969709, 'ori': {'s': [u'anus', u'diarrhea'], 'n': 683}, 'mean': [u'vomiting']}, {'n': 539, 'score': 0.8673571348190308, 'ori': {'s': [u'stomach', u'nausea'], 'n': 539}, 'mean': [u'vomiting']}, {'n': 614, 'score': 0.7990709992082429, 'ori': {'s': [u'head', u'dizziness'], 'n': 614}, 'mean': [u'vomiting']}, {'n': 683, 'score': 0.7856798768043518, 'ori': {'s': [u'anus', u'diarrhea'], 'n': 683}, 'mean': [u'vomiting']}, {'n': 682, 'score': 0.736559810617009, 'ori': {'s': [u'anus', u'constipation'], 'n': 682}, 'mean': [u'vomiting']}, {'n': 1080, 'score': 0.7204899191856384, 'ori': {'s': [u'body', u'dehydration'], 'n': 1080}, 'mean': [u'vomiting']}, {'n': 626, 'score': 0.7201075553894043, 'ori': {'s': [u'stomach', u'loss', u'of', u'appetite'], 'n': 626}, 'mean': [u'vomiting']}]\n",
      "Send back <Response 2266 bytes [200 OK]>\n"
     ]
    },
    {
     "name": "stderr",
     "output_type": "stream",
     "text": [
      "127.0.0.1 - - [05/Apr/2019 15:58:03] \"OPTIONS /scnlp/getsymptom HTTP/1.0\" 200 -\n"
     ]
    },
    {
     "name": "stdout",
     "output_type": "stream",
     "text": [
      "Options response <Response 3 bytes [200 OK]>\n"
     ]
    },
    {
     "name": "stderr",
     "output_type": "stream",
     "text": [
      "127.0.0.1 - - [05/Apr/2019 15:58:06] \"POST /scnlp/getsymptom HTTP/1.0\" 200 -\n"
     ]
    },
    {
     "name": "stdout",
     "output_type": "stream",
     "text": [
      "Custom dict- 11\n",
      "Printing new scores\n",
      "(0.4575174152851105, 483, [u'the', u'body'], 'score2')\n",
      "(0.6435675411666477, 483, [u'body'], 'score1')\n",
      "(0.6435675411666477, 483, [u'the', u'body'], 'score1')\n",
      "(0.6435675411666477, 483, '', 'score1')\n",
      "(0.6435675411666477, 483, '', 'score1')\n",
      "(0.6435675621032715, 483, [u'body'], 'score2')\n",
      "(0.6435675621032715, 483, '', 'score2')\n",
      "(0.6435675621032715, 483, '', 'score2')\n",
      "Send back [{'n': 556, 'score': 1.0, 'ori': {'s': [u'head', u'pain'], 'n': 556}, 'mean': [u'headache']}, {'n': 556, 'score': 0.9999999999999998, 'ori': {'s': [u'head', u'pain'], 'n': 556}, 'mean': [u'headache']}, {'n': 539, 'score': 0.729161130871945, 'ori': {'s': [u'stomach', u'nausea'], 'n': 539}, 'mean': [u'headache']}, {'n': 539, 'score': 0.7218495607376099, 'ori': {'s': [u'stomach', u'nausea'], 'n': 539}, 'mean': [u'headache']}, {'n': 1068, 'score': 0.6817685475966528, 'ori': {'s': [u'body', u'fatigue'], 'n': 1068}, 'mean': [u'headache']}, {'n': 664, 'score': 0.6817685475966528, 'ori': {'s': [u'body', u'fatigue'], 'n': 664}, 'mean': [u'headache']}, {'n': 1068, 'score': 0.681768536567688, 'ori': {'s': [u'body', u'fatigue'], 'n': 1068}, 'mean': [u'headache']}, {'n': 664, 'score': 0.681768536567688, 'ori': {'s': [u'body', u'fatigue'], 'n': 664}, 'mean': [u'headache']}, {'n': 614, 'score': 0.6800907847302761, 'ori': {'s': [u'head', u'dizziness'], 'n': 614}, 'mean': [u'headache']}, {'n': 540, 'score': 0.6780422329902649, 'ori': {'s': [u'stomach', u'vomiting'], 'n': 540}, 'mean': [u'headache']}]\n",
      "Send back <Response 2190 bytes [200 OK]>\n"
     ]
    },
    {
     "name": "stderr",
     "output_type": "stream",
     "text": [
      "127.0.0.1 - - [05/Apr/2019 16:02:07] \"OPTIONS /scnlp/getsymptom HTTP/1.0\" 200 -\n"
     ]
    },
    {
     "name": "stdout",
     "output_type": "stream",
     "text": [
      "Options response <Response 3 bytes [200 OK]>\n"
     ]
    },
    {
     "name": "stderr",
     "output_type": "stream",
     "text": [
      "127.0.0.1 - - [05/Apr/2019 16:02:08] \"POST /scnlp/getsymptom HTTP/1.0\" 200 -\n"
     ]
    },
    {
     "name": "stdout",
     "output_type": "stream",
     "text": [
      "Custom dict- 11\n",
      "Printing new scores\n",
      "(0.4575174152851105, 483, [u'the', u'body'], 'score2')\n",
      "(0.6435675411666477, 483, [u'body'], 'score1')\n",
      "(0.6435675411666477, 483, [u'the', u'body'], 'score1')\n",
      "(0.6435675411666477, 483, '', 'score1')\n",
      "(0.6435675411666477, 483, '', 'score1')\n",
      "(0.6435675621032715, 483, [u'body'], 'score2')\n",
      "(0.6435675621032715, 483, '', 'score2')\n",
      "(0.6435675621032715, 483, '', 'score2')\n",
      "Send back [{'n': 556, 'score': 1.0, 'ori': {'s': [u'head', u'pain'], 'n': 556}, 'mean': [u'headache']}, {'n': 556, 'score': 0.9999999999999998, 'ori': {'s': [u'head', u'pain'], 'n': 556}, 'mean': [u'headache']}, {'n': 539, 'score': 0.729161130871945, 'ori': {'s': [u'stomach', u'nausea'], 'n': 539}, 'mean': [u'headache']}, {'n': 539, 'score': 0.7218495607376099, 'ori': {'s': [u'stomach', u'nausea'], 'n': 539}, 'mean': [u'headache']}, {'n': 1068, 'score': 0.6817685475966528, 'ori': {'s': [u'body', u'fatigue'], 'n': 1068}, 'mean': [u'headache']}, {'n': 664, 'score': 0.6817685475966528, 'ori': {'s': [u'body', u'fatigue'], 'n': 664}, 'mean': [u'headache']}, {'n': 1068, 'score': 0.681768536567688, 'ori': {'s': [u'body', u'fatigue'], 'n': 1068}, 'mean': [u'headache']}, {'n': 664, 'score': 0.681768536567688, 'ori': {'s': [u'body', u'fatigue'], 'n': 664}, 'mean': [u'headache']}, {'n': 614, 'score': 0.6800907847302761, 'ori': {'s': [u'head', u'dizziness'], 'n': 614}, 'mean': [u'headache']}, {'n': 540, 'score': 0.6780422329902649, 'ori': {'s': [u'stomach', u'vomiting'], 'n': 540}, 'mean': [u'headache']}]\n",
      "Send back <Response 2190 bytes [200 OK]>\n"
     ]
    },
    {
     "name": "stderr",
     "output_type": "stream",
     "text": [
      "127.0.0.1 - - [08/Apr/2019 15:39:40] \"GET /scnlp/getsymptom HTTP/1.0\" 500 -\n",
      "Traceback (most recent call last):\n",
      "  File \"C:\\Users\\Administrator\\Anaconda2\\lib\\site-packages\\flask\\app.py\", line 2309, in __call__\n",
      "    return self.wsgi_app(environ, start_response)\n",
      "  File \"C:\\Users\\Administrator\\Anaconda2\\lib\\site-packages\\flask\\app.py\", line 2295, in wsgi_app\n",
      "    response = self.handle_exception(e)\n",
      "  File \"C:\\Users\\Administrator\\Anaconda2\\lib\\site-packages\\flask\\app.py\", line 1741, in handle_exception\n",
      "    reraise(exc_type, exc_value, tb)\n",
      "  File \"C:\\Users\\Administrator\\Anaconda2\\lib\\site-packages\\flask\\app.py\", line 2292, in wsgi_app\n",
      "    response = self.full_dispatch_request()\n",
      "  File \"C:\\Users\\Administrator\\Anaconda2\\lib\\site-packages\\flask\\app.py\", line 1815, in full_dispatch_request\n",
      "    rv = self.handle_user_exception(e)\n",
      "  File \"C:\\Users\\Administrator\\Anaconda2\\lib\\site-packages\\flask\\app.py\", line 1718, in handle_user_exception\n",
      "    reraise(exc_type, exc_value, tb)\n",
      "  File \"C:\\Users\\Administrator\\Anaconda2\\lib\\site-packages\\flask\\app.py\", line 1813, in full_dispatch_request\n",
      "    rv = self.dispatch_request()\n",
      "  File \"C:\\Users\\Administrator\\Anaconda2\\lib\\site-packages\\flask\\app.py\", line 1799, in dispatch_request\n",
      "    return self.view_functions[rule.endpoint](**req.view_args)\n",
      "  File \"<ipython-input-36-f0ca8193d0aa>\", line 20, in getSymptom\n",
      "    \n",
      "TypeError: 'NoneType' object has no attribute '__getitem__'\n",
      "127.0.0.1 - - [08/Apr/2019 17:56:36] \"OPTIONS /scnlp/getsymptom HTTP/1.0\" 200 -\n"
     ]
    },
    {
     "name": "stdout",
     "output_type": "stream",
     "text": [
      "Options response <Response 3 bytes [200 OK]>\n"
     ]
    },
    {
     "name": "stderr",
     "output_type": "stream",
     "text": [
      "127.0.0.1 - - [08/Apr/2019 17:56:39] \"POST /scnlp/getsymptom HTTP/1.0\" 200 -\n"
     ]
    },
    {
     "name": "stdout",
     "output_type": "stream",
     "text": [
      "Custom dict- 11\n",
      "Printing new scores\n",
      "(0.4575174152851105, 483, [u'the', u'body'], 'score2')\n",
      "(0.6435675411666477, 483, [u'body'], 'score1')\n",
      "(0.6435675411666477, 483, [u'the', u'body'], 'score1')\n",
      "(0.6435675411666477, 483, '', 'score1')\n",
      "(0.6435675411666477, 483, '', 'score1')\n",
      "(0.6435675621032715, 483, [u'body'], 'score2')\n",
      "(0.6435675621032715, 483, '', 'score2')\n",
      "(0.6435675621032715, 483, '', 'score2')\n",
      "Send back [{'n': 556, 'score': 1.0, 'ori': {'s': [u'head', u'pain'], 'n': 556}, 'mean': [u'headache']}, {'n': 556, 'score': 0.9999999999999998, 'ori': {'s': [u'head', u'pain'], 'n': 556}, 'mean': [u'headache']}, {'n': 539, 'score': 0.729161130871945, 'ori': {'s': [u'stomach', u'nausea'], 'n': 539}, 'mean': [u'headache']}, {'n': 539, 'score': 0.7218495607376099, 'ori': {'s': [u'stomach', u'nausea'], 'n': 539}, 'mean': [u'headache']}, {'n': 1068, 'score': 0.6817685475966528, 'ori': {'s': [u'body', u'fatigue'], 'n': 1068}, 'mean': [u'headache']}, {'n': 664, 'score': 0.6817685475966528, 'ori': {'s': [u'body', u'fatigue'], 'n': 664}, 'mean': [u'headache']}, {'n': 1068, 'score': 0.681768536567688, 'ori': {'s': [u'body', u'fatigue'], 'n': 1068}, 'mean': [u'headache']}, {'n': 664, 'score': 0.681768536567688, 'ori': {'s': [u'body', u'fatigue'], 'n': 664}, 'mean': [u'headache']}, {'n': 614, 'score': 0.6800907847302761, 'ori': {'s': [u'head', u'dizziness'], 'n': 614}, 'mean': [u'headache']}, {'n': 540, 'score': 0.6780422329902649, 'ori': {'s': [u'stomach', u'vomiting'], 'n': 540}, 'mean': [u'headache']}]\n",
      "Send back <Response 2190 bytes [200 OK]>\n"
     ]
    },
    {
     "name": "stderr",
     "output_type": "stream",
     "text": [
      "127.0.0.1 - - [10/Apr/2019 12:13:36] \"OPTIONS /scnlp/getsymptom HTTP/1.0\" 200 -\n"
     ]
    },
    {
     "name": "stdout",
     "output_type": "stream",
     "text": [
      "Options response <Response 3 bytes [200 OK]>\n"
     ]
    },
    {
     "name": "stderr",
     "output_type": "stream",
     "text": [
      "127.0.0.1 - - [10/Apr/2019 12:13:38] \"POST /scnlp/getsymptom HTTP/1.0\" 200 -\n"
     ]
    },
    {
     "name": "stdout",
     "output_type": "stream",
     "text": [
      "Custom dict- 11\n",
      "Printing new scores\n",
      "(0.4575174152851105, 483, [u'the', u'body'], 'score2')\n",
      "(0.6435675411666477, 483, [u'body'], 'score1')\n",
      "(0.6435675411666477, 483, [u'the', u'body'], 'score1')\n",
      "(0.6435675411666477, 483, '', 'score1')\n",
      "(0.6435675411666477, 483, '', 'score1')\n",
      "(0.6435675621032715, 483, [u'body'], 'score2')\n",
      "(0.6435675621032715, 483, '', 'score2')\n",
      "(0.6435675621032715, 483, '', 'score2')\n",
      "Send back [{'n': 556, 'score': 1.0, 'ori': {'s': [u'head', u'pain'], 'n': 556}, 'mean': [u'headache']}, {'n': 556, 'score': 0.9999999999999998, 'ori': {'s': [u'head', u'pain'], 'n': 556}, 'mean': [u'headache']}, {'n': 539, 'score': 0.729161130871945, 'ori': {'s': [u'stomach', u'nausea'], 'n': 539}, 'mean': [u'headache']}, {'n': 539, 'score': 0.7218495607376099, 'ori': {'s': [u'stomach', u'nausea'], 'n': 539}, 'mean': [u'headache']}, {'n': 1068, 'score': 0.6817685475966528, 'ori': {'s': [u'body', u'fatigue'], 'n': 1068}, 'mean': [u'headache']}, {'n': 664, 'score': 0.6817685475966528, 'ori': {'s': [u'body', u'fatigue'], 'n': 664}, 'mean': [u'headache']}, {'n': 1068, 'score': 0.681768536567688, 'ori': {'s': [u'body', u'fatigue'], 'n': 1068}, 'mean': [u'headache']}, {'n': 664, 'score': 0.681768536567688, 'ori': {'s': [u'body', u'fatigue'], 'n': 664}, 'mean': [u'headache']}, {'n': 614, 'score': 0.6800907847302761, 'ori': {'s': [u'head', u'dizziness'], 'n': 614}, 'mean': [u'headache']}, {'n': 540, 'score': 0.6780422329902649, 'ori': {'s': [u'stomach', u'vomiting'], 'n': 540}, 'mean': [u'headache']}]\n",
      "Send back <Response 2190 bytes [200 OK]>\n"
     ]
    },
    {
     "name": "stderr",
     "output_type": "stream",
     "text": [
      "127.0.0.1 - - [10/Apr/2019 12:13:50] \"OPTIONS /scnlp/getsymptom HTTP/1.0\" 200 -\n"
     ]
    },
    {
     "name": "stdout",
     "output_type": "stream",
     "text": [
      "Options response <Response 3 bytes [200 OK]>\n",
      "Custom dict- 17\n"
     ]
    },
    {
     "name": "stderr",
     "output_type": "stream",
     "text": [
      "127.0.0.1 - - [10/Apr/2019 12:13:51] \"POST /scnlp/getsymptom HTTP/1.0\" 200 -\n"
     ]
    },
    {
     "name": "stdout",
     "output_type": "stream",
     "text": [
      "Printing new scores\n",
      "Send back [{'n': 1248, 'score': 1.0, 'ori': {'s': [u'neck', u'pain'], 'n': 1248}, 'mean': [u'throat', u'pain']}, {'n': 1248, 'score': 1.0, 'ori': {'s': [u'neck', u'pain'], 'n': 1248}, 'mean': [u'throat', u'pain']}, {'n': 687, 'score': 0.9262512922286987, 'ori': {'s': [u'rib', u'cage', u'pain'], 'n': 687}, 'mean': [u'throat', u'pain']}, {'n': 1211, 'score': 0.9227994084358215, 'ori': {'s': [u'nose', u'pain'], 'n': 1211}, 'mean': [u'throat', u'pain']}, {'n': 541, 'score': 0.9203109741210938, 'ori': {'s': [u'stomach', u'pain'], 'n': 541}, 'mean': [u'throat', u'pain']}, {'n': 1594, 'score': 0.9151918292045593, 'ori': {'s': [u'forehead', u'pain'], 'n': 1594}, 'mean': [u'throat', u'pain']}, {'n': 1419, 'score': 0.8589685759480351, 'ori': {'s': [u'right', u'breast', u'/', u'mammary', u'gland', u'pain'], 'n': 1419}, 'mean': [u'throat', u'pain']}, {'n': 687, 'score': 0.8589685759480351, 'ori': {'s': [u'rib', u'cage', u'pain'], 'n': 687}, 'mean': [u'throat', u'pain']}, {'n': 1211, 'score': 0.8564826254086734, 'ori': {'s': [u'nose', u'pain'], 'n': 1211}, 'mean': [u'throat', u'pain']}, {'n': 541, 'score': 0.8478736542828579, 'ori': {'s': [u'stomach', u'pain'], 'n': 541}, 'mean': [u'throat', u'pain']}]\n",
      "Send back <Response 2428 bytes [200 OK]>\n"
     ]
    },
    {
     "name": "stderr",
     "output_type": "stream",
     "text": [
      "127.0.0.1 - - [10/Apr/2019 12:17:25] \"OPTIONS /scnlp/getsymptom HTTP/1.0\" 200 -\n"
     ]
    },
    {
     "name": "stdout",
     "output_type": "stream",
     "text": [
      "Options response <Response 3 bytes [200 OK]>\n"
     ]
    },
    {
     "name": "stderr",
     "output_type": "stream",
     "text": [
      "127.0.0.1 - - [10/Apr/2019 12:17:27] \"POST /scnlp/getsymptom HTTP/1.0\" 200 -\n"
     ]
    },
    {
     "name": "stdout",
     "output_type": "stream",
     "text": [
      "Custom dict- 19\n",
      "Printing new scores\n",
      "Send back [{'n': 624, 'score': 1.0000001192092896, 'ori': {'s': [u'leather', u'icterus'], 'n': 624}, 'mean': [u'yellow', u'skin']}, {'n': 624, 'score': 1.0, 'ori': {'s': [u'leather', u'icterus'], 'n': 624}, 'mean': [u'yellow', u'skin']}, {'n': 1468, 'score': 0.737990140914917, 'ori': {'s': [u'body', u'white', u'nodules', u'over', u'the', u'joints'], 'n': 1468}, 'mean': [u'yellow', u'skin']}, {'n': 1251, 'score': 0.6892220377922058, 'ori': {'s': [u'urethra', u'dark', u'urine'], 'n': 1251}, 'mean': [u'yellow', u'skin']}, {'n': 1468, 'score': 0.6291971826663686, 'ori': {'s': [u'body', u'white', u'nodules', u'over', u'the', u'joints'], 'n': 1468}, 'mean': [u'yellow', u'skin']}, {'n': 1251, 'score': 0.5545158450430875, 'ori': {'s': [u'urethra', u'dark', u'urine'], 'n': 1251}, 'mean': [u'yellow', u'skin']}, {'n': 1227, 'score': 0.4491651654243469, 'ori': {'s': [u'leather', u'stretched', u'shiny', u'skin'], 'n': 1227}, 'mean': [u'yellow', u'skin']}, {'n': 1452, 'score': 0.4472886621952057, 'ori': {'s': [u'leather', u'bronze', u'skin', u'color'], 'n': 1452}, 'mean': [u'yellow', u'skin']}, {'n': 1452, 'score': 0.40139048540121075, 'ori': {'s': [u'leather', u'bronze', u'skin', u'color'], 'n': 1452}, 'mean': [u'yellow', u'skin']}, {'n': 1227, 'score': 0.38104013047979596, 'ori': {'s': [u'leather', u'stretched', u'shiny', u'skin'], 'n': 1227}, 'mean': [u'yellow', u'skin']}]\n",
      "Send back <Response 2724 bytes [200 OK]>\n"
     ]
    },
    {
     "name": "stderr",
     "output_type": "stream",
     "text": [
      "127.0.0.1 - - [10/Apr/2019 12:23:09] \"GET /scnlp/getsymptom HTTP/1.0\" 500 -\n",
      "Traceback (most recent call last):\n",
      "  File \"C:\\Users\\Administrator\\Anaconda2\\lib\\site-packages\\flask\\app.py\", line 2309, in __call__\n",
      "    return self.wsgi_app(environ, start_response)\n",
      "  File \"C:\\Users\\Administrator\\Anaconda2\\lib\\site-packages\\flask\\app.py\", line 2295, in wsgi_app\n",
      "    response = self.handle_exception(e)\n",
      "  File \"C:\\Users\\Administrator\\Anaconda2\\lib\\site-packages\\flask\\app.py\", line 1741, in handle_exception\n",
      "    reraise(exc_type, exc_value, tb)\n",
      "  File \"C:\\Users\\Administrator\\Anaconda2\\lib\\site-packages\\flask\\app.py\", line 2292, in wsgi_app\n",
      "    response = self.full_dispatch_request()\n",
      "  File \"C:\\Users\\Administrator\\Anaconda2\\lib\\site-packages\\flask\\app.py\", line 1815, in full_dispatch_request\n",
      "    rv = self.handle_user_exception(e)\n",
      "  File \"C:\\Users\\Administrator\\Anaconda2\\lib\\site-packages\\flask\\app.py\", line 1718, in handle_user_exception\n",
      "    reraise(exc_type, exc_value, tb)\n",
      "  File \"C:\\Users\\Administrator\\Anaconda2\\lib\\site-packages\\flask\\app.py\", line 1813, in full_dispatch_request\n",
      "    rv = self.dispatch_request()\n",
      "  File \"C:\\Users\\Administrator\\Anaconda2\\lib\\site-packages\\flask\\app.py\", line 1799, in dispatch_request\n",
      "    return self.view_functions[rule.endpoint](**req.view_args)\n",
      "  File \"<ipython-input-36-f0ca8193d0aa>\", line 20, in getSymptom\n",
      "    \n",
      "TypeError: 'NoneType' object has no attribute '__getitem__'\n",
      "127.0.0.1 - - [10/Apr/2019 13:43:46] \"OPTIONS /scnlp/getsymptom HTTP/1.0\" 200 -\n"
     ]
    },
    {
     "name": "stdout",
     "output_type": "stream",
     "text": [
      "Options response <Response 3 bytes [200 OK]>\n"
     ]
    },
    {
     "name": "stderr",
     "output_type": "stream",
     "text": [
      "127.0.0.1 - - [10/Apr/2019 13:43:48] \"POST /scnlp/getsymptom HTTP/1.0\" 200 -\n"
     ]
    },
    {
     "name": "stdout",
     "output_type": "stream",
     "text": [
      "Send back []\n",
      "Send back <Response 19 bytes [200 OK]>\n"
     ]
    },
    {
     "name": "stderr",
     "output_type": "stream",
     "text": [
      "127.0.0.1 - - [10/Apr/2019 15:07:35] \"OPTIONS /scnlp/getsymptom HTTP/1.0\" 200 -\n"
     ]
    },
    {
     "name": "stdout",
     "output_type": "stream",
     "text": [
      "Options response <Response 3 bytes [200 OK]>\n"
     ]
    },
    {
     "name": "stderr",
     "output_type": "stream",
     "text": [
      "127.0.0.1 - - [10/Apr/2019 15:07:38] \"POST /scnlp/getsymptom HTTP/1.0\" 200 -\n"
     ]
    },
    {
     "name": "stdout",
     "output_type": "stream",
     "text": [
      "Send back []\n",
      "Send back <Response 19 bytes [200 OK]>\n"
     ]
    },
    {
     "name": "stderr",
     "output_type": "stream",
     "text": [
      "127.0.0.1 - - [10/Apr/2019 15:07:42] \"OPTIONS /scnlp/getsymptom HTTP/1.0\" 200 -\n"
     ]
    },
    {
     "name": "stdout",
     "output_type": "stream",
     "text": [
      "Options response <Response 3 bytes [200 OK]>\n"
     ]
    },
    {
     "name": "stderr",
     "output_type": "stream",
     "text": [
      "127.0.0.1 - - [10/Apr/2019 15:07:43] \"POST /scnlp/getsymptom HTTP/1.0\" 200 -\n"
     ]
    },
    {
     "name": "stdout",
     "output_type": "stream",
     "text": [
      "Send back []\n",
      "Send back <Response 19 bytes [200 OK]>\n"
     ]
    },
    {
     "name": "stderr",
     "output_type": "stream",
     "text": [
      "127.0.0.1 - - [10/Apr/2019 15:07:50] \"OPTIONS /scnlp/getsymptom HTTP/1.0\" 200 -\n"
     ]
    },
    {
     "name": "stdout",
     "output_type": "stream",
     "text": [
      "Options response <Response 3 bytes [200 OK]>\n"
     ]
    },
    {
     "name": "stderr",
     "output_type": "stream",
     "text": [
      "127.0.0.1 - - [10/Apr/2019 15:07:51] \"POST /scnlp/getsymptom HTTP/1.0\" 200 -\n"
     ]
    },
    {
     "name": "stdout",
     "output_type": "stream",
     "text": [
      "Send back []\n",
      "Send back <Response 19 bytes [200 OK]>\n"
     ]
    },
    {
     "name": "stderr",
     "output_type": "stream",
     "text": [
      "127.0.0.1 - - [10/Apr/2019 15:07:52] \"OPTIONS /scnlp/getsymptom HTTP/1.0\" 200 -\n"
     ]
    },
    {
     "name": "stdout",
     "output_type": "stream",
     "text": [
      "Options response <Response 3 bytes [200 OK]>\n"
     ]
    },
    {
     "name": "stderr",
     "output_type": "stream",
     "text": [
      "127.0.0.1 - - [10/Apr/2019 15:07:53] \"POST /scnlp/getsymptom HTTP/1.0\" 200 -\n"
     ]
    },
    {
     "name": "stdout",
     "output_type": "stream",
     "text": [
      "Send back []\n",
      "Send back <Response 19 bytes [200 OK]>\n"
     ]
    },
    {
     "name": "stderr",
     "output_type": "stream",
     "text": [
      "127.0.0.1 - - [10/Apr/2019 15:08:00] \"OPTIONS /scnlp/getsymptom HTTP/1.0\" 200 -\n"
     ]
    },
    {
     "name": "stdout",
     "output_type": "stream",
     "text": [
      "Options response <Response 3 bytes [200 OK]>\n"
     ]
    },
    {
     "name": "stderr",
     "output_type": "stream",
     "text": [
      "127.0.0.1 - - [10/Apr/2019 15:08:01] \"POST /scnlp/getsymptom HTTP/1.0\" 200 -\n"
     ]
    },
    {
     "name": "stdout",
     "output_type": "stream",
     "text": [
      "Send back []\n",
      "Send back <Response 19 bytes [200 OK]>\n"
     ]
    },
    {
     "name": "stderr",
     "output_type": "stream",
     "text": [
      "127.0.0.1 - - [11/Apr/2019 11:08:44] \"OPTIONS /scnlp/getsymptom HTTP/1.0\" 200 -\n"
     ]
    },
    {
     "name": "stdout",
     "output_type": "stream",
     "text": [
      "Options response <Response 3 bytes [200 OK]>\n"
     ]
    },
    {
     "name": "stderr",
     "output_type": "stream",
     "text": [
      "127.0.0.1 - - [11/Apr/2019 11:08:46] \"POST /scnlp/getsymptom HTTP/1.0\" 200 -\n"
     ]
    },
    {
     "name": "stdout",
     "output_type": "stream",
     "text": [
      "Custom dict- 69\n",
      "Printing new scores\n",
      "(0.1990999740710875, 483, '', 'score1')\n",
      "(0.2641348499797784, 483, [u'body'], 'score1')\n",
      "(0.2990705260079068, 483, [u'the', u'body'], 'score1')\n",
      "(0.39371174573898315, 483, [u'body'], 'score2')\n",
      "(0.39371174573898315, 483, '', 'score2')\n",
      "(0.5135736465454102, 483, [u'the', u'body'], 'score2')\n",
      "Send back [{'n': 933, 'score': 0.5936790704727173, 'ori': {'s': [u'body', u'gait', u'change'], 'n': 933}, 'mean': [u'\\\\', u'change']}, {'n': 1544, 'score': 0.5925167798995972, 'ori': {'s': [u'right', u'eye', u'obstruction', u'of', u'closing'], 'n': 1544}, 'mean': [u'\\\\', u'change']}, {'n': 1383, 'score': 0.5830599665641785, 'ori': {'s': [u'head', u'decreased', u'learning'], 'n': 1383}, 'mean': [u'\\\\', u'change']}, {'n': 1250, 'score': 0.5765465497970581, 'ori': {'s': [u'right', u'side', u'heaviness'], 'n': 1250}, 'mean': [u'\\\\', u'change']}, {'n': 1199, 'score': 0.5714797377586365, 'ori': {'s': [u'head', u'slowing', u'of', u'thinking'], 'n': 1199}, 'mean': [u'\\\\', u'change']}, {'n': 1629, 'score': 0.4607804860905902, 'ori': {'s': [u'the', u'thumb', u'of', u'the', u'right', u'hand', u'bending', u'difficulty'], 'n': 1629}, 'mean': [u'\\\\', u'change']}, {'n': 1628, 'score': 0.4607804860905902, 'ori': {'s': [u'the', u'thumb', u'of', u'the', u'left', u'hand', u'bending', u'difficulty'], 'n': 1628}, 'mean': [u'\\\\', u'change']}, {'n': 608, 'score': 0.4274218466321724, 'ori': {'s': [u'body', u'elevated', u'sugar'], 'n': 608}, 'mean': [u'\\\\', u'change']}, {'n': 3000, 'score': 0.4199737898445473, 'ori': {'s': [u'rib', u'cage', u'slow', u'heart', u'rate'], 'n': 3000}, 'mean': [u'\\\\', u'change']}, {'n': 1706, 'score': 0.3770417331333418, 'ori': {'s': [u'testicles', u'reduction', u'in', u'size'], 'n': 1706}, 'mean': [u'\\\\', u'change']}]\n",
      "Send back <Response 2866 bytes [200 OK]>\n"
     ]
    }
   ],
   "source": [
    "from flask import Flask, request, jsonify, Response, make_response\n",
    "\n",
    "app = Flask(__name__)\n",
    "\n",
    "@app.route('/scnlp/getsymptom', methods=['OPTIONS'])\n",
    "def getSymptom_OPTIONS():\n",
    "    #resp = Response(status=200)\n",
    "    resp = make_response('200')\n",
    "    resp.headers['Access-Control-Allow-Origin'] = '*'\n",
    "    resp.headers['access-control-allow-origin'] = '*'\n",
    "    resp.headers['access-control-allow-headers'] = 'access-control-allow-headers,access-control-allow-origin,content-type'\n",
    "    resp.headers['content-type']=\"application/json\"\n",
    "    resp.headers['access-control-allow-methods']='GET,POST,OPTIONS'\n",
    "    print \"Options response\", resp\n",
    "    return resp\n",
    "\n",
    "@app.route('/scnlp/getsymptom', methods=['GET', 'POST'])\n",
    "def getSymptom():\n",
    "    \n",
    "    query = request.json['query']\n",
    "    result = processQuery(query)\n",
    "    print \"Send back\", result\n",
    "    #resp = Response(response=jsonify({'result': result}))\n",
    "    resp = make_response(jsonify({'result': result}));\n",
    "    resp.headers['Access-Control-Allow-Origin'] = '*'\n",
    "    #resp.headers['access-control-allow-origin'] = '*'\n",
    "    resp.headers['access-control-allow-headers'] = 'access-control-allow-headers,access-control-allow-origin,content-type'\n",
    "    resp.headers['content-type']=\"application/json\"\n",
    "    resp.headers['access-control-allow-methods']='GET,POST,OPTIONS'\n",
    "    print \"Send back\", resp\n",
    "    return resp\n",
    "\n",
    "@app.route('/scnlp/sample', methods=['GET'])\n",
    "def getSample():\n",
    "    return jsonify({'result': processQuery(\"боль в груди\")})\n",
    "\n",
    "@app.route('/scnlp/check', methods=['GET'])\n",
    "def check():\n",
    "    return jsonify({'result': \"Running OK\"})\n",
    "\n",
    "@app.route('/scnlp/sent', methods=['POST'])\n",
    "def getSentAPI():\n",
    "    query = request.json['query']\n",
    "    ss = request.json['ss']\n",
    "    t, s = getSent(query, ss)\n",
    "    print t,s\n",
    "    return jsonify({\"type\": t, \"sent\":s})\n",
    "\n",
    "if __name__ == '__main__':\n",
    "    #app.run(debug=True, port=8881, use_reloader=False)\n",
    "    #app.run(debug=True, host=\"18.130.233.224\", port=8881, use_reloader=False)\n",
    "    app.run(debug=True, host=\"localhost\", port=8881, use_reloader=False)"
   ]
  },
  {
   "cell_type": "code",
   "execution_count": null,
   "metadata": {},
   "outputs": [],
   "source": []
  },
  {
   "cell_type": "code",
   "execution_count": null,
   "metadata": {},
   "outputs": [],
   "source": []
  },
  {
   "cell_type": "code",
   "execution_count": null,
   "metadata": {},
   "outputs": [],
   "source": []
  }
 ],
 "metadata": {
  "anaconda-cloud": {},
  "kernelspec": {
   "display_name": "Python 2",
   "language": "python",
   "name": "python2"
  },
  "language_info": {
   "codemirror_mode": {
    "name": "ipython",
    "version": 2
   },
   "file_extension": ".py",
   "mimetype": "text/x-python",
   "name": "python",
   "nbconvert_exporter": "python",
   "pygments_lexer": "ipython2",
   "version": "2.7.15"
  }
 },
 "nbformat": 4,
 "nbformat_minor": 1
}
